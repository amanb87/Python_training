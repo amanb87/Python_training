{
 "cells": [
  {
   "cell_type": "markdown",
   "id": "be21787c",
   "metadata": {},
   "source": [
    "1. More about unpacking\n",
    "2. Functions contd.\n",
    "3. Nested Statements and Scope\n",
    "4. Introduction and Pillars of OOP’s, Attributes and Class Keyword, Class Object Attributes and Methods\n",
    "5. Objects and Constructors\n",
    "6. Inheritance, Polymorphism, Encapsulation and Abstraction\n",
    "7. Working with Files\n",
    "8. Reading and writing files, buffered read and write and other file methods\n",
    "9. Logging and Debugger\n",
    "10. Pip Install and PyPi, Modules and Packages, __name__ and \"__main__\"\n",
    "11. Errors and Exception Handling- Try, except and finally\n",
    "12. Pylint Overview\n",
    "13. Running tests with the Unittest Library\n",
    "14. Python Decorators, Generators, and iterators\n",
    "15. Collections: namedtuple(), deque, ChainMap, Counter, OrderedDict, defaultdict, UserDict, UserList, Counter, OrderedDict\n",
    "16. SQL Database management\n",
    "17. Basics of SQL\n",
    "18. Clause and condition\n",
    "19. Writing SQL queries\n",
    "20. Joins\n",
    "21. Hands On Project – Car Rental System (Database creation andquerying with MySQL)"
   ]
  },
  {
   "cell_type": "code",
   "execution_count": 13,
   "id": "ca044d3d",
   "metadata": {},
   "outputs": [],
   "source": [
    "def foo(required, *args, **kwargs):\n",
    "    print(required)\n",
    "    if args:\n",
    "        print(args)\n",
    "    if kwargs:\n",
    "        print(kwargs)"
   ]
  },
  {
   "cell_type": "code",
   "execution_count": 14,
   "id": "d15e52ac",
   "metadata": {},
   "outputs": [
    {
     "name": "stdout",
     "output_type": "stream",
     "text": [
      "hello\n"
     ]
    }
   ],
   "source": [
    "foo('hello')"
   ]
  },
  {
   "cell_type": "code",
   "execution_count": 15,
   "id": "ca5db61a",
   "metadata": {},
   "outputs": [
    {
     "name": "stdout",
     "output_type": "stream",
     "text": [
      "hello\n",
      "(1, 2, 3)\n"
     ]
    }
   ],
   "source": [
    "foo('hello', 1,2,3)"
   ]
  },
  {
   "cell_type": "code",
   "execution_count": 16,
   "id": "b4ac49a3",
   "metadata": {},
   "outputs": [
    {
     "name": "stdout",
     "output_type": "stream",
     "text": [
      "hello\n",
      "(1, 2, 3)\n",
      "{'val': 'world', 'bar': 'foobar'}\n"
     ]
    }
   ],
   "source": [
    "foo('hello', 1,2,3, val=\"world\", bar=\"foobar\")"
   ]
  },
  {
   "cell_type": "code",
   "execution_count": 32,
   "id": "44566821",
   "metadata": {},
   "outputs": [],
   "source": [
    "def print_fancy(x,y,z):\n",
    "    return '==>[{0},{1},{2}]<==='.format(x,y,z)"
   ]
  },
  {
   "cell_type": "code",
   "execution_count": 33,
   "id": "826cdda5",
   "metadata": {},
   "outputs": [
    {
     "data": {
      "text/plain": [
       "'==>[1,2,3]<==='"
      ]
     },
     "execution_count": 33,
     "metadata": {},
     "output_type": "execute_result"
    }
   ],
   "source": [
    "t = (1,2,3)\n",
    "print_fancy(*t)"
   ]
  },
  {
   "cell_type": "code",
   "execution_count": 57,
   "id": "885670f3",
   "metadata": {},
   "outputs": [],
   "source": [
    "b = 1 #global scope\n",
    "\n",
    "def add(num1, num2):     \n",
    "    result = num1+num2\n",
    "    c = b + 1\n",
    "    print(c)\n",
    "    return result, c\n",
    "\n",
    "def test():\n",
    "    return b\n",
    "\n"
   ]
  },
  {
   "cell_type": "code",
   "execution_count": 5,
   "id": "46616fa1",
   "metadata": {},
   "outputs": [
    {
     "name": "stdout",
     "output_type": "stream",
     "text": [
      "200\n",
      "300\n"
     ]
    }
   ],
   "source": [
    "x = 300 #global\n",
    "\n",
    "def myfunc():\n",
    "    x = 200  #local\n",
    "    print(x)\n",
    "\n",
    "myfunc()\n",
    "\n",
    "print(x)"
   ]
  },
  {
   "cell_type": "code",
   "execution_count": 6,
   "id": "ac7f7e79",
   "metadata": {},
   "outputs": [
    {
     "name": "stdout",
     "output_type": "stream",
     "text": [
      "300\n"
     ]
    }
   ],
   "source": [
    "def myfunc():\n",
    "    global x\n",
    "    x = 300\n",
    "\n",
    "myfunc()\n",
    "\n",
    "print(x)"
   ]
  },
  {
   "cell_type": "code",
   "execution_count": 7,
   "id": "cf7d0d64",
   "metadata": {},
   "outputs": [
    {
     "name": "stdout",
     "output_type": "stream",
     "text": [
      "200\n"
     ]
    }
   ],
   "source": [
    "x = 300\n",
    "\n",
    "def myfunc():\n",
    "    global x\n",
    "    x = 200\n",
    "\n",
    "myfunc()\n",
    "\n",
    "print(x)"
   ]
  },
  {
   "cell_type": "markdown",
   "id": "a659973e",
   "metadata": {},
   "source": [
    "<h2>Classes and Object Oriented programming</h2>\n",
    "\n",
    "One of the popular approaches to solve a programming problem is by creating objects. This is known as Object-Oriented Programming (OOP).\n",
    "\n",
    "An object has two characteristics:\n",
    "\n",
    "- attributes\n",
    "- behavior\n",
    "\n",
    "A car is an object, as it has the following properties:\n",
    "\n",
    "==> _model_, _color_, _mileage_, _top speed_ as attributes\n",
    "\n",
    "==> start, drive, stop  as behavior\n",
    "\n",
    "------------------------------------------------------------\n",
    "- A class is like a blueprint while an instance is a copy of the class with actual values. An object is an instance of a class\n",
    "- A class is initialized with the \"class\" keyword and a class name.\n",
    "- The \"__init__\" function is called the constructor and is used to define attributes for the class\n",
    "- The methods in a class are called class methods. We must specify the \"self\" (named by convention) word as the first argument for all class method definitions."
   ]
  },
  {
   "cell_type": "code",
   "execution_count": 50,
   "id": "b978b217",
   "metadata": {},
   "outputs": [
    {
     "name": "stdout",
     "output_type": "stream",
     "text": [
      "Hello, my name is John and I am 36 years old\n"
     ]
    }
   ],
   "source": [
    "class Person:\n",
    " \n",
    "    # init method or constructor\n",
    "    def __init__(self, name, age):\n",
    "        self.name = name\n",
    "        self.age = age\n",
    " \n",
    "    # Sample Method\n",
    "    def say_hi(self):\n",
    "        print(f'Hello, my name is {self.name} and I am {self.age} years old')\n",
    "        \n",
    "    def test(self):\n",
    "        self.say_hi()\n",
    "        \n",
    "    \n",
    "p = Person('John', 36)\n",
    "p.say_hi()"
   ]
  },
  {
   "cell_type": "code",
   "execution_count": 51,
   "id": "3d09926a",
   "metadata": {},
   "outputs": [],
   "source": [
    "p.age = 50"
   ]
  },
  {
   "cell_type": "code",
   "execution_count": 52,
   "id": "702532bf",
   "metadata": {},
   "outputs": [
    {
     "data": {
      "text/plain": [
       "50"
      ]
     },
     "execution_count": 52,
     "metadata": {},
     "output_type": "execute_result"
    }
   ],
   "source": [
    "p.age"
   ]
  },
  {
   "cell_type": "code",
   "execution_count": 58,
   "id": "7b834fae",
   "metadata": {},
   "outputs": [
    {
     "name": "stdout",
     "output_type": "stream",
     "text": [
      "Blue\n",
      "car\n",
      "Tata Nexon is a car and its color is Blue\n"
     ]
    }
   ],
   "source": [
    "class Car:\n",
    " \n",
    "    # Class Variable\n",
    "    vehicle = 'car'\n",
    " \n",
    "    # The init method or constructor\n",
    "    def __init__(self, model):\n",
    " \n",
    "        # Instance Variable or attribute\n",
    "        self.model = model\n",
    " \n",
    "    # Adds an instance variable\n",
    "    def setColor(self, color):\n",
    "        self.color = color\n",
    " \n",
    "    # Retrieves instance variable\n",
    "    def getColor(self):\n",
    "        return self.color\n",
    " \n",
    " \n",
    "# Create an object of the class. Also called object instantiation\n",
    "car_obj = Car(\"Tata Nexon\")\n",
    "\n",
    "#call class method setColor to set a color for the car\n",
    "car_obj.setColor(\"Blue\") \n",
    "\n",
    "print(car_obj.getColor())\n",
    "print(car_obj.vehicle)\n",
    "print(f\"{car_obj.model} is a {car_obj.vehicle} and its color is {car_obj.getColor()}\")"
   ]
  },
  {
   "cell_type": "code",
   "execution_count": 95,
   "id": "a4281df9",
   "metadata": {},
   "outputs": [
    {
     "data": {
      "text/plain": [
       "'No pizza can be delivered as no flavour or invalid flavour specified'"
      ]
     },
     "execution_count": 95,
     "metadata": {},
     "output_type": "execute_result"
    }
   ],
   "source": [
    "class Pizza:\n",
    "    \n",
    "    def __init__(self, pizza_flavour, extra_toppings=None):\n",
    "        self.pizza_flavour = pizza_flavour\n",
    "        self.extra_toppings = extra_toppings\n",
    "        self.pizza = {}\n",
    "        \n",
    "    def add_toppings(self):\n",
    "        if self.pizza_flavour == \"veggie_delight\":\n",
    "            self.pizza[\"veggie_delight\"] = [\"mushroom\", \"capsicum\", \"tomato\", \"onion\"]\n",
    "        elif self.pizza_flavour == \"chicken_barbeque\":\n",
    "            self.pizza[\"chicken_barbeque\"] = [\"chicken\", \"ham\", \"tomato\", \"onion\"]\n",
    "        else:\n",
    "            self.pizza = {}\n",
    "        return self.pizza\n",
    "    \n",
    "    def add_extra_toppings(self):\n",
    "        self.pizza[self.pizza_flavour].append(self.extra_toppings)\n",
    "        \n",
    "    def deliver_pizza(self):\n",
    "        pizza_with_toppings = self.add_toppings() #{}\n",
    "        if not pizza_with_toppings:\n",
    "            return \"No pizza can be delivered as no flavour or invalid flavour specified\"\n",
    "        if self.extra_toppings:\n",
    "            self.add_extra_toppings()\n",
    "        return self.pizza\n",
    "    \n",
    "pizza_obj = Pizza(pizza_flavour=\"sfd\")\n",
    "pizza_obj.deliver_pizza()\n",
    "            "
   ]
  },
  {
   "cell_type": "code",
   "execution_count": 96,
   "id": "1b8f5c7c",
   "metadata": {},
   "outputs": [
    {
     "data": {
      "text/plain": [
       "'sfd'"
      ]
     },
     "execution_count": 96,
     "metadata": {},
     "output_type": "execute_result"
    }
   ],
   "source": [
    "pizza_obj.pizza_flavour"
   ]
  },
  {
   "cell_type": "code",
   "execution_count": 73,
   "id": "392bcd94",
   "metadata": {},
   "outputs": [
    {
     "data": {
      "text/plain": [
       "False"
      ]
     },
     "execution_count": 73,
     "metadata": {},
     "output_type": "execute_result"
    }
   ],
   "source": [
    "bool(tuple())"
   ]
  },
  {
   "cell_type": "code",
   "execution_count": 94,
   "id": "407cc246",
   "metadata": {},
   "outputs": [
    {
     "name": "stdout",
     "output_type": "stream",
     "text": [
      "dicntionary is empty\n"
     ]
    }
   ],
   "source": [
    "if(not {}):\n",
    "    print(\"dicntionary is empty\")"
   ]
  },
  {
   "cell_type": "code",
   "execution_count": 77,
   "id": "538bc692",
   "metadata": {},
   "outputs": [
    {
     "name": "stdout",
     "output_type": "stream",
     "text": [
      "List is empty\n"
     ]
    }
   ],
   "source": [
    "if len([]) == 0:\n",
    "    print(\"List is empty\")"
   ]
  },
  {
   "cell_type": "code",
   "execution_count": 110,
   "id": "1e2937df",
   "metadata": {},
   "outputs": [
    {
     "name": "stdout",
     "output_type": "stream",
     "text": [
      "2\n"
     ]
    },
    {
     "data": {
      "text/plain": [
       "9"
      ]
     },
     "execution_count": 110,
     "metadata": {},
     "output_type": "execute_result"
    }
   ],
   "source": [
    "#Calculator\n",
    "\n",
    "import math\n",
    "\n",
    "class Calculator:\n",
    "    \n",
    "    def __init__(self, operation, *args):\n",
    "        self.operation = operation\n",
    "        self.args = args\n",
    "\n",
    "    def add(self):\n",
    "        return sum(self.args)\n",
    "\n",
    "\n",
    "#     def subtract(self):\n",
    "#         difference = args[0] - args[1]\n",
    "#         return difference\n",
    "\n",
    "#     def divide(self, *args):    \n",
    "#         return args[0]/args[1]/args[2]\n",
    "\n",
    "    def multiply(self):  \n",
    "        return math.prod(self.args)\n",
    "\n",
    "#     def get_percentage(self, num1):\n",
    "\n",
    "#         return f'{round((num1/100) * 100)}%'\n",
    "\n",
    "#     def get_remainder(self, num1, num2):\n",
    "#         return num1%num2\n",
    "\n",
    "#     def power(self, base, exponent):\n",
    "#         return pow(base, exponent)\n",
    "\n",
    "    def compute(self):        \n",
    "        if self.operation == \"add\":\n",
    "            if len(self.args) >= 2 and all(isinstance(i, int) for i in self.args):\n",
    "                res = self.add()\n",
    "                return res\n",
    "\n",
    "result_obj = Calculator(\"add\", 5,4)\n",
    "result_obj.compute()"
   ]
  },
  {
   "cell_type": "markdown",
   "id": "d934490c",
   "metadata": {},
   "source": [
    "<h2>Inheritance</h2>\n",
    "\n",
    "- Inherit attributes and methods from a base class into a child class"
   ]
  },
  {
   "cell_type": "code",
   "execution_count": 63,
   "id": "ab3b76d0",
   "metadata": {},
   "outputs": [
    {
     "data": {
      "text/plain": [
       "'Tom'"
      ]
     },
     "execution_count": 63,
     "metadata": {},
     "output_type": "execute_result"
    }
   ],
   "source": [
    "#Base class\n",
    "class Person:\n",
    "    def __init__(self, name):\n",
    "        self.name = name\n",
    "\n",
    "#Derived/child class        \n",
    "class Student(Person):\n",
    "    pass\n",
    "\n",
    "student_obj = Student(\"Tom\")\n",
    "student_obj.name"
   ]
  },
  {
   "cell_type": "code",
   "execution_count": 40,
   "id": "7b59ea53",
   "metadata": {},
   "outputs": [
    {
     "name": "stdout",
     "output_type": "stream",
     "text": [
      "Hi, my name is Xavier Jones.\n",
      "I am 46 years old.\n",
      "My favorite hobby is singing.\n",
      "I work as a Software Developer.\n",
      "I started my job in 2022.\n",
      "Extra args are: 56kg\n"
     ]
    }
   ],
   "source": [
    "#Base class\n",
    "\n",
    "class Person:\n",
    "    \n",
    "    def __init__(self, fname, lname, age, more_info=None):\n",
    "        self.firstname = fname\n",
    "        self.lastname = lname\n",
    "        self.age = age\n",
    "        self.more_info = more_info\n",
    "        \n",
    "    def extra_args(self):\n",
    "        return self.more_info\n",
    "\n",
    "#Derived Class\n",
    "class Bio(Person):\n",
    "    \n",
    "    def __init__(self, fname, lname, age,more_info, job_title, hobby):\n",
    "        super().__init__(fname, lname, age,more_info) #\n",
    "        self.job_title = job_title\n",
    "        self.hobby = hobby\n",
    "        self.job_start_year = \"2022\"\n",
    "        \n",
    "    def introduction(self):\n",
    "        extra_info = self.extra_args()\n",
    "        \n",
    "        return f\"Hi, my name is {self.firstname} {self.lastname}.\\n\"\\\n",
    "               f\"I am {self.age} years old.\\nMy favorite hobby is {self.hobby}.\\n\"\\\n",
    "               f\"I work as a {self.job_title}.\\n\"\\\n",
    "               f\"I started my job in {self.job_start_year}.\\n\"\\\n",
    "               f\"Extra args are: {extra_info}\"\n",
    "    \n",
    "person_bio_obj = Bio(fname=\"Xavier\", lname=\"Jones\", age=46, job_title=\"Software Developer\", hobby=\"singing\",more_info=\"56kg\")\n",
    "print(person_bio_obj.introduction())"
   ]
  },
  {
   "cell_type": "code",
   "execution_count": null,
   "id": "826baecb",
   "metadata": {},
   "outputs": [],
   "source": [
    "# Python program to demonstrate\n",
    "# multilevel inheritance\n",
    "\n",
    "# Base class\n",
    "class Grandfather:\n",
    "    def __init__(self, grandfathername):\n",
    "        self.grandfathername = grandfathername\n",
    "\n",
    "        \n",
    "# Intermediate class\n",
    "class Father(Grandfather):\n",
    "    def __init__(self, fathername, grandfathername):\n",
    "        # invoking constructor of Grandfather class\n",
    "        super().__init__(self, grandfathername)\n",
    "        self.fathername = fathername        \n",
    "    \n",
    "# Derived class\n",
    "class Son(Father):\n",
    "    def __init__(self, sonname, fathername, grandfathername):\n",
    "         # invoking constructor of Father class\n",
    "        super().__init__(self, fathername, grandfathername)\n",
    "        self.sonname = sonname       \n",
    "\n",
    "    def print_name(self):\n",
    "        print('Grandfather name :', self.grandfathername)\n",
    "        print(\"Father name :\", self.fathername)\n",
    "        print(\"Son name :\", self.sonname)\n",
    "\n",
    "\n",
    "# Driver code\n",
    "s1 = Son(sonname='Vince', fathername='John', grandfathername='Ricki')\n",
    "print(s1.grandfathername)\n",
    "s1.print_name()\n"
   ]
  },
  {
   "cell_type": "markdown",
   "id": "77927cd9",
   "metadata": {},
   "source": [
    "<h2>Polymorphism</h2>\n",
    "\n",
    "Polymorphism is the occurence of an entity(method, operator or object) in several different forms."
   ]
  },
  {
   "cell_type": "code",
   "execution_count": 7,
   "id": "0a029b26",
   "metadata": {},
   "outputs": [
    {
     "data": {
      "text/plain": [
       "2"
      ]
     },
     "execution_count": 7,
     "metadata": {},
     "output_type": "execute_result"
    }
   ],
   "source": [
    "#Polymorphism example\n",
    "len(\"hello\") #returns length of string\n",
    "len([1,2,3]) #returns no. of items in list\n",
    "len({\"a\":1, \"b\":2}) #returns no. of keys in dictionary"
   ]
  },
  {
   "cell_type": "markdown",
   "id": "9734b65f",
   "metadata": {},
   "source": [
    "__Polymorphism with operator overloading__"
   ]
  },
  {
   "cell_type": "code",
   "execution_count": 8,
   "id": "e55703c1",
   "metadata": {},
   "outputs": [
    {
     "name": "stdout",
     "output_type": "stream",
     "text": [
      "700\n",
      "Hello World\n",
      "[10, 20, 30, 'jessa', 'emma', 'kelly']\n"
     ]
    }
   ],
   "source": [
    "# add 2 numbers\n",
    "print(200 + 500)\n",
    "\n",
    "# concatenate two strings\n",
    "print('Hello' + ' World')\n",
    "\n",
    "# merger two list\n",
    "print([10, 20, 30] + ['jessa', 'emma', 'kelly'])"
   ]
  },
  {
   "cell_type": "markdown",
   "id": "a6d78953",
   "metadata": {},
   "source": [
    "__Polymorphism with class methods__"
   ]
  },
  {
   "cell_type": "code",
   "execution_count": 28,
   "id": "c3b9f53e",
   "metadata": {},
   "outputs": [
    {
     "name": "stdout",
     "output_type": "stream",
     "text": [
      "Petrol\n",
      "Max speed 350\n",
      "Diesel\n",
      "Max speed is 240\n"
     ]
    }
   ],
   "source": [
    "class Ferrari:\n",
    "    def fuel_type(self):\n",
    "        print(\"Petrol\")\n",
    "\n",
    "    def max_speed(self):\n",
    "        print(\"Max speed 350\")\n",
    "\n",
    "class BMW:\n",
    "    def fuel_type(self):\n",
    "        print(\"Diesel\")\n",
    "\n",
    "    def max_speed(self):\n",
    "        print(\"Max speed is 240\")\n",
    "\n",
    "        \n",
    "ferrari = Ferrari()\n",
    "bmw = BMW()\n",
    "\n",
    "# iterate objects of same type\n",
    "for car in (ferrari, bmw):\n",
    "    # call methods without checking class of object\n",
    "    car.fuel_type()\n",
    "    car.max_speed()"
   ]
  },
  {
   "cell_type": "code",
   "execution_count": 30,
   "id": "7830654d",
   "metadata": {},
   "outputs": [
    {
     "name": "stdout",
     "output_type": "stream",
     "text": [
      "o\n",
      "l\n",
      "l\n",
      "e\n",
      "H\n"
     ]
    }
   ],
   "source": [
    "for i in reversed('Hello'):\n",
    "    print(i)"
   ]
  },
  {
   "cell_type": "code",
   "execution_count": 31,
   "id": "f5967b6f",
   "metadata": {},
   "outputs": [
    {
     "name": "stdout",
     "output_type": "stream",
     "text": [
      "Reverse string\n",
      "o l l e H \n",
      "Reverse list\n",
      "Kelly Jessa Emma "
     ]
    }
   ],
   "source": [
    "#Polymorphism in built-in methods\n",
    "\n",
    "students = ['Emma', 'Jessa', 'Kelly']\n",
    "school = 'ABC School'\n",
    "\n",
    "print('Reverse string')\n",
    "for i in reversed('Hello'):\n",
    "    print(i, end=' ')\n",
    "\n",
    "print('\\nReverse list')\n",
    "for i in reversed(['Emma', 'Jessa', 'Kelly']):\n",
    "    print(i, end=' ')"
   ]
  },
  {
   "cell_type": "markdown",
   "id": "169ead44",
   "metadata": {},
   "source": [
    "__User-defined polymorphic method__"
   ]
  },
  {
   "cell_type": "code",
   "execution_count": 4,
   "id": "0f153d0e",
   "metadata": {},
   "outputs": [
    {
     "name": "stdout",
     "output_type": "stream",
     "text": [
      "Area of Square is: 25\n",
      "Area of Rectangle is: 15\n"
     ]
    }
   ],
   "source": [
    "class Shape:\n",
    "    # function with two default parameters\n",
    "    def area(self, a, b=0):\n",
    "        if b > 0:\n",
    "            print('Area of Rectangle is:', a * b)\n",
    "        else:\n",
    "            print('Area of Square is:', a ** 2)\n",
    "\n",
    "square = Shape()\n",
    "square.area(5)\n",
    "\n",
    "rectangle = Shape()\n",
    "rectangle.area(5, 3)"
   ]
  },
  {
   "cell_type": "markdown",
   "id": "a8ad25c0",
   "metadata": {},
   "source": [
    "__Method overriding with inheritance__"
   ]
  },
  {
   "cell_type": "code",
   "execution_count": 24,
   "id": "b5c02508",
   "metadata": {},
   "outputs": [
    {
     "name": "stdout",
     "output_type": "stream",
     "text": [
      "max speed is 200 Km/Hour\n"
     ]
    }
   ],
   "source": [
    "class Vehicle:\n",
    "    def max_speed(self):\n",
    "        print(\"max speed is 100 Km/Hour\")\n",
    "\n",
    "class Car(Vehicle):\n",
    "    # overridden the implementation of Vehicle class\n",
    "    def max_speed(self):\n",
    "        print(\"max speed is 200 Km/Hour\")\n",
    "\n",
    "# Creating object of Car class\n",
    "car = Car()\n",
    "car.max_speed()"
   ]
  },
  {
   "attachments": {
    "python_data_hiding.jpg": {
     "image/jpeg": "[encoded data removed]"
    }
   },
   "cell_type": "markdown",
   "id": "34b0331b",
   "metadata": {},
   "source": [
    "<h2>Encapsulation</h2>\n",
    "\n",
    "Encapsulation in Python describes the concept of bundling data and methods within a single unit. So, for example, when you create a class, it means you are implementing encapsulation. A class is an example of encapsulation as it binds all the data members (instance variables) and methods into a single unit.\n",
    "\n",
    "Using encapsulation, we can hide an object’s internal representation from the outside. This is called information hiding.\n",
    "\n",
    "Also, encapsulation allows us to restrict accessing variables and methods directly and prevent accidental data modification by creating private data members and methods within a class.\n",
    "\n",
    "Encapsulation is a way to restrict access to methods and variables from outside of class. Whenever we are working with the class and dealing with sensitive data, providing access to all variables used within the class is not a good choice.\n",
    "\n",
    "Encapsulation can be achieved by declaring the data members and methods of a class either as private or protected. But In Python, we don’t have direct access modifiers like public, private, and protected. We can achieve this by using single underscore and double underscores.\n",
    "\n",
    "Access modifiers limit access to the variables and methods of a class. Python provides three types of access modifiers private, public, and protected.\n",
    "\n",
    "![python_data_hiding.jpg](attachment:python_data_hiding.jpg)"
   ]
  },
  {
   "cell_type": "code",
   "execution_count": 13,
   "id": "b393e6b8",
   "metadata": {},
   "outputs": [
    {
     "name": "stdout",
     "output_type": "stream",
     "text": [
      "Name:  John Salary: 10000\n",
      "Name:  John Salary: 10000\n"
     ]
    }
   ],
   "source": [
    "#Public member\n",
    "\n",
    "class Employee:\n",
    "    # constructor\n",
    "    def __init__(self, name, salary):\n",
    "        # public data members\n",
    "        self.name = name\n",
    "        self.salary = salary\n",
    "\n",
    "    # public instance methods\n",
    "    def show(self):\n",
    "        # accessing public data member\n",
    "        print(\"Name: \", self.name, 'Salary:', self.salary)\n",
    "\n",
    "# creating object of a class\n",
    "emp = Employee('John', 10000)\n",
    "\n",
    "# accessing public data members\n",
    "print(\"Name: \", emp.name, 'Salary:', emp.salary)\n",
    "\n",
    "# calling public method of the class\n",
    "emp.show()"
   ]
  },
  {
   "cell_type": "code",
   "execution_count": 32,
   "id": "9ac71856",
   "metadata": {},
   "outputs": [
    {
     "ename": "AttributeError",
     "evalue": "'Employee' object has no attribute '__salary'",
     "output_type": "error",
     "traceback": [
      "\u001b[1;31m---------------------------------------------------------------------------\u001b[0m",
      "\u001b[1;31mAttributeError\u001b[0m                            Traceback (most recent call last)",
      "\u001b[1;32m<ipython-input-32-b962da797299>\u001b[0m in \u001b[0;36m<module>\u001b[1;34m\u001b[0m\n\u001b[0;32m     13\u001b[0m \u001b[1;33m\u001b[0m\u001b[0m\n\u001b[0;32m     14\u001b[0m \u001b[1;31m# accessing private data members\u001b[0m\u001b[1;33m\u001b[0m\u001b[1;33m\u001b[0m\u001b[1;33m\u001b[0m\u001b[0m\n\u001b[1;32m---> 15\u001b[1;33m \u001b[0mprint\u001b[0m\u001b[1;33m(\u001b[0m\u001b[1;34m'Salary:'\u001b[0m\u001b[1;33m,\u001b[0m \u001b[0memp\u001b[0m\u001b[1;33m.\u001b[0m\u001b[0m__salary\u001b[0m\u001b[1;33m)\u001b[0m\u001b[1;33m\u001b[0m\u001b[1;33m\u001b[0m\u001b[0m\n\u001b[0m",
      "\u001b[1;31mAttributeError\u001b[0m: 'Employee' object has no attribute '__salary'"
     ]
    }
   ],
   "source": [
    "#Private member\n",
    "\n",
    "class Employee:\n",
    "    # constructor\n",
    "    def __init__(self, name, salary):\n",
    "        # public data member\n",
    "        self.name = name\n",
    "        # private member\n",
    "        self.__salary = salary\n",
    "\n",
    "# creating object of a class\n",
    "emp = Employee('John', 10000)\n",
    "\n",
    "# accessing private data members\n",
    "print('Salary:', emp.__salary)"
   ]
  },
  {
   "cell_type": "code",
   "execution_count": 33,
   "id": "56bcc62c",
   "metadata": {},
   "outputs": [
    {
     "name": "stdout",
     "output_type": "stream",
     "text": [
      "Name:  John Salary: 10000\n"
     ]
    }
   ],
   "source": [
    "#Public method access to private members\n",
    "\n",
    "class Employee:\n",
    "    # constructor\n",
    "    def __init__(self, name, salary):\n",
    "        # public data member\n",
    "        self.name = name\n",
    "        # private member\n",
    "        self.__salary = salary\n",
    "\n",
    "    # public instance methods\n",
    "    def show(self):\n",
    "        # private members are accessible from a class\n",
    "        print(\"Name: \", self.name, 'Salary:', self.__salary)\n",
    "\n",
    "# creating object of a class\n",
    "emp = Employee('John', 10000)\n",
    "\n",
    "# calling public method of the class\n",
    "emp.show()"
   ]
  },
  {
   "cell_type": "code",
   "execution_count": 19,
   "id": "0b9dcf35",
   "metadata": {},
   "outputs": [
    {
     "name": "stdout",
     "output_type": "stream",
     "text": [
      "Name: John\n",
      "Salary: 10000\n"
     ]
    }
   ],
   "source": [
    "#Name mangling to access private members\n",
    "\n",
    "class Employee:\n",
    "    # constructor\n",
    "    def __init__(self, name, salary):\n",
    "        # public data member\n",
    "        self.name = name\n",
    "        # private member\n",
    "        self.__salary = salary\n",
    "\n",
    "# creating object of a class\n",
    "emp = Employee('John', 10000)\n",
    "\n",
    "print('Name:', emp.name)\n",
    "# direct access to private member using name mangling\n",
    "print('Salary:', emp._Employee__salary)"
   ]
  },
  {
   "cell_type": "code",
   "execution_count": 42,
   "id": "b1c78bea",
   "metadata": {},
   "outputs": [
    {
     "name": "stdout",
     "output_type": "stream",
     "text": [
      "Employee name : John\n",
      "Employee's job : Marketing\n",
      "Job: Marketing\n"
     ]
    }
   ],
   "source": [
    "#Protected members\n",
    "\n",
    "# base class\n",
    "class Company:\n",
    "    def __init__(self, job):\n",
    "        # Protected member\n",
    "        self._job = job\n",
    "\n",
    "# child class\n",
    "class Employee(Company):\n",
    "    def __init__(self, name, job):\n",
    "        self.name = name\n",
    "        Company.__init__(self, job)\n",
    "\n",
    "    def show(self):\n",
    "        print(\"Employee name :\", self.name)\n",
    "        # Accessing protected member in child class\n",
    "        print(\"Employee's job :\", self._job)\n",
    "\n",
    "c = Employee(\"John\", \"Marketing\")\n",
    "c.show()\n",
    "\n",
    "# Direct access protected data member\n",
    "print('Job:', c._job)"
   ]
  },
  {
   "cell_type": "markdown",
   "id": "45a0511a",
   "metadata": {},
   "source": [
    "In the below example, it is possible to modify the value of the protected member  \"_job\" of the Company class.\n",
    "\n",
    "__Note__: We can access protected members of a class outside of the class and we can even modify their value. Now the doubt that arises is, since public access modifiers also have the same behaviour, then how are protected members different(except their difference in syntax) from public members? Actually, protected access modifiers are designed so that responsible programmer would identify them by their naming convention and do the required operation only on that protected class members or class methods."
   ]
  },
  {
   "cell_type": "code",
   "execution_count": 47,
   "id": "7003525f",
   "metadata": {},
   "outputs": [
    {
     "data": {
      "text/plain": [
       "'Marketing'"
      ]
     },
     "execution_count": 47,
     "metadata": {},
     "output_type": "execute_result"
    }
   ],
   "source": [
    "d = Company(\"Marketing\")\n",
    "d._job"
   ]
  },
  {
   "cell_type": "code",
   "execution_count": 46,
   "id": "887c1521",
   "metadata": {},
   "outputs": [
    {
     "data": {
      "text/plain": [
       "'Sales'"
      ]
     },
     "execution_count": 46,
     "metadata": {},
     "output_type": "execute_result"
    }
   ],
   "source": [
    "d._job"
   ]
  },
  {
   "cell_type": "code",
   "execution_count": 49,
   "id": "85d8235a",
   "metadata": {},
   "outputs": [
    {
     "name": "stdout",
     "output_type": "stream",
     "text": [
      "Student Details: John 10\n",
      "Invalid roll no. Please set correct roll number\n",
      "Student Details: John 25\n"
     ]
    }
   ],
   "source": [
    "#Encapsulation and information hiding\n",
    "\n",
    "class Student:\n",
    "    def __init__(self, name, roll_no, age):        \n",
    "        self.name = name\n",
    "        # private members to restrict access\n",
    "        # avoid direct data modification\n",
    "        self.__roll_no = roll_no\n",
    "        self.__age = age\n",
    "\n",
    "    def show(self):\n",
    "        print('Student Details:', self.name, self.__roll_no)\n",
    "\n",
    "    # getter methods\n",
    "    def get_roll_no(self):\n",
    "        return self.__roll_no\n",
    "\n",
    "    # setter method to modify data member\n",
    "    # condition to allow data modification with rules\n",
    "    def set_roll_no(self, number):\n",
    "        if number > 50:\n",
    "            print('Invalid roll no. Please set correct roll number')\n",
    "        else:\n",
    "            self.__roll_no = number\n",
    "\n",
    "john = Student('John', 10, 15)\n",
    "\n",
    "# before Modify\n",
    "john.show()\n",
    "# changing roll number using setter\n",
    "john.set_roll_no(120)\n",
    "# john.__roll_no\n",
    "\n",
    "john.set_roll_no(25)\n",
    "john.show()"
   ]
  },
  {
   "cell_type": "markdown",
   "id": "565d4a70",
   "metadata": {},
   "source": [
    "Advantages of encapsulation:\n",
    "\n",
    "- Security: The main advantage of using encapsulation is the security of the data. Encapsulation protects an object from unauthorized access. It allows private and protected access levels to prevent accidental data modification.\n",
    "- Data Hiding: The user would not be knowing what is going on behind the scene. They would only be knowing that to modify a data member, call the setter method. To read a data member, call the getter method. What these setter and getter methods are doing is hidden from them.\n",
    "- Simplicity: It simplifies the maintenance of the application by keeping classes separated and preventing them from tightly coupling with each other.\n",
    "- Aesthetics: Bundling data and methods within a class makes code more readable and maintainable"
   ]
  },
  {
   "cell_type": "code",
   "execution_count": 13,
   "id": "d350092e",
   "metadata": {},
   "outputs": [],
   "source": [
    "import os\n",
    "p = os.path.join(os.path.splitdrive(\"D:\\Books\")[0], \"Books\", \"movieData\", \"directed.csv\")"
   ]
  },
  {
   "cell_type": "code",
   "execution_count": 26,
   "id": "d29ac8d6",
   "metadata": {},
   "outputs": [],
   "source": [
    "server_key_path = os.path.join(os.getcwd(), \"test.py\")"
   ]
  },
  {
   "cell_type": "code",
   "execution_count": 27,
   "id": "3a8ccd23",
   "metadata": {},
   "outputs": [
    {
     "data": {
      "text/plain": [
       "<_io.TextIOWrapper name='C:\\\\Users\\\\Aman Buttan\\\\test.py' mode='r' encoding='utf-8'>"
      ]
     },
     "execution_count": 27,
     "metadata": {},
     "output_type": "execute_result"
    }
   ],
   "source": [
    "fd = open(server_key_path, 'r', encoding=\"utf-8\")\n",
    "fd"
   ]
  },
  {
   "cell_type": "code",
   "execution_count": 28,
   "id": "0564a59b",
   "metadata": {},
   "outputs": [
    {
     "data": {
      "text/plain": [
       "str"
      ]
     },
     "execution_count": 28,
     "metadata": {},
     "output_type": "execute_result"
    }
   ],
   "source": [
    "data = fd.read()\n",
    "type(data)"
   ]
  },
  {
   "cell_type": "code",
   "execution_count": 34,
   "id": "26dd5916",
   "metadata": {},
   "outputs": [],
   "source": [
    "fd.close()"
   ]
  },
  {
   "cell_type": "markdown",
   "id": "efd8f2f0",
   "metadata": {},
   "source": [
    "_with_ Context Manager"
   ]
  },
  {
   "cell_type": "code",
   "execution_count": 50,
   "id": "70eb5824",
   "metadata": {},
   "outputs": [],
   "source": [
    "with open(server_key_path, 'a', encoding=\"utf-8\") as fd:\n",
    "    fd.write(\"world\")"
   ]
  },
  {
   "cell_type": "code",
   "execution_count": 51,
   "id": "b9d95405",
   "metadata": {},
   "outputs": [
    {
     "data": {
      "text/plain": [
       "True"
      ]
     },
     "execution_count": 51,
     "metadata": {},
     "output_type": "execute_result"
    }
   ],
   "source": [
    "fd.closed"
   ]
  },
  {
   "cell_type": "code",
   "execution_count": 52,
   "id": "aa3cfa51",
   "metadata": {},
   "outputs": [],
   "source": [
    "with open(server_key_path, 'r', encoding=\"utf-8\") as fd:\n",
    "    data = fd.read()"
   ]
  },
  {
   "cell_type": "code",
   "execution_count": 53,
   "id": "95231524",
   "metadata": {},
   "outputs": [
    {
     "data": {
      "text/plain": [
       "'helloworld'"
      ]
     },
     "execution_count": 53,
     "metadata": {},
     "output_type": "execute_result"
    }
   ],
   "source": [
    "data"
   ]
  },
  {
   "cell_type": "code",
   "execution_count": 2,
   "id": "a8a78496",
   "metadata": {},
   "outputs": [
    {
     "data": {
      "text/plain": [
       "4.0"
      ]
     },
     "execution_count": 2,
     "metadata": {},
     "output_type": "execute_result"
    }
   ],
   "source": [
    "from math import pow\n",
    "pow(2,2)"
   ]
  },
  {
   "cell_type": "markdown",
   "id": "796dce6a",
   "metadata": {},
   "source": [
    "1. Abstraction and special class methods\n",
    "2. Some file methods\n",
    "3. Errors and Exception Handling- Try, except and finally\n",
    "4. Python Decorators, Generators, and iterators\n",
    "5. Logging and Debugger\n"
   ]
  },
  {
   "cell_type": "markdown",
   "id": "47377ea3",
   "metadata": {},
   "source": [
    "__Abstraction__\n",
    "\n",
    "Abstraction is used to hide the internal functionality of the function from the users. The users only interact with the basic implementation of the function, but inner working is hidden. User is familiar with that \"what function does\" but they don't know \"how it does.\"\n",
    "\n",
    "In Python, an abstraction is used to hide the irrelevant data/class in order to reduce the complexity. It also enhances the application efficiency. \n",
    "\n",
    "An abstract class provides a blueprint for subclasses that inherit from it. This means that methods that are defined in an abstract class should also be defined in the subclasses inheriting from it. For programmers working on large projects, this provides the advantage of following a common interface for all classes defined in the project.\n",
    "\n",
    "Abstract classes cannot be instantiated. This means one cannot create an object from the abstract class. Rather, objects must be created from subclasses only.\n",
    "\n",
    "An abstract class is implemented using the abc module. Abstract methods are defined using the @abstractmethod decorator. \n",
    "\n",
    "Note: All subclasses inheriting from abstract classes must have a definition for abstract methods defined in the abstract base class. In the example below, the \"calculate\" abstract method is not defined in the \"Add\" class, due to which we get an error, when creating an object for the Add class"
   ]
  },
  {
   "cell_type": "code",
   "execution_count": 28,
   "id": "5f1d0efa",
   "metadata": {},
   "outputs": [
    {
     "ename": "TypeError",
     "evalue": "Can't instantiate abstract class Add with abstract methods calculate",
     "output_type": "error",
     "traceback": [
      "\u001b[1;31m---------------------------------------------------------------------------\u001b[0m",
      "\u001b[1;31mTypeError\u001b[0m                                 Traceback (most recent call last)",
      "\u001b[1;32m<ipython-input-28-3990d770af02>\u001b[0m in \u001b[0;36m<module>\u001b[1;34m\u001b[0m\n\u001b[0;32m     17\u001b[0m     \u001b[1;32mpass\u001b[0m\u001b[1;33m\u001b[0m\u001b[1;33m\u001b[0m\u001b[0m\n\u001b[0;32m     18\u001b[0m \u001b[1;33m\u001b[0m\u001b[0m\n\u001b[1;32m---> 19\u001b[1;33m \u001b[0ma\u001b[0m \u001b[1;33m=\u001b[0m \u001b[0mAdd\u001b[0m\u001b[1;33m(\u001b[0m\u001b[1;33m)\u001b[0m\u001b[1;33m\u001b[0m\u001b[1;33m\u001b[0m\u001b[0m\n\u001b[0m",
      "\u001b[1;31mTypeError\u001b[0m: Can't instantiate abstract class Add with abstract methods calculate"
     ]
    }
   ],
   "source": [
    "#Abstract class example\n",
    "\n",
    "from abc import ABC, abstractmethod\n",
    "\n",
    "\n",
    "class CalculatorAbstractBaseClass(ABC):\n",
    "    def __init__(self, num1, num2):\n",
    "        self.num1 = num1\n",
    "        self.num2 = num2\n",
    "    \n",
    "    @abstractmethod\n",
    "    def calculate(self):        \n",
    "        pass   \n",
    "\n",
    "    \n",
    "class Add(CalculatorAbstractBaseClass):\n",
    "    pass\n",
    "  \n",
    "a = Add()    "
   ]
  },
  {
   "cell_type": "markdown",
   "id": "1639db81",
   "metadata": {},
   "source": [
    "The correct way to implement \"Add\" class inherited from the \"CalculatorAbstractBaseClass\" abstract class is that we define the calculate method in \"Add\" class. Now, we will be able to instantiate an object from the Add class"
   ]
  },
  {
   "cell_type": "code",
   "execution_count": 24,
   "id": "fcfa65c4",
   "metadata": {},
   "outputs": [
    {
     "name": "stdout",
     "output_type": "stream",
     "text": [
      "The calculated result is: 3\n"
     ]
    }
   ],
   "source": [
    "class Add(CalculatorAbstractBaseClass):\n",
    "    \n",
    "    def calculate(self):\n",
    "        return self.num1 + self.num2\n",
    "    \n",
    "a = Add(1,2)\n",
    "print(f'The calculated result is: {a.calculate()}')"
   ]
  },
  {
   "cell_type": "markdown",
   "id": "0b02c3be",
   "metadata": {},
   "source": [
    "Let's create more subclasses of CalculatorAbstractBaseClass"
   ]
  },
  {
   "cell_type": "code",
   "execution_count": 25,
   "id": "b6de73f9",
   "metadata": {},
   "outputs": [],
   "source": [
    "class Multiply(CalculatorAbstractBaseClass):\n",
    "    \n",
    "    def calculate(self):\n",
    "        return self.num1 * self.num2\n",
    "    \n",
    "class Subtract(CalculatorAbstractBaseClass):\n",
    "    \n",
    "    def calculate(self):\n",
    "        return self.num1 - self.num2    \n",
    "    "
   ]
  },
  {
   "cell_type": "markdown",
   "id": "2ddd0d18",
   "metadata": {},
   "source": [
    "The below class computes the result based on input provided."
   ]
  },
  {
   "cell_type": "code",
   "execution_count": 27,
   "id": "386d1523",
   "metadata": {},
   "outputs": [
    {
     "name": "stdout",
     "output_type": "stream",
     "text": [
      "Enter first number: 12\n",
      "Enter second number: 10\n",
      "Enter operator(Valid options are '+', '-' and '*'): *\n",
      "The calculated result is: 120\n"
     ]
    }
   ],
   "source": [
    "class SimpleCalculator:\n",
    "    \n",
    "    def __init__(self, num1, num2, operator):\n",
    "        self.num1 = num1\n",
    "        self.num2 = num2\n",
    "        self.operator = operator\n",
    "        \n",
    "    def compute(self):\n",
    "        if self.operator == '+':\n",
    "            compute_obj = Add(self.num1, self.num2)\n",
    "            return compute_obj.calculate()\n",
    "        elif self.operator == '-':\n",
    "            compute_obj = Subtract(self.num1, self.num2)\n",
    "            return compute_obj.calculate()\n",
    "        elif self.operator == '*':\n",
    "            compute_obj = Multiply(self.num1, self.num2)\n",
    "            return compute_obj.calculate()\n",
    "        else:\n",
    "            return \"Invalid operator provided\"\n",
    "\n",
    "number1 = int(input(\"Enter first number: \"))\n",
    "number2 = int(input(\"Enter second number: \"))\n",
    "operator = input(\"Enter operator(Valid options are '+', '-' and '*'): \")\n",
    "\n",
    "calculator_obj = SimpleCalculator(number1, number2, operator)\n",
    "print(f'The calculated result is: {calculator_obj.compute()}')"
   ]
  },
  {
   "cell_type": "code",
   "execution_count": 30,
   "id": "16635d6a",
   "metadata": {},
   "outputs": [
    {
     "ename": "TypeError",
     "evalue": "Can't instantiate abstract class CalculatorAbstractBaseClass with abstract methods calculate",
     "output_type": "error",
     "traceback": [
      "\u001b[1;31m---------------------------------------------------------------------------\u001b[0m",
      "\u001b[1;31mTypeError\u001b[0m                                 Traceback (most recent call last)",
      "\u001b[1;32m<ipython-input-30-b1dd1c45a722>\u001b[0m in \u001b[0;36m<module>\u001b[1;34m\u001b[0m\n\u001b[0;32m      1\u001b[0m \u001b[1;31m#Remember: Its not possible to instantiate object from an abstract class\u001b[0m\u001b[1;33m\u001b[0m\u001b[1;33m\u001b[0m\u001b[1;33m\u001b[0m\u001b[0m\n\u001b[1;32m----> 2\u001b[1;33m \u001b[0ma\u001b[0m \u001b[1;33m=\u001b[0m \u001b[0mCalculatorAbstractBaseClass\u001b[0m\u001b[1;33m(\u001b[0m\u001b[1;33m)\u001b[0m\u001b[1;33m\u001b[0m\u001b[1;33m\u001b[0m\u001b[0m\n\u001b[0m",
      "\u001b[1;31mTypeError\u001b[0m: Can't instantiate abstract class CalculatorAbstractBaseClass with abstract methods calculate"
     ]
    }
   ],
   "source": [
    "#Remember: Its not possible to instantiate object from an abstract class\n",
    "a = CalculatorAbstractBaseClass()"
   ]
  },
  {
   "cell_type": "markdown",
   "id": "9f0f59b2",
   "metadata": {},
   "source": [
    "We can even write an implementation of the calculate method in the abstract base class. This can be used to enrich the calculate method implementations in subclasses"
   ]
  },
  {
   "cell_type": "code",
   "execution_count": 32,
   "id": "0897b5f1",
   "metadata": {},
   "outputs": [],
   "source": [
    "class CalculatorAbstractBaseClass(ABC):\n",
    "    def __init__(self, num1, num2):\n",
    "        self.num1 = num1\n",
    "        self.num2 = num2\n",
    "    \n",
    "    @abstractmethod\n",
    "    def calculate(self):\n",
    "        print(f'The numbers are: {self.num1} and {self.num2}') \n",
    "        \n",
    "        \n",
    "class Add(CalculatorAbstractBaseClass):\n",
    "    \n",
    "    def calculate(self):\n",
    "        super().calculate()\n",
    "        return self.num1 + self.num2       "
   ]
  },
  {
   "cell_type": "code",
   "execution_count": 35,
   "id": "5194ebd0",
   "metadata": {},
   "outputs": [
    {
     "name": "stdout",
     "output_type": "stream",
     "text": [
      "The numbers are: 2 and 3\n",
      "The result is: 5\n"
     ]
    }
   ],
   "source": [
    "a = Add(2,3)\n",
    "print(f'The result is: {a.calculate()}')"
   ]
  },
  {
   "attachments": {
    "python_class_method_vs_static_method_vs_instance_method.webp": {
     "image/webp": "[encoded data removed]"
    }
   },
   "cell_type": "markdown",
   "id": "3fd0c74f",
   "metadata": {},
   "source": [
    "__Special class methods__:\n",
    "- staticmethod\n",
    "- classmethod\n",
    "\n",
    "In Object-oriented programming, when we design a class, we use the following three methods\n",
    "\n",
    "- Instance method performs a set of actions on the data/value provided by the instance variables. If we use instance variables inside a method, such methods are called instance methods.\n",
    "\n",
    "- Class method is method that is called on the class itself, not on a specific object instance. Therefore, it belongs to a class level, and all class instances share a class method.\n",
    "\n",
    "- Static method is a general utility method that performs a task in isolation. This method doesn’t have access to the instance and class variable.\n",
    "\n",
    "![python_class_method_vs_static_method_vs_instance_method.webp](attachment:python_class_method_vs_static_method_vs_instance_method.webp)"
   ]
  },
  {
   "cell_type": "code",
   "execution_count": 5,
   "id": "a2a5619a",
   "metadata": {
    "scrolled": true
   },
   "outputs": [
    {
     "name": "stdout",
     "output_type": "stream",
     "text": [
      "[<__main__.Methods object at 0x00000215B024A940>, 1, 'abc', 20]\n",
      "[<class '__main__.Methods'>, 3]\n",
      "[<class '__main__.Methods'>, 3]\n",
      "[2]\n",
      "[2]\n"
     ]
    }
   ],
   "source": [
    "#class special methods example\n",
    "\n",
    "class Methods:\n",
    "    \n",
    "    #class variable\n",
    "    sample_variable = \"xyz\"\n",
    "    \n",
    "    def __init__(self, y):\n",
    "        #instance variable or attributes\n",
    "        self.y = y\n",
    "    \n",
    "    def imeth(self, x):\n",
    "        sample_variable = \"abc\"\n",
    "        self.y = 20\n",
    "        print([self,x, sample_variable, self.y])\n",
    "        \n",
    "    @staticmethod\n",
    "    def smeth(x): # Static: no instance passed\n",
    "        print([x])\n",
    "        \n",
    "    @classmethod    \n",
    "    def cmeth(cls, x): # Class: gets class, not instance\n",
    "        print([cls, x])\n",
    "\n",
    "    \n",
    "# create object\n",
    "obj = Methods(2)\n",
    "# call instance method\n",
    "obj.imeth(x=1)\n",
    "\n",
    "# # call class method using the class\n",
    "Methods.cmeth(3)\n",
    "# # call class method using the object\n",
    "obj.cmeth(3)\n",
    "\n",
    "# # call static method using the class\n",
    "Methods.smeth(2)\n",
    "# # call class method using the object\n",
    "obj.smeth(2)"
   ]
  },
  {
   "cell_type": "code",
   "execution_count": 18,
   "id": "0f2adeba",
   "metadata": {},
   "outputs": [
    {
     "name": "stdout",
     "output_type": "stream",
     "text": [
      "Instance method: ('John', 34, 'ABC Company')\n",
      "Class method called from class: XYZ Company\n",
      "Class method called using the object: XYZ Company\n",
      "Static method called from class: singing\n",
      "Static method called from object: singing\n"
     ]
    }
   ],
   "source": [
    "#Another example for special methods\n",
    "\n",
    "class Employee:\n",
    "    # class variables\n",
    "    company_name = 'ABC Company'\n",
    "\n",
    "    # constructor\n",
    "    def __init__(self, name, age):\n",
    "        # instance variables\n",
    "        self.name = name\n",
    "        self.age = age\n",
    "\n",
    "    # instance method\n",
    "    def show(self):\n",
    "        return self.name, self.age, Employee.company_name\n",
    "\n",
    "    @classmethod\n",
    "    def change_company(cls, name):\n",
    "        cls.company_name = name\n",
    "        return cls.company_name\n",
    "\n",
    "    @staticmethod\n",
    "    def fav_hobbies(hobbies):        \n",
    "        return hobbies\n",
    "    \n",
    "#create object\n",
    "obj = Employee(\"John\",34)\n",
    "# call instance method\n",
    "print(f\"Instance method: {obj.show()}\")\n",
    "\n",
    "# # call class method using the class\n",
    "print(f'Class method called from class: {Employee.change_company(\"XYZ Company\")}')\n",
    "# # call class method using the object\n",
    "print(f'Class method called using the object: {obj.change_company(\"XYZ Company\")}')\n",
    "\n",
    "# # call static method using the class\n",
    "print(f'Static method called from class: {Employee.fav_hobbies(\"singing\")}')\n",
    "# # call class method using the object\n",
    "print(f'Static method called from object: {obj.fav_hobbies(\"singing\")}')"
   ]
  },
  {
   "cell_type": "markdown",
   "id": "734856b3",
   "metadata": {},
   "source": [
    "__Decorators__\n",
    "\n",
    "Python's decorators allow you to extend and modify the behavior of a callable(functions,methods and classes) without permanently modifying the callable itself.\n",
    "\n",
    "They are commonly used in situations where generic functionality is required in an application. For example, logging, authentication and authorization, error handling.\n",
    "\n",
    "Decorators are implemented based on following two concepts:\n",
    "\n",
    "- Functions are objects - they can be assigned to variables and passed to and returned from other functions\n",
    "- Functions can be deined inside other functions - and a child function can capture the parent function's local state.\n",
    "\n",
    "A simple decorator takes a callable as input and returns another callable."
   ]
  },
  {
   "cell_type": "code",
   "execution_count": 10,
   "id": "ae0ed887",
   "metadata": {},
   "outputs": [],
   "source": [
    "def calculate(num1, num2):\n",
    "    def add(num1, num2):\n",
    "        return num1 + num2\n",
    "    return\n",
    "\n",
    "calculate(1,2)"
   ]
  },
  {
   "cell_type": "code",
   "execution_count": 13,
   "id": "41508978",
   "metadata": {},
   "outputs": [
    {
     "data": {
      "text/plain": [
       "'Hello!'"
      ]
     },
     "execution_count": 13,
     "metadata": {},
     "output_type": "execute_result"
    }
   ],
   "source": [
    "def null_decorator(func):\n",
    "    return func\n",
    "\n",
    "def greet():\n",
    "    return 'Hello!'\n",
    "\n",
    "greeter = null_decorator(greet)\n",
    "\n",
    "greeter()"
   ]
  },
  {
   "cell_type": "markdown",
   "id": "059a592d",
   "metadata": {},
   "source": [
    "Instead of explicitly calling null_decorator on \"greet()\" function and then reassigning the greeter variable, you can use Python's @ syntax for decorating a function more conveniently:"
   ]
  },
  {
   "cell_type": "code",
   "execution_count": 55,
   "id": "f5a598b4",
   "metadata": {},
   "outputs": [
    {
     "data": {
      "text/plain": [
       "'Hello'"
      ]
     },
     "execution_count": 55,
     "metadata": {},
     "output_type": "execute_result"
    }
   ],
   "source": [
    "@null_decorator\n",
    "def greet():\n",
    "    return 'Hello'\n",
    "\n",
    "greet()"
   ]
  },
  {
   "cell_type": "markdown",
   "id": "219dc7b2",
   "metadata": {},
   "source": [
    "Decorators can modify behavior"
   ]
  },
  {
   "cell_type": "code",
   "execution_count": 15,
   "id": "5ee460a7",
   "metadata": {},
   "outputs": [
    {
     "name": "stdout",
     "output_type": "stream",
     "text": [
      "Enter name: john\n"
     ]
    },
    {
     "data": {
      "text/plain": [
       "'JOHN'"
      ]
     },
     "execution_count": 15,
     "metadata": {},
     "output_type": "execute_result"
    }
   ],
   "source": [
    "def uppercase(func):\n",
    "    def wrapper():\n",
    "        original_result = func() #hello!\n",
    "        modified_result = original_result.upper()\n",
    "        return modified_result\n",
    "    return wrapper\n",
    "\n",
    "@authenticate\n",
    "@logging\n",
    "def greet():\n",
    "    return \"hello!\"\n",
    "\n",
    "@uppercase\n",
    "def make_upper_name():\n",
    "    name = input(\"Enter name: \")\n",
    "    return name\n",
    "\n",
    "@logging\n",
    "@check_last_password\n",
    "def change_password():\n",
    "    pass\n",
    "\n",
    "greet()\n",
    "make_upper_name() "
   ]
  },
  {
   "cell_type": "markdown",
   "id": "1d24ae3f",
   "metadata": {},
   "source": [
    "Decorated functions don't inherit metadata of the callable"
   ]
  },
  {
   "cell_type": "code",
   "execution_count": 59,
   "id": "46c55eb7",
   "metadata": {},
   "outputs": [
    {
     "name": "stdout",
     "output_type": "stream",
     "text": [
      "greet\n",
      "Return a friendly greeting.\n",
      "wrapper\n",
      "None\n"
     ]
    }
   ],
   "source": [
    "def greet():\n",
    "    \"\"\"Return a friendly greeting.\"\"\"\n",
    "    return 'Hello!'\n",
    "\n",
    "decorated_greet = uppercase(greet)\n",
    "print(greet.__name__)\n",
    "print(greet.__doc__)\n",
    "print(decorated_greet.__name__)\n",
    "print(decorated_greet.__doc__)"
   ]
  },
  {
   "cell_type": "code",
   "execution_count": 20,
   "id": "18c1a7b0",
   "metadata": {},
   "outputs": [
    {
     "name": "stdout",
     "output_type": "stream",
     "text": [
      "Help on function wrapper in module __main__:\n",
      "\n",
      "wrapper()\n",
      "\n"
     ]
    }
   ],
   "source": [
    "help(greet)"
   ]
  },
  {
   "cell_type": "markdown",
   "id": "267a9d98",
   "metadata": {},
   "source": [
    "You can use \"functools.wraps\" in your decorators to copy over lost metadata from the undecorated function"
   ]
  },
  {
   "cell_type": "code",
   "execution_count": 21,
   "id": "e05f6c6d",
   "metadata": {},
   "outputs": [
    {
     "name": "stdout",
     "output_type": "stream",
     "text": [
      "greet\n",
      "Return a friendly greeting.\n"
     ]
    }
   ],
   "source": [
    "import functools\n",
    "\n",
    "def uppercase(func):\n",
    "    @functools.wraps(func)\n",
    "    def wrapper():\n",
    "        return func().upper()\n",
    "    return wrapper\n",
    "\n",
    "@uppercase\n",
    "def greet():\n",
    "    \"\"\"Return a friendly greeting.\"\"\"\n",
    "    return 'Hello!'\n",
    "\n",
    "print(greet.__name__)\n",
    "print(greet.__doc__)"
   ]
  },
  {
   "cell_type": "code",
   "execution_count": 22,
   "id": "b63e9b7f",
   "metadata": {},
   "outputs": [
    {
     "name": "stdout",
     "output_type": "stream",
     "text": [
      "Help on function greet in module __main__:\n",
      "\n",
      "greet()\n",
      "    Return a friendly greeting.\n",
      "\n"
     ]
    }
   ],
   "source": [
    "help(greet)"
   ]
  },
  {
   "cell_type": "code",
   "execution_count": 23,
   "id": "a50d3f0c",
   "metadata": {},
   "outputs": [
    {
     "name": "stdout",
     "output_type": "stream",
     "text": [
      "Help on built-in function sum in module builtins:\n",
      "\n",
      "sum(iterable, /, start=0)\n",
      "    Return the sum of a 'start' value (default: 0) plus an iterable of numbers\n",
      "    \n",
      "    When the iterable is empty, return the start value.\n",
      "    This function is intended specifically for use with numeric values and may\n",
      "    reject non-numeric types.\n",
      "\n"
     ]
    }
   ],
   "source": [
    "help(sum)"
   ]
  },
  {
   "cell_type": "markdown",
   "id": "bcee77f4",
   "metadata": {},
   "source": [
    "__Iterators__\n",
    "\n",
    "An iterator is an object that contains a countable number of values. An iterator is an object that can be iterated upon, meaning that you can traverse through all the values. An iterator implements the __iter__ method to support iteration.\n",
    "\n",
    "An object is called iterable if we can get an iterator from it. "
   ]
  },
  {
   "cell_type": "code",
   "execution_count": 56,
   "id": "1470da99",
   "metadata": {},
   "outputs": [
    {
     "data": {
      "text/plain": [
       "set_iterator"
      ]
     },
     "execution_count": 56,
     "metadata": {},
     "output_type": "execute_result"
    }
   ],
   "source": [
    "l = [1,2,3,4,5]\n",
    "s = {1,2,3,4}\n",
    "type(s.__iter__())"
   ]
  },
  {
   "cell_type": "code",
   "execution_count": 59,
   "id": "55fdc94a",
   "metadata": {},
   "outputs": [
    {
     "data": {
      "text/plain": [
       "1"
      ]
     },
     "execution_count": 59,
     "metadata": {},
     "output_type": "execute_result"
    }
   ],
   "source": [
    "next(l.__iter__())"
   ]
  },
  {
   "cell_type": "code",
   "execution_count": 31,
   "id": "3d629084",
   "metadata": {},
   "outputs": [
    {
     "data": {
      "text/plain": [
       "<range_iterator at 0x215b0222d10>"
      ]
     },
     "execution_count": 31,
     "metadata": {},
     "output_type": "execute_result"
    }
   ],
   "source": [
    "r = range(0,20)\n",
    "r.__iter__()"
   ]
  },
  {
   "cell_type": "code",
   "execution_count": 38,
   "id": "92b98bea",
   "metadata": {},
   "outputs": [
    {
     "data": {
      "text/plain": [
       "1"
      ]
     },
     "execution_count": 38,
     "metadata": {},
     "output_type": "execute_result"
    }
   ],
   "source": [
    "my_iter = iter(l)\n",
    "next(my_iter) #yielding"
   ]
  },
  {
   "cell_type": "code",
   "execution_count": 39,
   "id": "384df221",
   "metadata": {},
   "outputs": [
    {
     "data": {
      "text/plain": [
       "2"
      ]
     },
     "execution_count": 39,
     "metadata": {},
     "output_type": "execute_result"
    }
   ],
   "source": [
    "next(my_iter)"
   ]
  },
  {
   "cell_type": "code",
   "execution_count": 43,
   "id": "d357b4d3",
   "metadata": {},
   "outputs": [
    {
     "ename": "StopIteration",
     "evalue": "",
     "output_type": "error",
     "traceback": [
      "\u001b[1;31m---------------------------------------------------------------------------\u001b[0m",
      "\u001b[1;31mStopIteration\u001b[0m                             Traceback (most recent call last)",
      "\u001b[1;32m<ipython-input-43-94a4229f6542>\u001b[0m in \u001b[0;36m<module>\u001b[1;34m\u001b[0m\n\u001b[1;32m----> 1\u001b[1;33m \u001b[0mnext\u001b[0m\u001b[1;33m(\u001b[0m\u001b[0mmy_iter\u001b[0m\u001b[1;33m)\u001b[0m\u001b[1;33m\u001b[0m\u001b[1;33m\u001b[0m\u001b[0m\n\u001b[0m",
      "\u001b[1;31mStopIteration\u001b[0m: "
     ]
    }
   ],
   "source": [
    "next(my_iter)"
   ]
  },
  {
   "cell_type": "markdown",
   "id": "a2f5ce14",
   "metadata": {},
   "source": [
    "__Generators__\n",
    "\n",
    "Python generators are a simple way of creating iterators."
   ]
  },
  {
   "cell_type": "code",
   "execution_count": 69,
   "id": "8bb0c58b",
   "metadata": {},
   "outputs": [
    {
     "data": {
      "text/plain": [
       "<generator object my_gen at 0x00000215B030B9E0>"
      ]
     },
     "execution_count": 69,
     "metadata": {},
     "output_type": "execute_result"
    }
   ],
   "source": [
    "# A simple generator function\n",
    "def my_gen():\n",
    "    n = 1\n",
    "    print('This is printed first')\n",
    "    # Generator function contains yield statements\n",
    "    yield n\n",
    "\n",
    "    n += 1\n",
    "    print('This is printed second')\n",
    "    yield n\n",
    "\n",
    "    n += 1\n",
    "    print('This is printed at last')\n",
    "    yield n\n",
    "\n",
    "a = my_gen()\n",
    "a"
   ]
  },
  {
   "cell_type": "code",
   "execution_count": 61,
   "id": "d1bbc966",
   "metadata": {},
   "outputs": [
    {
     "name": "stdout",
     "output_type": "stream",
     "text": [
      "This is printed first\n"
     ]
    },
    {
     "data": {
      "text/plain": [
       "1"
      ]
     },
     "execution_count": 61,
     "metadata": {},
     "output_type": "execute_result"
    }
   ],
   "source": [
    "next(a)"
   ]
  },
  {
   "cell_type": "code",
   "execution_count": 62,
   "id": "f0652b92",
   "metadata": {},
   "outputs": [
    {
     "name": "stdout",
     "output_type": "stream",
     "text": [
      "This is printed second\n"
     ]
    },
    {
     "data": {
      "text/plain": [
       "2"
      ]
     },
     "execution_count": 62,
     "metadata": {},
     "output_type": "execute_result"
    }
   ],
   "source": [
    "next(a)"
   ]
  },
  {
   "cell_type": "code",
   "execution_count": 63,
   "id": "61d2dc54",
   "metadata": {},
   "outputs": [
    {
     "name": "stdout",
     "output_type": "stream",
     "text": [
      "This is printed at last\n"
     ]
    },
    {
     "data": {
      "text/plain": [
       "3"
      ]
     },
     "execution_count": 63,
     "metadata": {},
     "output_type": "execute_result"
    }
   ],
   "source": [
    "next(a)"
   ]
  },
  {
   "cell_type": "code",
   "execution_count": 64,
   "id": "4a789d1c",
   "metadata": {},
   "outputs": [
    {
     "ename": "StopIteration",
     "evalue": "",
     "output_type": "error",
     "traceback": [
      "\u001b[1;31m---------------------------------------------------------------------------\u001b[0m",
      "\u001b[1;31mStopIteration\u001b[0m                             Traceback (most recent call last)",
      "\u001b[1;32m<ipython-input-64-15841f3f11d4>\u001b[0m in \u001b[0;36m<module>\u001b[1;34m\u001b[0m\n\u001b[1;32m----> 1\u001b[1;33m \u001b[0mnext\u001b[0m\u001b[1;33m(\u001b[0m\u001b[0ma\u001b[0m\u001b[1;33m)\u001b[0m\u001b[1;33m\u001b[0m\u001b[1;33m\u001b[0m\u001b[0m\n\u001b[0m",
      "\u001b[1;31mStopIteration\u001b[0m: "
     ]
    }
   ],
   "source": [
    "next(a)"
   ]
  },
  {
   "cell_type": "code",
   "execution_count": 74,
   "id": "56384f12",
   "metadata": {},
   "outputs": [
    {
     "ename": "StopIteration",
     "evalue": "",
     "output_type": "error",
     "traceback": [
      "\u001b[1;31m---------------------------------------------------------------------------\u001b[0m",
      "\u001b[1;31mStopIteration\u001b[0m                             Traceback (most recent call last)",
      "\u001b[1;32m<ipython-input-74-15841f3f11d4>\u001b[0m in \u001b[0;36m<module>\u001b[1;34m\u001b[0m\n\u001b[1;32m----> 1\u001b[1;33m \u001b[0mnext\u001b[0m\u001b[1;33m(\u001b[0m\u001b[0ma\u001b[0m\u001b[1;33m)\u001b[0m\u001b[1;33m\u001b[0m\u001b[1;33m\u001b[0m\u001b[0m\n\u001b[0m",
      "\u001b[1;31mStopIteration\u001b[0m: "
     ]
    }
   ],
   "source": [
    "next(a)"
   ]
  },
  {
   "cell_type": "markdown",
   "id": "ac97b789",
   "metadata": {},
   "source": [
    "Why we need generators?\n",
    "\n",
    "1. Memory Efficient\n",
    "2. Represent Infinite Stream"
   ]
  },
  {
   "cell_type": "code",
   "execution_count": 81,
   "id": "cce7187c",
   "metadata": {},
   "outputs": [
    {
     "data": {
      "text/plain": [
       "<generator object <genexpr> at 0x00000215B031A580>"
      ]
     },
     "execution_count": 81,
     "metadata": {},
     "output_type": "execute_result"
    }
   ],
   "source": [
    "# Initialize the list\n",
    "my_list = [1, 3, 6, 10]\n",
    "\n",
    "a = (x**2 for x in my_list)\n",
    "a"
   ]
  },
  {
   "cell_type": "code",
   "execution_count": 96,
   "id": "ebbca747",
   "metadata": {},
   "outputs": [
    {
     "data": {
      "text/plain": [
       "<generator object <genexpr> at 0x00000215B031AAC0>"
      ]
     },
     "execution_count": 96,
     "metadata": {},
     "output_type": "execute_result"
    }
   ],
   "source": [
    "b = (num + 10 for num in range(1,5))\n",
    "b"
   ]
  },
  {
   "cell_type": "code",
   "execution_count": 97,
   "id": "e6344b2e",
   "metadata": {},
   "outputs": [
    {
     "data": {
      "text/plain": [
       "(11, 12, 13, 14)"
      ]
     },
     "execution_count": 97,
     "metadata": {},
     "output_type": "execute_result"
    }
   ],
   "source": [
    "tuple(b)"
   ]
  },
  {
   "cell_type": "markdown",
   "id": "3f94d098",
   "metadata": {},
   "source": [
    "__Fibonacci series__: \n",
    "\n",
    "0,1,1,2,3,5,8,13,21,34"
   ]
  },
  {
   "cell_type": "code",
   "execution_count": 3,
   "id": "66d3ec69",
   "metadata": {},
   "outputs": [
    {
     "name": "stdout",
     "output_type": "stream",
     "text": [
      "[1, 1, 2, 3, 5, 8, 13, 21, 34, 55]\n",
      "4895\n"
     ]
    }
   ],
   "source": [
    "#Pipelining generators\n",
    "\n",
    "def fibonacci_numbers(nums):\n",
    "    x, y = 0, 1\n",
    "    for _ in range(nums):\n",
    "        x, y = y, x+y\n",
    "        yield x\n",
    "\n",
    "def square(nums):\n",
    "    for num in nums:\n",
    "        yield num**2\n",
    "\n",
    "print(list(fibonacci_numbers(10)))\n",
    "print(sum(square(fibonacci_numbers(10))))\n"
   ]
  },
  {
   "cell_type": "code",
   "execution_count": 100,
   "id": "9c8ef3e5",
   "metadata": {},
   "outputs": [
    {
     "data": {
      "text/plain": [
       "4895"
      ]
     },
     "execution_count": 100,
     "metadata": {},
     "output_type": "execute_result"
    }
   ],
   "source": [
    "sum((x**2 for x in (fibonacci_numbers(10))))"
   ]
  },
  {
   "cell_type": "code",
   "execution_count": 199,
   "id": "5ba878c7",
   "metadata": {},
   "outputs": [
    {
     "name": "stderr",
     "output_type": "stream",
     "text": [
      "WARNING:root:Watch out!\n"
     ]
    }
   ],
   "source": [
    "#Logging simple example\n",
    "\n",
    "import logging\n",
    "logging.warning('Watch out!')  # will print a message to the console\n",
    "logging.info('I told you so')  # will not print anything"
   ]
  },
  {
   "cell_type": "code",
   "execution_count": 205,
   "id": "288d1b6e",
   "metadata": {},
   "outputs": [
    {
     "name": "stderr",
     "output_type": "stream",
     "text": [
      "WARNING:root:And this, too\n"
     ]
    }
   ],
   "source": [
    "import logging\n",
    "logging.basicConfig(filename='example.log', level=logging.DEBUG)\n",
    "logging.debug('This message should go to the log file')\n",
    "logging.info('So should this')\n",
    "logging.warning('And this, too')"
   ]
  },
  {
   "cell_type": "markdown",
   "id": "f967ecdc",
   "metadata": {},
   "source": [
    "__Logging with decorators__"
   ]
  },
  {
   "cell_type": "code",
   "execution_count": 206,
   "id": "c185fef0",
   "metadata": {},
   "outputs": [
    {
     "name": "stderr",
     "output_type": "stream",
     "text": [
      "ERROR:root:Exception raised in foo. exception: Something went wrong\n",
      "Traceback (most recent call last):\n",
      "  File \"<ipython-input-206-9220f460d699>\", line 11, in wrapper\n",
      "    result = func(*args, **kwargs)\n",
      "  File \"<ipython-input-206-9220f460d699>\", line 21, in foo\n",
      "    raise Exception(\"Something went wrong\")\n",
      "Exception: Something went wrong\n"
     ]
    },
    {
     "ename": "Exception",
     "evalue": "Something went wrong",
     "output_type": "error",
     "traceback": [
      "\u001b[1;31m---------------------------------------------------------------------------\u001b[0m",
      "\u001b[1;31mException\u001b[0m                                 Traceback (most recent call last)",
      "\u001b[1;32m<ipython-input-206-9220f460d699>\u001b[0m in \u001b[0;36m<module>\u001b[1;34m\u001b[0m\n\u001b[0;32m     21\u001b[0m     \u001b[1;32mraise\u001b[0m \u001b[0mException\u001b[0m\u001b[1;33m(\u001b[0m\u001b[1;34m\"Something went wrong\"\u001b[0m\u001b[1;33m)\u001b[0m\u001b[1;33m\u001b[0m\u001b[1;33m\u001b[0m\u001b[0m\n\u001b[0;32m     22\u001b[0m \u001b[1;33m\u001b[0m\u001b[0m\n\u001b[1;32m---> 23\u001b[1;33m \u001b[0mfoo\u001b[0m\u001b[1;33m(\u001b[0m\u001b[1;33m)\u001b[0m\u001b[1;33m\u001b[0m\u001b[1;33m\u001b[0m\u001b[0m\n\u001b[0m",
      "\u001b[1;32m<ipython-input-206-9220f460d699>\u001b[0m in \u001b[0;36mwrapper\u001b[1;34m(*args, **kwargs)\u001b[0m\n\u001b[0;32m     14\u001b[0m         \u001b[1;32mexcept\u001b[0m \u001b[0mException\u001b[0m \u001b[1;32mas\u001b[0m \u001b[0me\u001b[0m\u001b[1;33m:\u001b[0m\u001b[1;33m\u001b[0m\u001b[1;33m\u001b[0m\u001b[0m\n\u001b[0;32m     15\u001b[0m             \u001b[0mlogger\u001b[0m\u001b[1;33m.\u001b[0m\u001b[0mexception\u001b[0m\u001b[1;33m(\u001b[0m\u001b[1;34mf\"Exception raised in {func.__name__}. exception: {str(e)}\"\u001b[0m\u001b[1;33m)\u001b[0m\u001b[1;33m\u001b[0m\u001b[1;33m\u001b[0m\u001b[0m\n\u001b[1;32m---> 16\u001b[1;33m             \u001b[1;32mraise\u001b[0m \u001b[0me\u001b[0m\u001b[1;33m\u001b[0m\u001b[1;33m\u001b[0m\u001b[0m\n\u001b[0m\u001b[0;32m     17\u001b[0m     \u001b[1;32mreturn\u001b[0m \u001b[0mwrapper\u001b[0m\u001b[1;33m\u001b[0m\u001b[1;33m\u001b[0m\u001b[0m\n\u001b[0;32m     18\u001b[0m \u001b[1;33m\u001b[0m\u001b[0m\n",
      "\u001b[1;32m<ipython-input-206-9220f460d699>\u001b[0m in \u001b[0;36mwrapper\u001b[1;34m(*args, **kwargs)\u001b[0m\n\u001b[0;32m      9\u001b[0m     \u001b[1;32mdef\u001b[0m \u001b[0mwrapper\u001b[0m\u001b[1;33m(\u001b[0m\u001b[1;33m*\u001b[0m\u001b[0margs\u001b[0m\u001b[1;33m,\u001b[0m \u001b[1;33m**\u001b[0m\u001b[0mkwargs\u001b[0m\u001b[1;33m)\u001b[0m\u001b[1;33m:\u001b[0m\u001b[1;33m\u001b[0m\u001b[1;33m\u001b[0m\u001b[0m\n\u001b[0;32m     10\u001b[0m         \u001b[1;32mtry\u001b[0m\u001b[1;33m:\u001b[0m\u001b[1;33m\u001b[0m\u001b[1;33m\u001b[0m\u001b[0m\n\u001b[1;32m---> 11\u001b[1;33m             \u001b[0mresult\u001b[0m \u001b[1;33m=\u001b[0m \u001b[0mfunc\u001b[0m\u001b[1;33m(\u001b[0m\u001b[1;33m*\u001b[0m\u001b[0margs\u001b[0m\u001b[1;33m,\u001b[0m \u001b[1;33m**\u001b[0m\u001b[0mkwargs\u001b[0m\u001b[1;33m)\u001b[0m\u001b[1;33m\u001b[0m\u001b[1;33m\u001b[0m\u001b[0m\n\u001b[0m\u001b[0;32m     12\u001b[0m             \u001b[0mlogger\u001b[0m\u001b[1;33m.\u001b[0m\u001b[0minfo\u001b[0m\u001b[1;33m(\u001b[0m\u001b[0mresult\u001b[0m\u001b[1;33m)\u001b[0m\u001b[1;33m\u001b[0m\u001b[1;33m\u001b[0m\u001b[0m\n\u001b[0;32m     13\u001b[0m             \u001b[1;32mreturn\u001b[0m \u001b[0mresult\u001b[0m\u001b[1;33m\u001b[0m\u001b[1;33m\u001b[0m\u001b[0m\n",
      "\u001b[1;32m<ipython-input-206-9220f460d699>\u001b[0m in \u001b[0;36mfoo\u001b[1;34m()\u001b[0m\n\u001b[0;32m     19\u001b[0m \u001b[1;33m@\u001b[0m\u001b[0mlog\u001b[0m\u001b[1;33m\u001b[0m\u001b[1;33m\u001b[0m\u001b[0m\n\u001b[0;32m     20\u001b[0m \u001b[1;32mdef\u001b[0m \u001b[0mfoo\u001b[0m\u001b[1;33m(\u001b[0m\u001b[1;33m)\u001b[0m\u001b[1;33m:\u001b[0m\u001b[1;33m\u001b[0m\u001b[1;33m\u001b[0m\u001b[0m\n\u001b[1;32m---> 21\u001b[1;33m     \u001b[1;32mraise\u001b[0m \u001b[0mException\u001b[0m\u001b[1;33m(\u001b[0m\u001b[1;34m\"Something went wrong\"\u001b[0m\u001b[1;33m)\u001b[0m\u001b[1;33m\u001b[0m\u001b[1;33m\u001b[0m\u001b[0m\n\u001b[0m\u001b[0;32m     22\u001b[0m \u001b[1;33m\u001b[0m\u001b[0m\n\u001b[0;32m     23\u001b[0m \u001b[0mfoo\u001b[0m\u001b[1;33m(\u001b[0m\u001b[1;33m)\u001b[0m\u001b[1;33m\u001b[0m\u001b[1;33m\u001b[0m\u001b[0m\n",
      "\u001b[1;31mException\u001b[0m: Something went wrong"
     ]
    }
   ],
   "source": [
    "import functools\n",
    "import logging\n",
    "\n",
    "logging.basicConfig(format='%(asctime)s:%(levelname)s:%(message)s', filename='logger_decorator_example.log', level = logging.DEBUG)\n",
    "logger = logging.getLogger()\n",
    "\n",
    "def log(func):\n",
    "    @functools.wraps(func)\n",
    "    def wrapper(*args, **kwargs):\n",
    "        try:\n",
    "            result = func(*args, **kwargs)\n",
    "            logger.info(result)\n",
    "            return result\n",
    "        except Exception as e:\n",
    "            logger.exception(f\"Exception raised in {func.__name__}. exception: {str(e)}\")\n",
    "            raise e\n",
    "    return wrapper\n",
    "\n",
    "@log\n",
    "def foo():\n",
    "    raise Exception(\"Something went wrong\")\n",
    "    \n",
    "foo()"
   ]
  },
  {
   "cell_type": "code",
   "execution_count": 71,
   "id": "36d38af1",
   "metadata": {},
   "outputs": [
    {
     "name": "stderr",
     "output_type": "stream",
     "text": [
      "DEBUG:root:function add called with args 10, 20\n"
     ]
    },
    {
     "data": {
      "text/plain": [
       "30"
      ]
     },
     "execution_count": 71,
     "metadata": {},
     "output_type": "execute_result"
    }
   ],
   "source": [
    "def log(func):\n",
    "    @functools.wraps(func)\n",
    "    def wrapper(*args, **kwargs):\n",
    "        args_repr = [str(a) for a in args]\n",
    "        kwargs_repr = [f\"{k}={v!r}\" for k, v in kwargs.items()]\n",
    "        signature = \", \".join(args_repr + kwargs_repr)\n",
    "        logger.debug(f\"function {func.__name__} called with args {signature}\")\n",
    "        try:\n",
    "            result = func(*args, **kwargs)\n",
    "            return result\n",
    "        except Exception as e:\n",
    "            logger.exception(f\"Exception raised in {func.__name__}. exception: {str(e)}\")\n",
    "            raise e\n",
    "    return wrapper\n",
    "\n",
    "@log\n",
    "def add(a, b=10):\n",
    "    return a + b\n",
    "\n",
    "add(10,20)"
   ]
  },
  {
   "cell_type": "markdown",
   "id": "4652501d",
   "metadata": {},
   "source": [
    "The TypeError below is an error exception class inheriting from the base Exception class"
   ]
  },
  {
   "cell_type": "code",
   "execution_count": 102,
   "id": "d87b0387",
   "metadata": {},
   "outputs": [
    {
     "ename": "TypeError",
     "evalue": "can only concatenate str (not \"int\") to str",
     "output_type": "error",
     "traceback": [
      "\u001b[1;31m---------------------------------------------------------------------------\u001b[0m",
      "\u001b[1;31mTypeError\u001b[0m                                 Traceback (most recent call last)",
      "\u001b[1;32m<ipython-input-102-a3fae8ce69db>\u001b[0m in \u001b[0;36m<module>\u001b[1;34m\u001b[0m\n\u001b[1;32m----> 1\u001b[1;33m \u001b[1;34m\"hello\"\u001b[0m \u001b[1;33m+\u001b[0m \u001b[1;36m2\u001b[0m\u001b[1;33m\u001b[0m\u001b[1;33m\u001b[0m\u001b[0m\n\u001b[0m",
      "\u001b[1;31mTypeError\u001b[0m: can only concatenate str (not \"int\") to str"
     ]
    }
   ],
   "source": [
    "\"hello\" + 2"
   ]
  },
  {
   "cell_type": "code",
   "execution_count": 103,
   "id": "963d588d",
   "metadata": {},
   "outputs": [
    {
     "ename": "ZeroDivisionError",
     "evalue": "division by zero",
     "output_type": "error",
     "traceback": [
      "\u001b[1;31m---------------------------------------------------------------------------\u001b[0m",
      "\u001b[1;31mZeroDivisionError\u001b[0m                         Traceback (most recent call last)",
      "\u001b[1;32m<ipython-input-103-8b4ac6d3a3e1>\u001b[0m in \u001b[0;36m<module>\u001b[1;34m\u001b[0m\n\u001b[1;32m----> 1\u001b[1;33m \u001b[1;36m2\u001b[0m \u001b[1;33m/\u001b[0m \u001b[1;36m0\u001b[0m\u001b[1;33m\u001b[0m\u001b[1;33m\u001b[0m\u001b[0m\n\u001b[0m",
      "\u001b[1;31mZeroDivisionError\u001b[0m: division by zero"
     ]
    }
   ],
   "source": [
    "2 / 0"
   ]
  },
  {
   "cell_type": "code",
   "execution_count": 105,
   "id": "d439d4c4",
   "metadata": {},
   "outputs": [
    {
     "ename": "ValueError",
     "evalue": "invalid literal for int() with base 10: 'hello'",
     "output_type": "error",
     "traceback": [
      "\u001b[1;31m---------------------------------------------------------------------------\u001b[0m",
      "\u001b[1;31mValueError\u001b[0m                                Traceback (most recent call last)",
      "\u001b[1;32m<ipython-input-105-a6f1987f81d0>\u001b[0m in \u001b[0;36m<module>\u001b[1;34m\u001b[0m\n\u001b[1;32m----> 1\u001b[1;33m \u001b[0mint\u001b[0m\u001b[1;33m(\u001b[0m\u001b[1;34m\"hello\"\u001b[0m\u001b[1;33m)\u001b[0m\u001b[1;33m\u001b[0m\u001b[1;33m\u001b[0m\u001b[0m\n\u001b[0m",
      "\u001b[1;31mValueError\u001b[0m: invalid literal for int() with base 10: 'hello'"
     ]
    }
   ],
   "source": [
    "int(\"hello\")"
   ]
  },
  {
   "cell_type": "code",
   "execution_count": 106,
   "id": "3e762014",
   "metadata": {},
   "outputs": [
    {
     "ename": "IndexError",
     "evalue": "list index out of range",
     "output_type": "error",
     "traceback": [
      "\u001b[1;31m---------------------------------------------------------------------------\u001b[0m",
      "\u001b[1;31mIndexError\u001b[0m                                Traceback (most recent call last)",
      "\u001b[1;32m<ipython-input-106-9b9243c606e9>\u001b[0m in \u001b[0;36m<module>\u001b[1;34m\u001b[0m\n\u001b[0;32m      1\u001b[0m \u001b[0ml\u001b[0m \u001b[1;33m=\u001b[0m \u001b[1;33m[\u001b[0m\u001b[1;36m1\u001b[0m\u001b[1;33m,\u001b[0m\u001b[1;36m2\u001b[0m\u001b[1;33m,\u001b[0m\u001b[1;36m3\u001b[0m\u001b[1;33m]\u001b[0m\u001b[1;33m\u001b[0m\u001b[1;33m\u001b[0m\u001b[0m\n\u001b[1;32m----> 2\u001b[1;33m \u001b[0ml\u001b[0m\u001b[1;33m[\u001b[0m\u001b[1;36m5\u001b[0m\u001b[1;33m]\u001b[0m\u001b[1;33m\u001b[0m\u001b[1;33m\u001b[0m\u001b[0m\n\u001b[0m",
      "\u001b[1;31mIndexError\u001b[0m: list index out of range"
     ]
    }
   ],
   "source": [
    "l = [1,2,3]\n",
    "l[5]"
   ]
  },
  {
   "cell_type": "code",
   "execution_count": 111,
   "id": "15f91e9a",
   "metadata": {},
   "outputs": [
    {
     "ename": "ModuleNotFoundError",
     "evalue": "No module named 'hello'",
     "output_type": "error",
     "traceback": [
      "\u001b[1;31m---------------------------------------------------------------------------\u001b[0m",
      "\u001b[1;31mModuleNotFoundError\u001b[0m                       Traceback (most recent call last)",
      "\u001b[1;32m<ipython-input-111-f81fb083bdeb>\u001b[0m in \u001b[0;36m<module>\u001b[1;34m\u001b[0m\n\u001b[1;32m----> 1\u001b[1;33m \u001b[1;32mimport\u001b[0m \u001b[0mhello\u001b[0m\u001b[1;33m\u001b[0m\u001b[1;33m\u001b[0m\u001b[0m\n\u001b[0m",
      "\u001b[1;31mModuleNotFoundError\u001b[0m: No module named 'hello'"
     ]
    }
   ],
   "source": [
    "import hello"
   ]
  },
  {
   "cell_type": "code",
   "execution_count": 112,
   "id": "d281b2f3",
   "metadata": {},
   "outputs": [
    {
     "ename": "KeyError",
     "evalue": "'a'",
     "output_type": "error",
     "traceback": [
      "\u001b[1;31m---------------------------------------------------------------------------\u001b[0m",
      "\u001b[1;31mKeyError\u001b[0m                                  Traceback (most recent call last)",
      "\u001b[1;32m<ipython-input-112-c31f9443deda>\u001b[0m in \u001b[0;36m<module>\u001b[1;34m\u001b[0m\n\u001b[0;32m      1\u001b[0m \u001b[0md\u001b[0m \u001b[1;33m=\u001b[0m \u001b[1;33m{\u001b[0m\u001b[1;33m}\u001b[0m\u001b[1;33m\u001b[0m\u001b[1;33m\u001b[0m\u001b[0m\n\u001b[1;32m----> 2\u001b[1;33m \u001b[0md\u001b[0m\u001b[1;33m[\u001b[0m\u001b[1;34m\"a\"\u001b[0m\u001b[1;33m]\u001b[0m\u001b[1;33m\u001b[0m\u001b[1;33m\u001b[0m\u001b[0m\n\u001b[0m",
      "\u001b[1;31mKeyError\u001b[0m: 'a'"
     ]
    }
   ],
   "source": [
    "d = {}\n",
    "d[\"a\"]"
   ]
  },
  {
   "cell_type": "code",
   "execution_count": 115,
   "id": "f6d6d1e0",
   "metadata": {},
   "outputs": [
    {
     "ename": "NameError",
     "evalue": "name 'f' is not defined",
     "output_type": "error",
     "traceback": [
      "\u001b[1;31m---------------------------------------------------------------------------\u001b[0m",
      "\u001b[1;31mNameError\u001b[0m                                 Traceback (most recent call last)",
      "\u001b[1;32m<ipython-input-115-fc0364975534>\u001b[0m in \u001b[0;36m<module>\u001b[1;34m\u001b[0m\n\u001b[1;32m----> 1\u001b[1;33m \u001b[0mprint\u001b[0m\u001b[1;33m(\u001b[0m\u001b[0mf\u001b[0m\u001b[1;33m)\u001b[0m\u001b[1;33m\u001b[0m\u001b[1;33m\u001b[0m\u001b[0m\n\u001b[0m",
      "\u001b[1;31mNameError\u001b[0m: name 'f' is not defined"
     ]
    }
   ],
   "source": [
    "print(f)"
   ]
  },
  {
   "cell_type": "code",
   "execution_count": 118,
   "id": "4e81a7ca",
   "metadata": {},
   "outputs": [
    {
     "ename": "SyntaxError",
     "evalue": "invalid syntax (<ipython-input-118-78019c35d324>, line 1)",
     "output_type": "error",
     "traceback": [
      "\u001b[1;36m  File \u001b[1;32m\"<ipython-input-118-78019c35d324>\"\u001b[1;36m, line \u001b[1;32m1\u001b[0m\n\u001b[1;33m    print(<)\u001b[0m\n\u001b[1;37m          ^\u001b[0m\n\u001b[1;31mSyntaxError\u001b[0m\u001b[1;31m:\u001b[0m invalid syntax\n"
     ]
    }
   ],
   "source": [
    "print(<)"
   ]
  },
  {
   "cell_type": "code",
   "execution_count": 113,
   "id": "d6c5c148",
   "metadata": {},
   "outputs": [
    {
     "ename": "KeyboardInterrupt",
     "evalue": "Interrupted by user",
     "output_type": "error",
     "traceback": [
      "\u001b[1;31m---------------------------------------------------------------------------\u001b[0m",
      "\u001b[1;31mKeyboardInterrupt\u001b[0m                         Traceback (most recent call last)",
      "\u001b[1;32m<ipython-input-113-5251244d0597>\u001b[0m in \u001b[0;36m<module>\u001b[1;34m\u001b[0m\n\u001b[1;32m----> 1\u001b[1;33m \u001b[0mmake_upper_name\u001b[0m\u001b[1;33m(\u001b[0m\u001b[1;33m)\u001b[0m\u001b[1;33m\u001b[0m\u001b[1;33m\u001b[0m\u001b[0m\n\u001b[0m",
      "\u001b[1;32m<ipython-input-15-c723bca5ab2a>\u001b[0m in \u001b[0;36mwrapper\u001b[1;34m()\u001b[0m\n\u001b[0;32m      1\u001b[0m \u001b[1;32mdef\u001b[0m \u001b[0muppercase\u001b[0m\u001b[1;33m(\u001b[0m\u001b[0mfunc\u001b[0m\u001b[1;33m)\u001b[0m\u001b[1;33m:\u001b[0m\u001b[1;33m\u001b[0m\u001b[1;33m\u001b[0m\u001b[0m\n\u001b[0;32m      2\u001b[0m     \u001b[1;32mdef\u001b[0m \u001b[0mwrapper\u001b[0m\u001b[1;33m(\u001b[0m\u001b[1;33m)\u001b[0m\u001b[1;33m:\u001b[0m\u001b[1;33m\u001b[0m\u001b[1;33m\u001b[0m\u001b[0m\n\u001b[1;32m----> 3\u001b[1;33m         \u001b[0moriginal_result\u001b[0m \u001b[1;33m=\u001b[0m \u001b[0mfunc\u001b[0m\u001b[1;33m(\u001b[0m\u001b[1;33m)\u001b[0m \u001b[1;31m#hello!\u001b[0m\u001b[1;33m\u001b[0m\u001b[1;33m\u001b[0m\u001b[0m\n\u001b[0m\u001b[0;32m      4\u001b[0m         \u001b[0mmodified_result\u001b[0m \u001b[1;33m=\u001b[0m \u001b[0moriginal_result\u001b[0m\u001b[1;33m.\u001b[0m\u001b[0mupper\u001b[0m\u001b[1;33m(\u001b[0m\u001b[1;33m)\u001b[0m\u001b[1;33m\u001b[0m\u001b[1;33m\u001b[0m\u001b[0m\n\u001b[0;32m      5\u001b[0m         \u001b[1;32mreturn\u001b[0m \u001b[0mmodified_result\u001b[0m\u001b[1;33m\u001b[0m\u001b[1;33m\u001b[0m\u001b[0m\n",
      "\u001b[1;32m<ipython-input-15-c723bca5ab2a>\u001b[0m in \u001b[0;36mmake_upper_name\u001b[1;34m()\u001b[0m\n\u001b[0;32m     12\u001b[0m \u001b[1;33m@\u001b[0m\u001b[0muppercase\u001b[0m\u001b[1;33m\u001b[0m\u001b[1;33m\u001b[0m\u001b[0m\n\u001b[0;32m     13\u001b[0m \u001b[1;32mdef\u001b[0m \u001b[0mmake_upper_name\u001b[0m\u001b[1;33m(\u001b[0m\u001b[1;33m)\u001b[0m\u001b[1;33m:\u001b[0m\u001b[1;33m\u001b[0m\u001b[1;33m\u001b[0m\u001b[0m\n\u001b[1;32m---> 14\u001b[1;33m     \u001b[0mname\u001b[0m \u001b[1;33m=\u001b[0m \u001b[0minput\u001b[0m\u001b[1;33m(\u001b[0m\u001b[1;34m\"Enter name: \"\u001b[0m\u001b[1;33m)\u001b[0m\u001b[1;33m\u001b[0m\u001b[1;33m\u001b[0m\u001b[0m\n\u001b[0m\u001b[0;32m     15\u001b[0m     \u001b[1;32mreturn\u001b[0m \u001b[0mname\u001b[0m\u001b[1;33m\u001b[0m\u001b[1;33m\u001b[0m\u001b[0m\n\u001b[0;32m     16\u001b[0m \u001b[1;33m\u001b[0m\u001b[0m\n",
      "\u001b[1;32mD:\\Anaconda3\\lib\\site-packages\\ipykernel\\kernelbase.py\u001b[0m in \u001b[0;36mraw_input\u001b[1;34m(self, prompt)\u001b[0m\n\u001b[0;32m    858\u001b[0m                 \u001b[1;34m\"raw_input was called, but this frontend does not support input requests.\"\u001b[0m\u001b[1;33m\u001b[0m\u001b[1;33m\u001b[0m\u001b[0m\n\u001b[0;32m    859\u001b[0m             )\n\u001b[1;32m--> 860\u001b[1;33m         return self._input_request(str(prompt),\n\u001b[0m\u001b[0;32m    861\u001b[0m             \u001b[0mself\u001b[0m\u001b[1;33m.\u001b[0m\u001b[0m_parent_ident\u001b[0m\u001b[1;33m,\u001b[0m\u001b[1;33m\u001b[0m\u001b[1;33m\u001b[0m\u001b[0m\n\u001b[0;32m    862\u001b[0m             \u001b[0mself\u001b[0m\u001b[1;33m.\u001b[0m\u001b[0m_parent_header\u001b[0m\u001b[1;33m,\u001b[0m\u001b[1;33m\u001b[0m\u001b[1;33m\u001b[0m\u001b[0m\n",
      "\u001b[1;32mD:\\Anaconda3\\lib\\site-packages\\ipykernel\\kernelbase.py\u001b[0m in \u001b[0;36m_input_request\u001b[1;34m(self, prompt, ident, parent, password)\u001b[0m\n\u001b[0;32m    902\u001b[0m             \u001b[1;32mexcept\u001b[0m \u001b[0mKeyboardInterrupt\u001b[0m\u001b[1;33m:\u001b[0m\u001b[1;33m\u001b[0m\u001b[1;33m\u001b[0m\u001b[0m\n\u001b[0;32m    903\u001b[0m                 \u001b[1;31m# re-raise KeyboardInterrupt, to truncate traceback\u001b[0m\u001b[1;33m\u001b[0m\u001b[1;33m\u001b[0m\u001b[1;33m\u001b[0m\u001b[0m\n\u001b[1;32m--> 904\u001b[1;33m                 \u001b[1;32mraise\u001b[0m \u001b[0mKeyboardInterrupt\u001b[0m\u001b[1;33m(\u001b[0m\u001b[1;34m\"Interrupted by user\"\u001b[0m\u001b[1;33m)\u001b[0m \u001b[1;32mfrom\u001b[0m \u001b[1;32mNone\u001b[0m\u001b[1;33m\u001b[0m\u001b[1;33m\u001b[0m\u001b[0m\n\u001b[0m\u001b[0;32m    905\u001b[0m             \u001b[1;32mexcept\u001b[0m \u001b[0mException\u001b[0m \u001b[1;32mas\u001b[0m \u001b[0me\u001b[0m\u001b[1;33m:\u001b[0m\u001b[1;33m\u001b[0m\u001b[1;33m\u001b[0m\u001b[0m\n\u001b[0;32m    906\u001b[0m                 \u001b[0mself\u001b[0m\u001b[1;33m.\u001b[0m\u001b[0mlog\u001b[0m\u001b[1;33m.\u001b[0m\u001b[0mwarning\u001b[0m\u001b[1;33m(\u001b[0m\u001b[1;34m\"Invalid Message:\"\u001b[0m\u001b[1;33m,\u001b[0m \u001b[0mexc_info\u001b[0m\u001b[1;33m=\u001b[0m\u001b[1;32mTrue\u001b[0m\u001b[1;33m)\u001b[0m\u001b[1;33m\u001b[0m\u001b[1;33m\u001b[0m\u001b[0m\n",
      "\u001b[1;31mKeyboardInterrupt\u001b[0m: Interrupted by user"
     ]
    }
   ],
   "source": [
    "make_upper_name()"
   ]
  },
  {
   "cell_type": "markdown",
   "id": "c1a07c64",
   "metadata": {},
   "source": [
    "The raise statement allows the programmer to force a specified exception to occur"
   ]
  },
  {
   "cell_type": "code",
   "execution_count": 127,
   "id": "e7ad34d5",
   "metadata": {},
   "outputs": [
    {
     "name": "stdout",
     "output_type": "stream",
     "text": [
      "Trying to print this statement no.1\n",
      "Statement no.1 printed successfully. Making this as statement 2 in the else block.\n",
      "Statement 1 and statement 2 were printed succeesfully finally! Good bye!\n"
     ]
    }
   ],
   "source": [
    "try:\n",
    "    print(\"Trying to print this statement no.1\")\n",
    "    #do something\n",
    "except Exception as e:\n",
    "#     print(e)\n",
    "    raise e\n",
    "else:\n",
    "    print(\"Statement no.1 printed successfully. Making this as statement 2 in the else block.\")\n",
    "    #do something else\n",
    "finally:\n",
    "    print(\"Statement 1 and statement 2 were printed succeesfully finally! Good bye!\")"
   ]
  },
  {
   "cell_type": "code",
   "execution_count": 140,
   "id": "0821921c",
   "metadata": {},
   "outputs": [
    {
     "name": "stdout",
     "output_type": "stream",
     "text": [
      "Error concatenating string and integer literals\n",
      "Good bye!\n"
     ]
    },
    {
     "ename": "TypeError",
     "evalue": "can only concatenate str (not \"int\") to str",
     "output_type": "error",
     "traceback": [
      "\u001b[1;31m---------------------------------------------------------------------------\u001b[0m",
      "\u001b[1;31mTypeError\u001b[0m                                 Traceback (most recent call last)",
      "\u001b[1;32m<ipython-input-140-edc756063491>\u001b[0m in \u001b[0;36m<module>\u001b[1;34m\u001b[0m\n\u001b[0;32m      1\u001b[0m \u001b[1;32mtry\u001b[0m\u001b[1;33m:\u001b[0m\u001b[1;33m\u001b[0m\u001b[1;33m\u001b[0m\u001b[0m\n\u001b[1;32m----> 2\u001b[1;33m     \u001b[0ms\u001b[0m \u001b[1;33m=\u001b[0m \u001b[1;34m\"hello\"\u001b[0m \u001b[1;33m+\u001b[0m \u001b[1;36m3\u001b[0m\u001b[1;33m\u001b[0m\u001b[1;33m\u001b[0m\u001b[0m\n\u001b[0m\u001b[0;32m      3\u001b[0m \u001b[1;33m\u001b[0m\u001b[0m\n\u001b[0;32m      4\u001b[0m \u001b[1;32mexcept\u001b[0m\u001b[1;33m:\u001b[0m\u001b[1;33m\u001b[0m\u001b[1;33m\u001b[0m\u001b[0m\n\u001b[0;32m      5\u001b[0m     \u001b[0mprint\u001b[0m\u001b[1;33m(\u001b[0m\u001b[1;34m\"Error concatenating string and integer literals\"\u001b[0m\u001b[1;33m)\u001b[0m\u001b[1;33m\u001b[0m\u001b[1;33m\u001b[0m\u001b[0m\n",
      "\u001b[1;31mTypeError\u001b[0m: can only concatenate str (not \"int\") to str"
     ]
    }
   ],
   "source": [
    "try:\n",
    "    s = \"hello\" + 3\n",
    "\n",
    "except:\n",
    "    print(\"Error concatenating string and integer literals\")\n",
    "    raise\n",
    "else:\n",
    "    print(s)\n",
    "finally:\n",
    "    print(\"Good bye!\")"
   ]
  },
  {
   "cell_type": "code",
   "execution_count": 158,
   "id": "b6ab0948",
   "metadata": {},
   "outputs": [
    {
     "name": "stdout",
     "output_type": "stream",
     "text": [
      "division by zero!\n",
      "executing finally clause\n"
     ]
    },
    {
     "ename": "ZeroDivisionError",
     "evalue": "division by zero!",
     "output_type": "error",
     "traceback": [
      "\u001b[1;31m---------------------------------------------------------------------------\u001b[0m",
      "\u001b[1;31mZeroDivisionError\u001b[0m                         Traceback (most recent call last)",
      "\u001b[1;32m<ipython-input-158-8454f6154e1b>\u001b[0m in \u001b[0;36m<module>\u001b[1;34m\u001b[0m\n\u001b[0;32m     20\u001b[0m         \u001b[0mprint\u001b[0m\u001b[1;33m(\u001b[0m\u001b[1;34m\"executing finally clause\"\u001b[0m\u001b[1;33m)\u001b[0m\u001b[1;33m\u001b[0m\u001b[1;33m\u001b[0m\u001b[0m\n\u001b[0;32m     21\u001b[0m \u001b[1;33m\u001b[0m\u001b[0m\n\u001b[1;32m---> 22\u001b[1;33m \u001b[0mdivide\u001b[0m\u001b[1;33m(\u001b[0m\u001b[1;36m2\u001b[0m\u001b[1;33m,\u001b[0m\u001b[1;36m0\u001b[0m\u001b[1;33m)\u001b[0m\u001b[1;33m\u001b[0m\u001b[1;33m\u001b[0m\u001b[0m\n\u001b[0m",
      "\u001b[1;32m<ipython-input-158-8454f6154e1b>\u001b[0m in \u001b[0;36mdivide\u001b[1;34m(x, y)\u001b[0m\n\u001b[0;32m      6\u001b[0m \u001b[1;31m#         s = \"hello\" + 3\u001b[0m\u001b[1;33m\u001b[0m\u001b[1;33m\u001b[0m\u001b[1;33m\u001b[0m\u001b[0m\n\u001b[0;32m      7\u001b[0m \u001b[1;31m#         result = x / y\u001b[0m\u001b[1;33m\u001b[0m\u001b[1;33m\u001b[0m\u001b[1;33m\u001b[0m\u001b[0m\n\u001b[1;32m----> 8\u001b[1;33m         \u001b[1;32mraise\u001b[0m \u001b[0mZeroDivisionError\u001b[0m\u001b[1;33m(\u001b[0m\u001b[1;34m\"division by zero!\"\u001b[0m\u001b[1;33m)\u001b[0m\u001b[1;33m\u001b[0m\u001b[1;33m\u001b[0m\u001b[0m\n\u001b[0m\u001b[0;32m      9\u001b[0m     \u001b[1;32mexcept\u001b[0m \u001b[0mZeroDivisionError\u001b[0m\u001b[1;33m:\u001b[0m\u001b[1;33m\u001b[0m\u001b[1;33m\u001b[0m\u001b[0m\n\u001b[0;32m     10\u001b[0m         \u001b[0mprint\u001b[0m\u001b[1;33m(\u001b[0m\u001b[1;34m\"division by zero!\"\u001b[0m\u001b[1;33m)\u001b[0m\u001b[1;33m\u001b[0m\u001b[1;33m\u001b[0m\u001b[0m\n",
      "\u001b[1;31mZeroDivisionError\u001b[0m: division by zero!"
     ]
    }
   ],
   "source": [
    "#SyntaxError not printing message\n",
    "\n",
    "def divide(x, y):\n",
    "    try:\n",
    "        \n",
    "#         s = \"hello\" + 3\n",
    "#         result = x / y \n",
    "        raise ZeroDivisionError(\"division by zero!\")\n",
    "    except ZeroDivisionError:\n",
    "        print(\"division by zero!\")\n",
    "        raise\n",
    "    except TypeError as e:\n",
    "        print(\"Cannot concatenate str and int\") \n",
    "        raise\n",
    "    except SyntaxError:\n",
    "        print(\"Wrong syntax\")\n",
    "    else:\n",
    "        print(\"result is\", result)\n",
    "    finally:\n",
    "        print(\"executing finally clause\")\n",
    "        \n",
    "divide(2,0)        "
   ]
  },
  {
   "cell_type": "code",
   "execution_count": 3,
   "id": "cc0c571a",
   "metadata": {},
   "outputs": [
    {
     "name": "stdout",
     "output_type": "stream",
     "text": [
      "a\n",
      "b\n",
      "d\n"
     ]
    }
   ],
   "source": [
    "try:\n",
    "    print(\"a\")\n",
    "    raise Exception(\"doom\")\n",
    "except:\n",
    "    print(\"b\")\n",
    "else:\n",
    "    print(\"c\")\n",
    "finally:\n",
    "    print(\"d\")"
   ]
  },
  {
   "cell_type": "code",
   "execution_count": 4,
   "id": "4b23a13f",
   "metadata": {},
   "outputs": [
    {
     "name": "stdout",
     "output_type": "stream",
     "text": [
      "a\n",
      "d\n"
     ]
    }
   ],
   "source": [
    "def f():\n",
    "    try:\n",
    "        print(\"a\")\n",
    "        return\n",
    "    except:\n",
    "        print(\"b\")\n",
    "    else:\n",
    "        print(\"c\")\n",
    "    finally:\n",
    "        print(\"d\")\n",
    "\n",
    "f()"
   ]
  },
  {
   "cell_type": "markdown",
   "id": "bbd8e78d",
   "metadata": {},
   "source": [
    "It is possible to create custom exceptions by inheriting from the Exception class"
   ]
  },
  {
   "cell_type": "code",
   "execution_count": 197,
   "id": "c2253862",
   "metadata": {},
   "outputs": [
    {
     "name": "stdout",
     "output_type": "stream",
     "text": [
      "Enter a password: \n"
     ]
    },
    {
     "ename": "LengthError",
     "evalue": "Length is less than 8 characters. Please enter another password.",
     "output_type": "error",
     "traceback": [
      "\u001b[1;31m---------------------------------------------------------------------------\u001b[0m",
      "\u001b[1;31mLengthError\u001b[0m                               Traceback (most recent call last)",
      "\u001b[1;32m<ipython-input-197-cb3c4675fe61>\u001b[0m in \u001b[0;36m<module>\u001b[1;34m\u001b[0m\n\u001b[0;32m      6\u001b[0m     \u001b[0mpassw\u001b[0m \u001b[1;33m=\u001b[0m \u001b[0minput\u001b[0m\u001b[1;33m(\u001b[0m\u001b[1;34m\"Enter a password: \"\u001b[0m\u001b[1;33m)\u001b[0m\u001b[1;33m\u001b[0m\u001b[1;33m\u001b[0m\u001b[0m\n\u001b[0;32m      7\u001b[0m     \u001b[1;32mif\u001b[0m \u001b[0mlen\u001b[0m\u001b[1;33m(\u001b[0m\u001b[0mpassw\u001b[0m\u001b[1;33m)\u001b[0m \u001b[1;33m<\u001b[0m \u001b[1;36m8\u001b[0m\u001b[1;33m:\u001b[0m\u001b[1;33m\u001b[0m\u001b[1;33m\u001b[0m\u001b[0m\n\u001b[1;32m----> 8\u001b[1;33m         \u001b[1;32mraise\u001b[0m \u001b[0mLengthError\u001b[0m\u001b[1;33m(\u001b[0m\u001b[1;34m\"Length is less than 8 characters. Please enter another password.\"\u001b[0m\u001b[1;33m)\u001b[0m\u001b[1;33m\u001b[0m\u001b[1;33m\u001b[0m\u001b[0m\n\u001b[0m\u001b[0;32m      9\u001b[0m     \u001b[1;32melse\u001b[0m\u001b[1;33m:\u001b[0m\u001b[1;33m\u001b[0m\u001b[1;33m\u001b[0m\u001b[0m\n\u001b[0;32m     10\u001b[0m         \u001b[0mprint\u001b[0m\u001b[1;33m(\u001b[0m\u001b[1;34m\"Good password!\"\u001b[0m\u001b[1;33m)\u001b[0m\u001b[1;33m\u001b[0m\u001b[1;33m\u001b[0m\u001b[0m\n",
      "\u001b[1;31mLengthError\u001b[0m: Length is less than 8 characters. Please enter another password."
     ]
    }
   ],
   "source": [
    "class LengthError(Exception):\n",
    "    \"\"\"Exception raised when password length is less than 8 characters long\"\"\"\n",
    "    pass\n",
    "\n",
    "try:\n",
    "    passw = input(\"Enter a password: \")\n",
    "    if len(passw) < 8:\n",
    "        raise LengthError(\"Length is less than 8 characters. Please enter another password.\")\n",
    "    else:\n",
    "        print(\"Good password!\")\n",
    "except:\n",
    "    raise"
   ]
  },
  {
   "cell_type": "code",
   "execution_count": 198,
   "id": "3da482ec",
   "metadata": {},
   "outputs": [
    {
     "name": "stdout",
     "output_type": "stream",
     "text": [
      "Help on class LengthError in module __main__:\n",
      "\n",
      "class LengthError(builtins.Exception)\n",
      " |  Exception raised when password length is less than 8 characters long\n",
      " |  \n",
      " |  Method resolution order:\n",
      " |      LengthError\n",
      " |      builtins.Exception\n",
      " |      builtins.BaseException\n",
      " |      builtins.object\n",
      " |  \n",
      " |  Data descriptors defined here:\n",
      " |  \n",
      " |  __weakref__\n",
      " |      list of weak references to the object (if defined)\n",
      " |  \n",
      " |  ----------------------------------------------------------------------\n",
      " |  Methods inherited from builtins.Exception:\n",
      " |  \n",
      " |  __init__(self, /, *args, **kwargs)\n",
      " |      Initialize self.  See help(type(self)) for accurate signature.\n",
      " |  \n",
      " |  ----------------------------------------------------------------------\n",
      " |  Static methods inherited from builtins.Exception:\n",
      " |  \n",
      " |  __new__(*args, **kwargs) from builtins.type\n",
      " |      Create and return a new object.  See help(type) for accurate signature.\n",
      " |  \n",
      " |  ----------------------------------------------------------------------\n",
      " |  Methods inherited from builtins.BaseException:\n",
      " |  \n",
      " |  __delattr__(self, name, /)\n",
      " |      Implement delattr(self, name).\n",
      " |  \n",
      " |  __getattribute__(self, name, /)\n",
      " |      Return getattr(self, name).\n",
      " |  \n",
      " |  __reduce__(...)\n",
      " |      Helper for pickle.\n",
      " |  \n",
      " |  __repr__(self, /)\n",
      " |      Return repr(self).\n",
      " |  \n",
      " |  __setattr__(self, name, value, /)\n",
      " |      Implement setattr(self, name, value).\n",
      " |  \n",
      " |  __setstate__(...)\n",
      " |  \n",
      " |  __str__(self, /)\n",
      " |      Return str(self).\n",
      " |  \n",
      " |  with_traceback(...)\n",
      " |      Exception.with_traceback(tb) --\n",
      " |      set self.__traceback__ to tb and return self.\n",
      " |  \n",
      " |  ----------------------------------------------------------------------\n",
      " |  Data descriptors inherited from builtins.BaseException:\n",
      " |  \n",
      " |  __cause__\n",
      " |      exception cause\n",
      " |  \n",
      " |  __context__\n",
      " |      exception context\n",
      " |  \n",
      " |  __dict__\n",
      " |  \n",
      " |  __suppress_context__\n",
      " |  \n",
      " |  __traceback__\n",
      " |  \n",
      " |  args\n",
      "\n"
     ]
    }
   ],
   "source": [
    "help(LengthError)"
   ]
  },
  {
   "cell_type": "code",
   "execution_count": 194,
   "id": "4f2310a6",
   "metadata": {},
   "outputs": [
    {
     "ename": "AttributeError",
     "evalue": "'TracebackException' object has no attribute 'lineno'",
     "output_type": "error",
     "traceback": [
      "\u001b[1;31m---------------------------------------------------------------------------\u001b[0m",
      "\u001b[1;31mTypeError\u001b[0m                                 Traceback (most recent call last)",
      "\u001b[1;32m<ipython-input-194-7852fd3b241a>\u001b[0m in \u001b[0;36m<module>\u001b[1;34m\u001b[0m\n\u001b[0;32m      3\u001b[0m \u001b[1;32mtry\u001b[0m\u001b[1;33m:\u001b[0m\u001b[1;33m\u001b[0m\u001b[1;33m\u001b[0m\u001b[0m\n\u001b[1;32m----> 4\u001b[1;33m     \u001b[0ms\u001b[0m \u001b[1;33m=\u001b[0m \u001b[1;34m'hello'\u001b[0m \u001b[1;33m+\u001b[0m \u001b[1;36m3\u001b[0m\u001b[1;33m\u001b[0m\u001b[1;33m\u001b[0m\u001b[0m\n\u001b[0m\u001b[0;32m      5\u001b[0m \u001b[1;32mexcept\u001b[0m \u001b[0mException\u001b[0m \u001b[1;32mas\u001b[0m \u001b[0mexc\u001b[0m\u001b[1;33m:\u001b[0m\u001b[1;33m\u001b[0m\u001b[1;33m\u001b[0m\u001b[0m\n",
      "\u001b[1;31mTypeError\u001b[0m: can only concatenate str (not \"int\") to str",
      "\nDuring handling of the above exception, another exception occurred:\n",
      "\u001b[1;31mAttributeError\u001b[0m                            Traceback (most recent call last)",
      "\u001b[1;32m<ipython-input-194-7852fd3b241a>\u001b[0m in \u001b[0;36m<module>\u001b[1;34m\u001b[0m\n\u001b[0;32m      5\u001b[0m \u001b[1;32mexcept\u001b[0m \u001b[0mException\u001b[0m \u001b[1;32mas\u001b[0m \u001b[0mexc\u001b[0m\u001b[1;33m:\u001b[0m\u001b[1;33m\u001b[0m\u001b[1;33m\u001b[0m\u001b[0m\n\u001b[0;32m      6\u001b[0m     \u001b[0mt\u001b[0m \u001b[1;33m=\u001b[0m \u001b[0mtraceback\u001b[0m\u001b[1;33m.\u001b[0m\u001b[0mTracebackException\u001b[0m\u001b[1;33m(\u001b[0m\u001b[0mexc_type\u001b[0m\u001b[1;33m=\u001b[0m\u001b[0mtype\u001b[0m\u001b[1;33m(\u001b[0m\u001b[0mexc\u001b[0m\u001b[1;33m)\u001b[0m\u001b[1;33m,\u001b[0m \u001b[0mexc_value\u001b[0m\u001b[1;33m=\u001b[0m\u001b[0mexc\u001b[0m\u001b[1;33m,\u001b[0m \u001b[0mexc_traceback\u001b[0m\u001b[1;33m=\u001b[0m\u001b[0mexc\u001b[0m\u001b[1;33m.\u001b[0m\u001b[0m__traceback__\u001b[0m\u001b[1;33m)\u001b[0m\u001b[1;33m\u001b[0m\u001b[1;33m\u001b[0m\u001b[0m\n\u001b[1;32m----> 7\u001b[1;33m     \u001b[0mprint\u001b[0m\u001b[1;33m(\u001b[0m\u001b[0mt\u001b[0m\u001b[1;33m.\u001b[0m\u001b[0mlineno\u001b[0m\u001b[1;33m)\u001b[0m\u001b[1;33m\u001b[0m\u001b[1;33m\u001b[0m\u001b[0m\n\u001b[0m",
      "\u001b[1;31mAttributeError\u001b[0m: 'TracebackException' object has no attribute 'lineno'"
     ]
    }
   ],
   "source": [
    "#get exception individual attributes\n",
    "\n",
    "import traceback\n",
    "\n",
    "try:\n",
    "    s = 'hello' + 3\n",
    "except Exception as exc:\n",
    "    t = traceback.TracebackException(exc_type=type(exc), exc_value=exc, exc_traceback=exc.__traceback__)\n",
    "    print(t.lineno)"
   ]
  },
  {
   "cell_type": "code",
   "execution_count": 122,
   "id": "25938c3d",
   "metadata": {},
   "outputs": [
    {
     "data": {
      "text/plain": [
       "Hello(x=23, y=24)"
      ]
     },
     "execution_count": 122,
     "metadata": {},
     "output_type": "execute_result"
    }
   ],
   "source": [
    "import collections as clk\n",
    "Hello = clk.namedtuple('Hello', ['x', 'y'])\n",
    "t = Hello(x=23, y=24)\n",
    "t"
   ]
  },
  {
   "cell_type": "code",
   "execution_count": 76,
   "id": "f065ba96",
   "metadata": {},
   "outputs": [],
   "source": [
    "from collections import namedtuple\n",
    "\n",
    "Point = namedtuple('Point', ['x', 'y'])\n",
    "p = Point(11, y=22)\n",
    "x,y = p"
   ]
  },
  {
   "cell_type": "code",
   "execution_count": 77,
   "id": "bd0379f0",
   "metadata": {},
   "outputs": [
    {
     "data": {
      "text/plain": [
       "11"
      ]
     },
     "execution_count": 77,
     "metadata": {},
     "output_type": "execute_result"
    }
   ],
   "source": [
    "x"
   ]
  },
  {
   "cell_type": "code",
   "execution_count": 78,
   "id": "b7ce68de",
   "metadata": {},
   "outputs": [
    {
     "data": {
      "text/plain": [
       "22"
      ]
     },
     "execution_count": 78,
     "metadata": {},
     "output_type": "execute_result"
    }
   ],
   "source": [
    "y"
   ]
  },
  {
   "cell_type": "code",
   "execution_count": 1,
   "id": "a1f9721b",
   "metadata": {},
   "outputs": [
    {
     "name": "stdout",
     "output_type": "stream",
     "text": [
      "1\n",
      "2\n"
     ]
    },
    {
     "ename": "RuntimeError",
     "evalue": "Squared values are not allowed",
     "output_type": "error",
     "traceback": [
      "\u001b[1;31m---------------------------------------------------------------------------\u001b[0m",
      "\u001b[1;31mRuntimeError\u001b[0m                              Traceback (most recent call last)",
      "\u001b[1;32m<ipython-input-1-f68d9c14df83>\u001b[0m in \u001b[0;36m<module>\u001b[1;34m\u001b[0m\n\u001b[0;32m      5\u001b[0m     \u001b[1;32mfor\u001b[0m \u001b[0mi\u001b[0m \u001b[1;32min\u001b[0m \u001b[0ml\u001b[0m\u001b[1;33m:\u001b[0m\u001b[1;33m\u001b[0m\u001b[1;33m\u001b[0m\u001b[0m\n\u001b[0;32m      6\u001b[0m         \u001b[1;32mif\u001b[0m \u001b[0mi\u001b[0m\u001b[1;33m**\u001b[0m\u001b[1;36m2\u001b[0m \u001b[1;32min\u001b[0m \u001b[0ml2\u001b[0m\u001b[1;33m:\u001b[0m\u001b[1;33m\u001b[0m\u001b[1;33m\u001b[0m\u001b[0m\n\u001b[1;32m----> 7\u001b[1;33m             \u001b[1;32mraise\u001b[0m \u001b[0mRuntimeError\u001b[0m\u001b[1;33m(\u001b[0m\u001b[1;34m\"Squared values are not allowed\"\u001b[0m\u001b[1;33m)\u001b[0m\u001b[1;33m\u001b[0m\u001b[1;33m\u001b[0m\u001b[0m\n\u001b[0m\u001b[0;32m      8\u001b[0m         \u001b[1;32melse\u001b[0m\u001b[1;33m:\u001b[0m\u001b[1;33m\u001b[0m\u001b[1;33m\u001b[0m\u001b[0m\n\u001b[0;32m      9\u001b[0m             \u001b[0mprint\u001b[0m\u001b[1;33m(\u001b[0m\u001b[0mi\u001b[0m\u001b[1;33m)\u001b[0m\u001b[1;33m\u001b[0m\u001b[1;33m\u001b[0m\u001b[0m\n",
      "\u001b[1;31mRuntimeError\u001b[0m: Squared values are not allowed"
     ]
    }
   ],
   "source": [
    "#Raise error if l2 has a squared value for any element in l1\n",
    "l1 = [1,2,3]\n",
    "l2 = [9,16]\n",
    "\n",
    "try:\n",
    "    for i in l1:\n",
    "        if i**2 in l2:\n",
    "            raise RuntimeError(\"Squared values are not allowed\")\n",
    "        else:\n",
    "            print(i)\n",
    "except:\n",
    "    raise  #Exception is raised because number 9 is square of 3 which exists in l1"
   ]
  },
  {
   "cell_type": "code",
   "execution_count": null,
   "id": "5f4a1064",
   "metadata": {},
   "outputs": [],
   "source": []
  }
 ],
 "metadata": {
  "kernelspec": {
   "display_name": "Python 3",
   "language": "python",
   "name": "python3"
  },
  "language_info": {
   "codemirror_mode": {
    "name": "ipython",
    "version": 3
   },
   "file_extension": ".py",
   "mimetype": "text/x-python",
   "name": "python",
   "nbconvert_exporter": "python",
   "pygments_lexer": "ipython3",
   "version": "3.8.8"
  }
 },
 "nbformat": 4,
 "nbformat_minor": 5
}
