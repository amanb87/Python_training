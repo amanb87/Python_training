{
 "cells": [
  {
   "cell_type": "code",
   "execution_count": 7,
   "id": "c3aa0b60",
   "metadata": {},
   "outputs": [
    {
     "name": "stderr",
     "output_type": "stream",
     "text": [
      "INFO:root:Starting on port 8080, database is at bolt://localhost:7687\n"
     ]
    },
    {
     "name": "stdout",
     "output_type": "stream",
     "text": [
      " * Serving Flask app \"__main__\" (lazy loading)\n",
      " * Environment: production\n",
      "   WARNING: This is a development server. Do not use it in a production deployment.\n",
      "   Use a production WSGI server instead.\n",
      " * Debug mode: off\n"
     ]
    },
    {
     "name": "stderr",
     "output_type": "stream",
     "text": [
      "INFO:werkzeug: * Running on http://127.0.0.1:8080/ (Press CTRL+C to quit)\n",
      "ERROR:__main__:Exception on /movie/Hoffa [GET]\n",
      "Traceback (most recent call last):\n",
      "  File \"D:\\Anaconda3\\lib\\site-packages\\flask\\app.py\", line 2447, in wsgi_app\n",
      "    response = self.full_dispatch_request()\n",
      "  File \"D:\\Anaconda3\\lib\\site-packages\\flask\\app.py\", line 1952, in full_dispatch_request\n",
      "    rv = self.handle_user_exception(e)\n",
      "  File \"D:\\Anaconda3\\lib\\site-packages\\flask\\app.py\", line 1821, in handle_user_exception\n",
      "    reraise(exc_type, exc_value, tb)\n",
      "  File \"D:\\Anaconda3\\lib\\site-packages\\flask\\_compat.py\", line 39, in reraise\n",
      "    raise value\n",
      "  File \"D:\\Anaconda3\\lib\\site-packages\\flask\\app.py\", line 1950, in full_dispatch_request\n",
      "    rv = self.dispatch_request()\n",
      "  File \"D:\\Anaconda3\\lib\\site-packages\\flask\\app.py\", line 1936, in dispatch_request\n",
      "    return self.view_functions[rule.endpoint](**req.view_args)\n",
      "  File \"<ipython-input-7-bcd1633882e3>\", line 140, in get_movie\n",
      "    result = db.read_transaction(work, title)\n",
      "  File \"D:\\Anaconda3\\lib\\site-packages\\neo4j\\work\\simple.py\", line 396, in read_transaction\n",
      "    return self._run_transaction(READ_ACCESS, transaction_function, *args, **kwargs)\n",
      "  File \"D:\\Anaconda3\\lib\\site-packages\\neo4j\\work\\simple.py\", line 322, in _run_transaction\n",
      "    self._open_transaction(access_mode=access_mode, metadata=metadata, timeout=timeout)\n",
      "  File \"D:\\Anaconda3\\lib\\site-packages\\neo4j\\work\\simple.py\", line 255, in _open_transaction\n",
      "    self._connect(access_mode=access_mode)\n",
      "  File \"D:\\Anaconda3\\lib\\site-packages\\neo4j\\work\\simple.py\", line 108, in _connect\n",
      "    super()._connect(access_mode)\n",
      "  File \"D:\\Anaconda3\\lib\\site-packages\\neo4j\\work\\__init__.py\", line 79, in _connect\n",
      "    self._connection = self._pool.acquire(\n",
      "  File \"D:\\Anaconda3\\lib\\site-packages\\neo4j\\io\\__init__.py\", line 841, in acquire\n",
      "    return self._acquire(self.address, timeout)\n",
      "  File \"D:\\Anaconda3\\lib\\site-packages\\neo4j\\io\\__init__.py\", line 695, in _acquire\n",
      "    connection = self.opener(address, timeout)\n",
      "  File \"D:\\Anaconda3\\lib\\site-packages\\neo4j\\io\\__init__.py\", line 824, in opener\n",
      "    return Bolt.open(\n",
      "  File \"D:\\Anaconda3\\lib\\site-packages\\neo4j\\io\\__init__.py\", line 359, in open\n",
      "    connection.hello()\n",
      "  File \"D:\\Anaconda3\\lib\\site-packages\\neo4j\\io\\_bolt4.py\", line 443, in hello\n",
      "    self.fetch_all()\n",
      "  File \"D:\\Anaconda3\\lib\\site-packages\\neo4j\\io\\__init__.py\", line 535, in fetch_all\n",
      "    detail_delta, summary_delta = self.fetch_message()\n",
      "  File \"D:\\Anaconda3\\lib\\site-packages\\neo4j\\io\\_bolt4.py\", line 309, in fetch_message\n",
      "    response.on_failure(summary_metadata or {})\n",
      "  File \"D:\\Anaconda3\\lib\\site-packages\\neo4j\\io\\_common.py\", line 243, in on_failure\n",
      "    raise Neo4jError.hydrate(**metadata)\n",
      "neo4j.exceptions.AuthError: {code: Neo.ClientError.Security.Unauthorized} {message: The client is unauthorized due to authentication failure.}\n",
      "INFO:werkzeug:127.0.0.1 - - [08/Feb/2022 06:00:13] \"\u001b[35m\u001b[1mGET /movie/Hoffa HTTP/1.1\u001b[0m\" 500 -\n"
     ]
    }
   ],
   "source": [
    "from json import dumps\n",
    "import logging\n",
    "import os\n",
    "\n",
    "from flask import (\n",
    "    Flask,\n",
    "    g,\n",
    "    request,\n",
    "    Response,\n",
    ")\n",
    "from neo4j import (\n",
    "    GraphDatabase,\n",
    "    basic_auth,\n",
    ")\n",
    "\n",
    "\n",
    "app = Flask(__name__)\n",
    "\n",
    "url = os.getenv(\"NEO4J_URI\", \"bolt://localhost:7687\")\n",
    "username = os.getenv(\"NEO4J_USER\", \"movies\")\n",
    "password = os.getenv(\"NEO4J_PASSWORD\", \"movies\")\n",
    "neo4j_version = os.getenv(\"NEO4J_VERSION\", \"4\")\n",
    "database = os.getenv(\"NEO4J_DATABASE\", \"movies\")\n",
    "\n",
    "port = os.getenv(\"PORT\", 8080)\n",
    "\n",
    "driver = GraphDatabase.driver(url, auth=basic_auth(username, password))\n",
    "\n",
    "\n",
    "def get_db():\n",
    "    if not hasattr(g, \"neo4j_db\"):\n",
    "        if neo4j_version.startswith(\"4\"):\n",
    "            g.neo4j_db = driver.session(database=database)\n",
    "        else:\n",
    "            g.neo4j_db = driver.session()\n",
    "    return g.neo4j_db\n",
    "\n",
    "\n",
    "@app.teardown_appcontext\n",
    "def close_db(error):\n",
    "    if hasattr(g, \"neo4j_db\"):\n",
    "        g.neo4j_db.close()\n",
    "\n",
    "\n",
    "@app.route(\"/\")\n",
    "def get_index():\n",
    "    return \"hello\"\n",
    "\n",
    "\n",
    "def serialize_movie(movie):\n",
    "    return {\n",
    "        \"id\": movie[\"id\"],\n",
    "        \"title\": movie[\"title\"],\n",
    "        \"summary\": movie[\"summary\"],\n",
    "        \"released\": movie[\"released\"],\n",
    "        \"duration\": movie[\"duration\"],\n",
    "        \"rated\": movie[\"rated\"],\n",
    "        \"tagline\": movie[\"tagline\"],\n",
    "        \"votes\": movie.get(\"votes\", 0)\n",
    "    }\n",
    "\n",
    "\n",
    "def serialize_cast(cast):\n",
    "    return {\n",
    "        \"name\": cast[0],\n",
    "        \"job\": cast[1],\n",
    "        \"role\": cast[2]\n",
    "    }\n",
    "\n",
    "\n",
    "@app.route(\"/graph\")\n",
    "def get_graph():\n",
    "    def work(tx, limit):\n",
    "        return list(tx.run(\n",
    "            \"MATCH (m:Movie)<-[:ACTED_IN]-(a:Person) \"\n",
    "            \"RETURN m.title AS movie, collect(a.name) AS cast \"\n",
    "            \"LIMIT $limit\",\n",
    "            {\"limit\": limit}\n",
    "        ))\n",
    "\n",
    "    db = get_db()\n",
    "    results = db.read_transaction(work, request.args.get(\"limit\", 100))\n",
    "    nodes = []\n",
    "    rels = []\n",
    "    i = 0\n",
    "    for record in results:\n",
    "        nodes.append({\"title\": record[\"movie\"], \"label\": \"movie\"})\n",
    "        target = i\n",
    "        i += 1\n",
    "        for name in record[\"cast\"]:\n",
    "            actor = {\"title\": name, \"label\": \"actor\"}\n",
    "            try:\n",
    "                source = nodes.index(actor)\n",
    "            except ValueError:\n",
    "                nodes.append(actor)\n",
    "                source = i\n",
    "                i += 1\n",
    "            rels.append({\"source\": source, \"target\": target})\n",
    "    return Response(dumps({\"nodes\": nodes, \"links\": rels}),\n",
    "                    mimetype=\"application/json\")\n",
    "\n",
    "\n",
    "@app.route(\"/search\")\n",
    "def get_search():\n",
    "    def work(tx, q_):\n",
    "        return list(tx.run(\n",
    "            \"MATCH (movie:Movie) \"\n",
    "            \"WHERE toLower(movie.title) CONTAINS toLower($title) \"\n",
    "            \"RETURN movie\",\n",
    "            {\"title\": q_}\n",
    "        ))\n",
    "\n",
    "    try:\n",
    "        q = request.args[\"q\"]\n",
    "    except KeyError:\n",
    "        return []\n",
    "    else:\n",
    "        db = get_db()\n",
    "        results = db.read_transaction(work, q)\n",
    "        return Response(\n",
    "            dumps([serialize_movie(record[\"movie\"]) for record in results]),\n",
    "            mimetype=\"application/json\"\n",
    "        )\n",
    "\n",
    "\n",
    "@app.route(\"/movie/<title>\")\n",
    "def get_movie(title):\n",
    "    def work(tx, title_):\n",
    "        return tx.run(\n",
    "            \"MATCH (movie:Movie {title:$title}) \"\n",
    "            \"OPTIONAL MATCH (movie)<-[r]-(person:Person) \"\n",
    "            \"RETURN movie.title as title,\"\n",
    "            \"COLLECT([person.name, \"\n",
    "            \"HEAD(SPLIT(TOLOWER(TYPE(r)), '_')), r.roles]) AS cast \"\n",
    "            \"LIMIT 1\",\n",
    "            {\"title\": title_}\n",
    "        ).single()\n",
    "\n",
    "    db = get_db()\n",
    "    result = db.read_transaction(work, title)\n",
    "\n",
    "    return Response(dumps({\"title\": result[\"title\"],\n",
    "                           \"cast\": [serialize_cast(member)\n",
    "                                    for member in result[\"cast\"]]}),\n",
    "                    mimetype=\"application/json\")\n",
    "\n",
    "\n",
    "@app.route(\"/movie/<title>/vote\", methods=[\"POST\"])\n",
    "def vote_in_movie(title):\n",
    "    def work(tx, title_):\n",
    "        return tx.run(\n",
    "            \"MATCH (m:Movie {title: $title}) \"\n",
    "            \"SET m.votes = coalesce(m.votes, 0) + 1;\",\n",
    "            {\"title\": title_}\n",
    "        ).consume()\n",
    "\n",
    "    db = get_db()\n",
    "    summary = db.write_transaction(work, title)\n",
    "    updates = summary.counters.properties_set\n",
    "\n",
    "    db.close()\n",
    "\n",
    "    return Response(dumps({\"updates\": updates}), mimetype=\"application/json\")\n",
    "\n",
    "\n",
    "if __name__ == \"__main__\":\n",
    "    logging.root.setLevel(logging.INFO)\n",
    "    logging.info(\"Starting on port %d, database is at %s\", port, url)\n",
    "    app.run(port=port)"
   ]
  },
  {
   "cell_type": "code",
   "execution_count": 1,
   "id": "9a891110",
   "metadata": {},
   "outputs": [
    {
     "data": {
      "text/plain": [
       "['111', '11', '0', '010', '111']"
      ]
     },
     "execution_count": 1,
     "metadata": {},
     "output_type": "execute_result"
    }
   ],
   "source": [
    "A = [119,71,62,26,71]\n",
    "B = [3,2,1,3,3]\n",
    "[bin(a)[-b:] for a, b in zip(A, B)]"
   ]
  },
  {
   "cell_type": "code",
   "execution_count": 4,
   "id": "a7ede0e4",
   "metadata": {},
   "outputs": [
    {
     "data": {
      "text/plain": [
       "['0b1110111', '0b1000111', '0b111110', '0b11010', '0b1000111']"
      ]
     },
     "execution_count": 4,
     "metadata": {},
     "output_type": "execute_result"
    }
   ],
   "source": [
    "[bin(a) for a,b in zip(A,B)]"
   ]
  },
  {
   "cell_type": "code",
   "execution_count": 1,
   "id": "673c2950",
   "metadata": {},
   "outputs": [
    {
     "name": "stderr",
     "output_type": "stream",
     "text": [
      "Generating RSA private key, 2048 bit long modulus (2 primes)\n",
      "...................................................................................+++++\n",
      "....+++++\n",
      "e is 65537 (0x010001)\n"
     ]
    }
   ],
   "source": [
    "!openssl genrsa -out keypair.pem 2048"
   ]
  },
  {
   "cell_type": "code",
   "execution_count": 10,
   "id": "7a61c508",
   "metadata": {},
   "outputs": [
    {
     "name": "stderr",
     "output_type": "stream",
     "text": [
      "Can't open C:\\Program Files\\Common Files\\ssl/openssl.cnf for reading, No such file or directory\n",
      "5764:error:02001003:system library:fopen:No such process:crypto\\bio\\bss_file.c:69:fopen('C:\\Program Files\\Common Files\\ssl/openssl.cnf','r')\n",
      "5764:error:2006D080:BIO routines:BIO_new_file:no such file:crypto\\bio\\bss_file.c:76:\n"
     ]
    }
   ],
   "source": [
    "!openssl req -x509 -newkey rsa:4096 -nodes -out cert.pem -keyout key.pem -days 365"
   ]
  },
  {
   "cell_type": "code",
   "execution_count": 9,
   "id": "e3100dd9",
   "metadata": {},
   "outputs": [
    {
     "name": "stdout",
     "output_type": "stream",
     "text": [
      "Requirement already satisfied: pyopenssl in d:\\anaconda3\\lib\\site-packages (20.0.1)\n",
      "Requirement already satisfied: six>=1.5.2 in d:\\anaconda3\\lib\\site-packages (from pyopenssl) (1.15.0)\n",
      "Requirement already satisfied: cryptography>=3.2 in d:\\anaconda3\\lib\\site-packages (from pyopenssl) (3.4.7)\n",
      "Requirement already satisfied: cffi>=1.12 in d:\\anaconda3\\lib\\site-packages (from cryptography>=3.2->pyopenssl) (1.14.5)\n",
      "Requirement already satisfied: pycparser in d:\\anaconda3\\lib\\site-packages (from cffi>=1.12->cryptography>=3.2->pyopenssl) (2.20)\n"
     ]
    }
   ],
   "source": [
    "!pip install pyopenssl"
   ]
  },
  {
   "cell_type": "code",
   "execution_count": 44,
   "id": "bb1e8723",
   "metadata": {},
   "outputs": [
    {
     "name": "stdout",
     "output_type": "stream",
     "text": [
      "double vowel sign exists in mood\n",
      "double vowel sign exists in xao\n",
      "double vowel sign exists in aa\n"
     ]
    }
   ],
   "source": [
    "texts = ['ane', 'mood', 'xao', 'pqr', 'aa', \"ttt\"]\n",
    "signs = ['a', 'e', 'i', 'o', 'u']\n",
    "consecutive_vowels = []\n",
    "\n",
    "for i in texts:\n",
    "    list_i = list(i)\n",
    "    for j in range(len(list_i)-1):\n",
    "        if (list_i[j] in signs) and (list_i[j + 1] in signs):\n",
    "            consecutive_vowels.append(i)\n",
    "            \n",
    "for word in consecutive_vowels:\n",
    "    print(\"double vowel sign exists in {}\".format(word))"
   ]
  },
  {
   "cell_type": "code",
   "execution_count": 16,
   "id": "077a9709",
   "metadata": {},
   "outputs": [
    {
     "data": {
      "text/plain": [
       "defaultdict(list, {})"
      ]
     },
     "execution_count": 16,
     "metadata": {},
     "output_type": "execute_result"
    }
   ],
   "source": [
    "from collections import Counter, defaultdict       \n",
    "d = defaultdict(list)\n",
    "d"
   ]
  },
  {
   "cell_type": "code",
   "execution_count": 17,
   "id": "5d4ec04e",
   "metadata": {},
   "outputs": [
    {
     "name": "stdout",
     "output_type": "stream",
     "text": [
      "('a', 'n')\n",
      "('n', 'e')\n",
      "('m', 'o')\n",
      "('o', 'o')\n",
      "('o', 'd')\n",
      "('x', 'a')\n",
      "('a', 'o')\n",
      "('p', 'q')\n",
      "('q', 'r')\n",
      "('a', 'a')\n"
     ]
    }
   ],
   "source": [
    "for i in texts:\n",
    "    for x in zip(i, i[1:]):\n",
    "        print(x)"
   ]
  },
  {
   "cell_type": "code",
   "execution_count": 18,
   "id": "42dd3141",
   "metadata": {},
   "outputs": [
    {
     "name": "stdout",
     "output_type": "stream",
     "text": [
      "('a', 'n')\n",
      "('n', 'e')\n"
     ]
    }
   ],
   "source": [
    "i = \"ane\"\n",
    "for x in zip(i, i[1:]):\n",
    "    print(x)"
   ]
  },
  {
   "cell_type": "code",
   "execution_count": 1,
   "id": "8f194b95",
   "metadata": {},
   "outputs": [
    {
     "data": {
      "text/html": [
       "<div>\n",
       "<style scoped>\n",
       "    .dataframe tbody tr th:only-of-type {\n",
       "        vertical-align: middle;\n",
       "    }\n",
       "\n",
       "    .dataframe tbody tr th {\n",
       "        vertical-align: top;\n",
       "    }\n",
       "\n",
       "    .dataframe thead th {\n",
       "        text-align: right;\n",
       "    }\n",
       "</style>\n",
       "<table border=\"1\" class=\"dataframe\">\n",
       "  <thead>\n",
       "    <tr style=\"text-align: right;\">\n",
       "      <th></th>\n",
       "      <th>CompanyKey</th>\n",
       "      <th>DateOccurred</th>\n",
       "      <th>Account.Name</th>\n",
       "      <th>Amount</th>\n",
       "    </tr>\n",
       "  </thead>\n",
       "  <tbody>\n",
       "    <tr>\n",
       "      <th>0</th>\n",
       "      <td>1</td>\n",
       "      <td>31/12/2021</td>\n",
       "      <td>Cash at Bank</td>\n",
       "      <td>150.00</td>\n",
       "    </tr>\n",
       "    <tr>\n",
       "      <th>1</th>\n",
       "      <td>1</td>\n",
       "      <td>25/02/2022</td>\n",
       "      <td>Cash at Bank</td>\n",
       "      <td>112200.00</td>\n",
       "    </tr>\n",
       "    <tr>\n",
       "      <th>2</th>\n",
       "      <td>1</td>\n",
       "      <td>15/03/2022</td>\n",
       "      <td>Cash at Bank</td>\n",
       "      <td>234065.00</td>\n",
       "    </tr>\n",
       "    <tr>\n",
       "      <th>3</th>\n",
       "      <td>1</td>\n",
       "      <td>31/03/2022</td>\n",
       "      <td>Cash at Bank</td>\n",
       "      <td>19167.08</td>\n",
       "    </tr>\n",
       "    <tr>\n",
       "      <th>4</th>\n",
       "      <td>1</td>\n",
       "      <td>31/12/2021</td>\n",
       "      <td>GST Paid</td>\n",
       "      <td>-39080.03</td>\n",
       "    </tr>\n",
       "    <tr>\n",
       "      <th>5</th>\n",
       "      <td>1</td>\n",
       "      <td>22/02/2022</td>\n",
       "      <td>GST Paid</td>\n",
       "      <td>-10200.00</td>\n",
       "    </tr>\n",
       "    <tr>\n",
       "      <th>6</th>\n",
       "      <td>1</td>\n",
       "      <td>16/03/2022</td>\n",
       "      <td>GST Paid</td>\n",
       "      <td>-27.50</td>\n",
       "    </tr>\n",
       "    <tr>\n",
       "      <th>7</th>\n",
       "      <td>2</td>\n",
       "      <td>31/12/2021</td>\n",
       "      <td>Cash at Bank</td>\n",
       "      <td>15000.00</td>\n",
       "    </tr>\n",
       "    <tr>\n",
       "      <th>8</th>\n",
       "      <td>2</td>\n",
       "      <td>25/02/2022</td>\n",
       "      <td>Cash at Bank</td>\n",
       "      <td>-234567.00</td>\n",
       "    </tr>\n",
       "    <tr>\n",
       "      <th>9</th>\n",
       "      <td>2</td>\n",
       "      <td>31/03/2022</td>\n",
       "      <td>Cash at Bank</td>\n",
       "      <td>340697.00</td>\n",
       "    </tr>\n",
       "  </tbody>\n",
       "</table>\n",
       "</div>"
      ],
      "text/plain": [
       "  CompanyKey DateOccurred  Account.Name     Amount\n",
       "0          1   31/12/2021  Cash at Bank     150.00\n",
       "1          1   25/02/2022  Cash at Bank  112200.00\n",
       "2          1   15/03/2022  Cash at Bank  234065.00\n",
       "3          1   31/03/2022  Cash at Bank   19167.08\n",
       "4          1   31/12/2021      GST Paid  -39080.03\n",
       "5          1   22/02/2022      GST Paid  -10200.00\n",
       "6          1   16/03/2022      GST Paid     -27.50\n",
       "7          2   31/12/2021  Cash at Bank   15000.00\n",
       "8          2   25/02/2022  Cash at Bank -234567.00\n",
       "9          2   31/03/2022  Cash at Bank  340697.00"
      ]
     },
     "execution_count": 1,
     "metadata": {},
     "output_type": "execute_result"
    }
   ],
   "source": [
    "import pandas as pd\n",
    "\n",
    "df = pd.DataFrame({\n",
    "    'CompanyKey': [\"1\",\"1\",\"1\",\"1\",\"1\",\"1\",\"1\",\"2\",\"2\",\"2\"],\n",
    "    'DateOccurred': [\"31/12/2021\",\"25/02/2022\",\"15/03/2022\",\"31/03/2022\",\"31/12/2021\",\"22/02/2022\",\"16/03/2022\",\"31/12/2021\",\"25/02/2022\",\"31/03/2022\"],\n",
    "    'Account.Name': [\"Cash at Bank\",\"Cash at Bank\",\"Cash at Bank\",\"Cash at Bank\",\"GST Paid\",\"GST Paid\",\"GST Paid\",\"Cash at Bank\",\"Cash at Bank\",\"Cash at Bank\"],\n",
    "    'Amount': [150,112200,234065,19167.08,-39080.03,-10200,-27.5,15000,-234567,340697]})\n",
    "df"
   ]
  },
  {
   "cell_type": "code",
   "execution_count": 3,
   "id": "bb5cfc83",
   "metadata": {},
   "outputs": [
    {
     "data": {
      "text/html": [
       "<div>\n",
       "<style scoped>\n",
       "    .dataframe tbody tr th:only-of-type {\n",
       "        vertical-align: middle;\n",
       "    }\n",
       "\n",
       "    .dataframe tbody tr th {\n",
       "        vertical-align: top;\n",
       "    }\n",
       "\n",
       "    .dataframe thead th {\n",
       "        text-align: right;\n",
       "    }\n",
       "</style>\n",
       "<table border=\"1\" class=\"dataframe\">\n",
       "  <thead>\n",
       "    <tr style=\"text-align: right;\">\n",
       "      <th></th>\n",
       "      <th>ConsolidatedAccountName</th>\n",
       "      <th>Level 1</th>\n",
       "      <th>Level 2</th>\n",
       "    </tr>\n",
       "  </thead>\n",
       "  <tbody>\n",
       "    <tr>\n",
       "      <th>0</th>\n",
       "      <td>Cash at Bank</td>\n",
       "      <td>Fund Statement</td>\n",
       "      <td>Cash at Bank</td>\n",
       "    </tr>\n",
       "    <tr>\n",
       "      <th>1</th>\n",
       "      <td>GST Paid</td>\n",
       "      <td>Fund Statement</td>\n",
       "      <td>GST Paid</td>\n",
       "    </tr>\n",
       "    <tr>\n",
       "      <th>2</th>\n",
       "      <td>Cash at Bank</td>\n",
       "      <td>Cash Flow Statement</td>\n",
       "      <td>Cash at Bank</td>\n",
       "    </tr>\n",
       "    <tr>\n",
       "      <th>3</th>\n",
       "      <td>GST Paid</td>\n",
       "      <td>Cash Flow Statement</td>\n",
       "      <td>GST Paid</td>\n",
       "    </tr>\n",
       "  </tbody>\n",
       "</table>\n",
       "</div>"
      ],
      "text/plain": [
       "  ConsolidatedAccountName              Level 1       Level 2\n",
       "0            Cash at Bank       Fund Statement  Cash at Bank\n",
       "1                GST Paid       Fund Statement      GST Paid\n",
       "2            Cash at Bank  Cash Flow Statement  Cash at Bank\n",
       "3                GST Paid  Cash Flow Statement      GST Paid"
      ]
     },
     "execution_count": 3,
     "metadata": {},
     "output_type": "execute_result"
    }
   ],
   "source": [
    "df1 = pd.DataFrame({\n",
    "        'ConsolidatedAccountName': [\"Cash at Bank\",\"GST Paid\", \"Cash at Bank\", \"GST Paid\"],\n",
    "        'Level 1': [\"Fund Statement\",\"Fund Statement\", \"Cash Flow Statement\", \"Cash Flow Statement\"],\n",
    "        'Level 2': [\"Cash at Bank\",\"GST Paid\", \"Cash at Bank\", \"GST Paid\"]})\n",
    "df1.head()"
   ]
  },
  {
   "cell_type": "code",
   "execution_count": 24,
   "id": "6110350b",
   "metadata": {},
   "outputs": [
    {
     "data": {
      "text/plain": [
       "[('h', 'e'), ('e', 'l'), ('l', 'l'), ('l', 'o')]"
      ]
     },
     "execution_count": 24,
     "metadata": {},
     "output_type": "execute_result"
    }
   ],
   "source": [
    "s = \"hello\"\n",
    "t = s[1:] #ello\n",
    "list(zip(s,t))"
   ]
  },
  {
   "cell_type": "code",
   "execution_count": 26,
   "id": "52551887",
   "metadata": {},
   "outputs": [],
   "source": [
    "import itertools as it"
   ]
  },
  {
   "cell_type": "code",
   "execution_count": 47,
   "id": "73e94f49",
   "metadata": {},
   "outputs": [
    {
     "data": {
      "text/plain": [
       "['ane', 'mood', 'xao', 'pqr', 'aa', 'ttt']"
      ]
     },
     "execution_count": 47,
     "metadata": {},
     "output_type": "execute_result"
    }
   ],
   "source": [
    "list(it.filterfalse(lambda i: (list(i) in signs), texts))"
   ]
  },
  {
   "cell_type": "code",
   "execution_count": 48,
   "id": "c5c8d41b",
   "metadata": {},
   "outputs": [
    {
     "data": {
      "text/plain": [
       "False"
      ]
     },
     "execution_count": 48,
     "metadata": {},
     "output_type": "execute_result"
    }
   ],
   "source": [
    "from itertools import groupby\n",
    "def all_equal(iterable):\n",
    "    \"Returns True if all the elements are equal to each other\"\n",
    "    g = groupby(iterable)\n",
    "    return next(g, True) and not next(g, False)\n",
    "\n",
    "for i in list(texts):\n",
    "    all_equal(texts)"
   ]
  },
  {
   "cell_type": "code",
   "execution_count": 49,
   "id": "b268887a",
   "metadata": {},
   "outputs": [
    {
     "name": "stdout",
     "output_type": "stream",
     "text": [
      "double vowels in:\n",
      "\tmood\n",
      "\txao\n",
      "\taa\n"
     ]
    }
   ],
   "source": [
    "dbl = __import__('re').compile(r'[aeiou]{2}')\n",
    "txt = ('ane', 'mood', 'xao', 'pqr', 'aa')\n",
    "mtc = [w for w in txt if dbl.search(w)]\n",
    "print('double vowels in:', *mtc, sep='\\n\\t') "
   ]
  },
  {
   "cell_type": "code",
   "execution_count": 52,
   "id": "94b6ab3a",
   "metadata": {},
   "outputs": [
    {
     "data": {
      "text/plain": [
       "['1. Identifying, Assessing and Improving Care',\n",
       " '9. Non-Pharmacological Interventions']"
      ]
     },
     "execution_count": 52,
     "metadata": {},
     "output_type": "execute_result"
    }
   ],
   "source": [
    "r = [['1', '.', ' ', 'I', 'd', 'e', 'n', 't', 'i', 'f', 'y', 'i', 'n',\n",
    "        'g', ',', ' ', 'A', 's', 's', 'e', 's', 's', 'i', 'n', 'g', ' ',\n",
    "        'a', 'n', 'd', ' ', 'I', 'm', 'p', 'r', 'o', 'v', 'i', 'n', 'g',\n",
    "        ' ', 'C', 'a', 'r', 'e', '', ''],\n",
    "       ['9', '.', ' ', 'N', 'o', 'n', '-', 'P', 'h', 'a', 'r', 'm', 'a',\n",
    "        'c', 'o', 'l', 'o', 'g', 'i', 'c', 'a', 'l', ' ', 'I', 'n', 't',\n",
    "        'e', 'r', 'v', 'e', 'n', 't', 'i', 'o', 'n', 's', '', '', '',\n",
    "        '', '']]\n",
    "\n",
    "t = [\"\".join(i) for i in r]\n",
    "t"
   ]
  },
  {
   "cell_type": "code",
   "execution_count": 53,
   "id": "f3604aed",
   "metadata": {},
   "outputs": [],
   "source": [
    "l = [1,2,3]\n",
    "l.remove(2)"
   ]
  },
  {
   "cell_type": "code",
   "execution_count": 63,
   "id": "a771463a",
   "metadata": {},
   "outputs": [
    {
     "data": {
      "text/plain": [
       "[{'day': 4, 'sum': 99, 'type': 'in'}]"
      ]
     },
     "execution_count": 63,
     "metadata": {},
     "output_type": "execute_result"
    }
   ],
   "source": [
    "d1 = [{\"day\": 1, \"sum\": 25, \"type\": \"in\"}, {\"day\": 2, \"sum\": 55, \"type\": \"in\"}, {\"day\": 3, \"sum\": 154, \"type\": \"out\"}, {\"day\": 4, \"sum\": 99, \"type\": \"in\"}]          \n",
    "d2 = [i for i in d1 if not 1 <= i[\"day\"] <=3] \n",
    "d2"
   ]
  },
  {
   "cell_type": "code",
   "execution_count": 2,
   "id": "1015b014",
   "metadata": {},
   "outputs": [
    {
     "data": {
      "text/html": [
       "<div>\n",
       "<style scoped>\n",
       "    .dataframe tbody tr th:only-of-type {\n",
       "        vertical-align: middle;\n",
       "    }\n",
       "\n",
       "    .dataframe tbody tr th {\n",
       "        vertical-align: top;\n",
       "    }\n",
       "\n",
       "    .dataframe thead th {\n",
       "        text-align: right;\n",
       "    }\n",
       "</style>\n",
       "<table border=\"1\" class=\"dataframe\">\n",
       "  <thead>\n",
       "    <tr style=\"text-align: right;\">\n",
       "      <th></th>\n",
       "      <th>obj</th>\n",
       "    </tr>\n",
       "  </thead>\n",
       "  <tbody>\n",
       "    <tr>\n",
       "      <th>0</th>\n",
       "      <td>{'a': 1, 'b': 2, 'c': 3}</td>\n",
       "    </tr>\n",
       "    <tr>\n",
       "      <th>1</th>\n",
       "      <td>{'a': 4, 'b': 5, 'c': 6}</td>\n",
       "    </tr>\n",
       "  </tbody>\n",
       "</table>\n",
       "</div>"
      ],
      "text/plain": [
       "                        obj\n",
       "0  {'a': 1, 'b': 2, 'c': 3}\n",
       "1  {'a': 4, 'b': 5, 'c': 6}"
      ]
     },
     "execution_count": 2,
     "metadata": {},
     "output_type": "execute_result"
    }
   ],
   "source": [
    "import pandas as pd\n",
    "\n",
    "sample_jsons = [{\"obj\":{\"a\":1, \"b\":2, \"c\":3}}, {\"obj\":{\"a\":4, \"b\":5, \"c\":6}}]\n",
    "\n",
    "df = pd.DataFrame(sample_jsons)\n",
    "df.head()"
   ]
  },
  {
   "cell_type": "code",
   "execution_count": 10,
   "id": "1b46165b",
   "metadata": {},
   "outputs": [
    {
     "data": {
      "text/plain": [
       "[(['HTML', 'CSS', 'JS'], 90, 'basic'), (['Angular', 'React'], 22, 'framework')]"
      ]
     },
     "execution_count": 10,
     "metadata": {},
     "output_type": "execute_result"
    }
   ],
   "source": [
    "from fuzzywuzzy import process\n",
    "\n",
    "st = \"HTML\"\n",
    "skills = {\n",
    "  \"basic\": [\"HTML\",\"CSS\",\"JS\"],\n",
    "  \"framework\": [\"Angular\", \"React\"]\n",
    "}\n",
    "\n",
    "\n",
    "process.extractBests(st, skills)\n",
    "        \n"
   ]
  },
  {
   "cell_type": "code",
   "execution_count": 22,
   "id": "b8873050",
   "metadata": {},
   "outputs": [
    {
     "data": {
      "text/plain": [
       "['HTML']"
      ]
     },
     "execution_count": 22,
     "metadata": {},
     "output_type": "execute_result"
    }
   ],
   "source": [
    "max_ratio = \n",
    "\n",
    "\n"
   ]
  },
  {
   "cell_type": "code",
   "execution_count": 4,
   "id": "dbb91748",
   "metadata": {},
   "outputs": [],
   "source": [
    "stack = []\n",
    "\n",
    "try:\n",
    "    top = stack.pop()\n",
    "except IndexError:\n",
    "    pass"
   ]
  },
  {
   "cell_type": "code",
   "execution_count": 1,
   "id": "19bc61ec",
   "metadata": {},
   "outputs": [
    {
     "name": "stdout",
     "output_type": "stream",
     "text": [
      "John\n",
      "20\n"
     ]
    }
   ],
   "source": [
    "class Person:\n",
    "    def __init__(self, name, age, height):\n",
    "        self.name     = name   # public\n",
    "        self._age     = age    # protected\n",
    "        self.__height = height # private\n",
    "\n",
    "p1 = Person(\"John\", 20, 170)\n",
    "\n",
    "print(p1.name)        # public: can be accessed\n",
    "print(p1._age)        # protected: can be accessed but not advised\n",
    "# print(p1.__height)  # private: will give AttributeError"
   ]
  },
  {
   "cell_type": "code",
   "execution_count": 2,
   "id": "7ea0be2e",
   "metadata": {},
   "outputs": [],
   "source": [
    "p1._age = 45"
   ]
  },
  {
   "cell_type": "code",
   "execution_count": 3,
   "id": "34f0b378",
   "metadata": {},
   "outputs": [
    {
     "data": {
      "text/plain": [
       "45"
      ]
     },
     "execution_count": 3,
     "metadata": {},
     "output_type": "execute_result"
    }
   ],
   "source": [
    "p1._age"
   ]
  },
  {
   "cell_type": "code",
   "execution_count": 49,
   "id": "83fcf661",
   "metadata": {},
   "outputs": [
    {
     "name": "stderr",
     "output_type": "stream",
     "text": [
      "<ipython-input-49-7b9074d3f3f2>:22: RuntimeWarning: coroutine 'subprocess_async' was never awaited\n",
      "  res = subprocess_async(\"start notepad.exe\")\n",
      "RuntimeWarning: Enable tracemalloc to get the object allocation traceback\n"
     ]
    }
   ],
   "source": [
    "\n",
    "    \n",
    "    "
   ]
  },
  {
   "cell_type": "code",
   "execution_count": 50,
   "id": "381e09ac",
   "metadata": {},
   "outputs": [
    {
     "data": {
      "text/plain": [
       "<code object subprocess_async at 0x000001BB29C29EA0, file \"<ipython-input-49-7b9074d3f3f2>\", line 2>"
      ]
     },
     "execution_count": 50,
     "metadata": {},
     "output_type": "execute_result"
    }
   ],
   "source": [
    "res.cr_code"
   ]
  },
  {
   "cell_type": "code",
   "execution_count": 6,
   "id": "0326c892",
   "metadata": {},
   "outputs": [
    {
     "ename": "NotImplementedError",
     "evalue": "",
     "output_type": "error",
     "traceback": [
      "\u001b[1;31m---------------------------------------------------------------------------\u001b[0m",
      "\u001b[1;31mNotImplementedError\u001b[0m                       Traceback (most recent call last)",
      "\u001b[1;32m<ipython-input-6-0d306b766b4a>\u001b[0m in \u001b[0;36m<module>\u001b[1;34m\u001b[0m\n\u001b[0;32m     17\u001b[0m     \u001b[1;32mreturn\u001b[0m \u001b[0mline\u001b[0m\u001b[1;33m\u001b[0m\u001b[1;33m\u001b[0m\u001b[0m\n\u001b[0;32m     18\u001b[0m \u001b[1;33m\u001b[0m\u001b[0m\n\u001b[1;32m---> 19\u001b[1;33m \u001b[0mdate\u001b[0m \u001b[1;33m=\u001b[0m \u001b[1;32mawait\u001b[0m \u001b[0mget_date\u001b[0m\u001b[1;33m(\u001b[0m\u001b[1;33m)\u001b[0m\u001b[1;33m\u001b[0m\u001b[1;33m\u001b[0m\u001b[0m\n\u001b[0m\u001b[0;32m     20\u001b[0m \u001b[0mprint\u001b[0m\u001b[1;33m(\u001b[0m\u001b[1;34mf\"Current date: {date}\"\u001b[0m\u001b[1;33m)\u001b[0m\u001b[1;33m\u001b[0m\u001b[1;33m\u001b[0m\u001b[0m\n",
      "\u001b[1;32m<ipython-input-6-0d306b766b4a>\u001b[0m in \u001b[0;36mget_date\u001b[1;34m()\u001b[0m\n\u001b[0;32m      5\u001b[0m     \u001b[1;31m# Create the subprocess; redirect the standard output\u001b[0m\u001b[1;33m\u001b[0m\u001b[1;33m\u001b[0m\u001b[1;33m\u001b[0m\u001b[0m\n\u001b[0;32m      6\u001b[0m     \u001b[1;31m# into a pipe.\u001b[0m\u001b[1;33m\u001b[0m\u001b[1;33m\u001b[0m\u001b[1;33m\u001b[0m\u001b[0m\n\u001b[1;32m----> 7\u001b[1;33m     proc = await asyncio.create_subprocess_exec(\n\u001b[0m\u001b[0;32m      8\u001b[0m         \u001b[0msys\u001b[0m\u001b[1;33m.\u001b[0m\u001b[0mexecutable\u001b[0m\u001b[1;33m,\u001b[0m \u001b[1;34m'-c'\u001b[0m\u001b[1;33m,\u001b[0m \u001b[0mcode\u001b[0m\u001b[1;33m,\u001b[0m\u001b[1;33m\u001b[0m\u001b[1;33m\u001b[0m\u001b[0m\n\u001b[0;32m      9\u001b[0m         stdout=asyncio.subprocess.PIPE)\n",
      "\u001b[1;32mD:\\Anaconda3\\lib\\asyncio\\subprocess.py\u001b[0m in \u001b[0;36mcreate_subprocess_exec\u001b[1;34m(program, stdin, stdout, stderr, loop, limit, *args, **kwds)\u001b[0m\n\u001b[0;32m    234\u001b[0m     protocol_factory = lambda: SubprocessStreamProtocol(limit=limit,\n\u001b[0;32m    235\u001b[0m                                                         loop=loop)\n\u001b[1;32m--> 236\u001b[1;33m     transport, protocol = await loop.subprocess_exec(\n\u001b[0m\u001b[0;32m    237\u001b[0m         \u001b[0mprotocol_factory\u001b[0m\u001b[1;33m,\u001b[0m\u001b[1;33m\u001b[0m\u001b[1;33m\u001b[0m\u001b[0m\n\u001b[0;32m    238\u001b[0m         \u001b[0mprogram\u001b[0m\u001b[1;33m,\u001b[0m \u001b[1;33m*\u001b[0m\u001b[0margs\u001b[0m\u001b[1;33m,\u001b[0m\u001b[1;33m\u001b[0m\u001b[1;33m\u001b[0m\u001b[0m\n",
      "\u001b[1;32mD:\\Anaconda3\\lib\\asyncio\\base_events.py\u001b[0m in \u001b[0;36msubprocess_exec\u001b[1;34m(self, protocol_factory, program, stdin, stdout, stderr, universal_newlines, shell, bufsize, encoding, errors, text, *args, **kwargs)\u001b[0m\n\u001b[0;32m   1628\u001b[0m             \u001b[0mdebug_log\u001b[0m \u001b[1;33m=\u001b[0m \u001b[1;34mf'execute program {program!r}'\u001b[0m\u001b[1;33m\u001b[0m\u001b[1;33m\u001b[0m\u001b[0m\n\u001b[0;32m   1629\u001b[0m             \u001b[0mself\u001b[0m\u001b[1;33m.\u001b[0m\u001b[0m_log_subprocess\u001b[0m\u001b[1;33m(\u001b[0m\u001b[0mdebug_log\u001b[0m\u001b[1;33m,\u001b[0m \u001b[0mstdin\u001b[0m\u001b[1;33m,\u001b[0m \u001b[0mstdout\u001b[0m\u001b[1;33m,\u001b[0m \u001b[0mstderr\u001b[0m\u001b[1;33m)\u001b[0m\u001b[1;33m\u001b[0m\u001b[1;33m\u001b[0m\u001b[0m\n\u001b[1;32m-> 1630\u001b[1;33m         transport = await self._make_subprocess_transport(\n\u001b[0m\u001b[0;32m   1631\u001b[0m             \u001b[0mprotocol\u001b[0m\u001b[1;33m,\u001b[0m \u001b[0mpopen_args\u001b[0m\u001b[1;33m,\u001b[0m \u001b[1;32mFalse\u001b[0m\u001b[1;33m,\u001b[0m \u001b[0mstdin\u001b[0m\u001b[1;33m,\u001b[0m \u001b[0mstdout\u001b[0m\u001b[1;33m,\u001b[0m \u001b[0mstderr\u001b[0m\u001b[1;33m,\u001b[0m\u001b[1;33m\u001b[0m\u001b[1;33m\u001b[0m\u001b[0m\n\u001b[0;32m   1632\u001b[0m             bufsize, **kwargs)\n",
      "\u001b[1;32mD:\\Anaconda3\\lib\\asyncio\\base_events.py\u001b[0m in \u001b[0;36m_make_subprocess_transport\u001b[1;34m(self, protocol, args, shell, stdin, stdout, stderr, bufsize, extra, **kwargs)\u001b[0m\n\u001b[0;32m    489\u001b[0m                                          extra=None, **kwargs):\n\u001b[0;32m    490\u001b[0m         \u001b[1;34m\"\"\"Create subprocess transport.\"\"\"\u001b[0m\u001b[1;33m\u001b[0m\u001b[1;33m\u001b[0m\u001b[0m\n\u001b[1;32m--> 491\u001b[1;33m         \u001b[1;32mraise\u001b[0m \u001b[0mNotImplementedError\u001b[0m\u001b[1;33m\u001b[0m\u001b[1;33m\u001b[0m\u001b[0m\n\u001b[0m\u001b[0;32m    492\u001b[0m \u001b[1;33m\u001b[0m\u001b[0m\n\u001b[0;32m    493\u001b[0m     \u001b[1;32mdef\u001b[0m \u001b[0m_write_to_self\u001b[0m\u001b[1;33m(\u001b[0m\u001b[0mself\u001b[0m\u001b[1;33m)\u001b[0m\u001b[1;33m:\u001b[0m\u001b[1;33m\u001b[0m\u001b[1;33m\u001b[0m\u001b[0m\n",
      "\u001b[1;31mNotImplementedError\u001b[0m: "
     ]
    }
   ],
   "source": [
    "import sys\n",
    "async def get_date():\n",
    "    code = 'import datetime; print(datetime.datetime.now())'\n",
    "\n",
    "    # Create the subprocess; redirect the standard output\n",
    "    # into a pipe.\n",
    "    proc = await asyncio.create_subprocess_exec(\n",
    "        sys.executable, '-c', code,\n",
    "        stdout=asyncio.subprocess.PIPE)\n",
    "\n",
    "    # Read one line of output.\n",
    "    data = await proc.stdout.readline()\n",
    "    line = data.decode('ascii').rstrip()\n",
    "\n",
    "    # Wait for the subprocess exit.\n",
    "    await proc.wait()\n",
    "    return line\n",
    "\n",
    "date = await get_date()\n",
    "print(f\"Current date: {date}\")"
   ]
  },
  {
   "cell_type": "code",
   "execution_count": 8,
   "id": "0ac02238",
   "metadata": {},
   "outputs": [
    {
     "data": {
      "text/html": [
       "<div>\n",
       "<style scoped>\n",
       "    .dataframe tbody tr th:only-of-type {\n",
       "        vertical-align: middle;\n",
       "    }\n",
       "\n",
       "    .dataframe tbody tr th {\n",
       "        vertical-align: top;\n",
       "    }\n",
       "\n",
       "    .dataframe thead th {\n",
       "        text-align: right;\n",
       "    }\n",
       "</style>\n",
       "<table border=\"1\" class=\"dataframe\">\n",
       "  <thead>\n",
       "    <tr style=\"text-align: right;\">\n",
       "      <th></th>\n",
       "      <th>one</th>\n",
       "      <th>two</th>\n",
       "      <th>three</th>\n",
       "    </tr>\n",
       "  </thead>\n",
       "  <tbody>\n",
       "    <tr>\n",
       "      <th>0</th>\n",
       "      <td>1</td>\n",
       "      <td>3</td>\n",
       "      <td>4</td>\n",
       "    </tr>\n",
       "    <tr>\n",
       "      <th>1</th>\n",
       "      <td>2</td>\n",
       "      <td>4</td>\n",
       "      <td>5</td>\n",
       "    </tr>\n",
       "    <tr>\n",
       "      <th>2</th>\n",
       "      <td>10</td>\n",
       "      <td>5</td>\n",
       "      <td>12</td>\n",
       "    </tr>\n",
       "    <tr>\n",
       "      <th>3</th>\n",
       "      <td>5</td>\n",
       "      <td>-11</td>\n",
       "      <td>8</td>\n",
       "    </tr>\n",
       "    <tr>\n",
       "      <th>4</th>\n",
       "      <td>6</td>\n",
       "      <td>5</td>\n",
       "      <td>13</td>\n",
       "    </tr>\n",
       "    <tr>\n",
       "      <th>5</th>\n",
       "      <td>-10</td>\n",
       "      <td>6</td>\n",
       "      <td>-14</td>\n",
       "    </tr>\n",
       "    <tr>\n",
       "      <th>6</th>\n",
       "      <td>9</td>\n",
       "      <td>8</td>\n",
       "      <td>5</td>\n",
       "    </tr>\n",
       "    <tr>\n",
       "      <th>7</th>\n",
       "      <td>10</td>\n",
       "      <td>9</td>\n",
       "      <td>2</td>\n",
       "    </tr>\n",
       "    <tr>\n",
       "      <th>8</th>\n",
       "      <td>2</td>\n",
       "      <td>12</td>\n",
       "      <td>3</td>\n",
       "    </tr>\n",
       "  </tbody>\n",
       "</table>\n",
       "</div>"
      ],
      "text/plain": [
       "   one  two  three\n",
       "0    1    3      4\n",
       "1    2    4      5\n",
       "2   10    5     12\n",
       "3    5  -11      8\n",
       "4    6    5     13\n",
       "5  -10    6    -14\n",
       "6    9    8      5\n",
       "7   10    9      2\n",
       "8    2   12      3"
      ]
     },
     "execution_count": 8,
     "metadata": {},
     "output_type": "execute_result"
    }
   ],
   "source": [
    "import pandas as pd\n",
    "df = pd.DataFrame({\"one\":[1,2,10,5,6,-10, 9,10,2], \"two\":[3,4,5,-11,5,6,8,9,12], \"three\":[4,5,12,8,13,-14,5,2,3]})\n",
    "df"
   ]
  },
  {
   "cell_type": "code",
   "execution_count": 9,
   "id": "e2445205",
   "metadata": {},
   "outputs": [
    {
     "data": {
      "text/plain": [
       "{-10, 1, 2, 5, 6, 9, 10}"
      ]
     },
     "execution_count": 9,
     "metadata": {},
     "output_type": "execute_result"
    }
   ],
   "source": [
    "set(df[\"one\"])"
   ]
  },
  {
   "cell_type": "code",
   "execution_count": 4,
   "id": "7b2dd443",
   "metadata": {},
   "outputs": [
    {
     "data": {
      "text/plain": [
       "[2, 5]"
      ]
     },
     "execution_count": 4,
     "metadata": {},
     "output_type": "execute_result"
    }
   ],
   "source": [
    "def get_index_abs_val(dataframe, ):\n",
    "    d = df[\"\"]\n",
    "\n",
    "d = df[\"one\"].tolist()\n",
    "[d.index(i) for i in d if abs(i) > 9]"
   ]
  },
  {
   "cell_type": "code",
   "execution_count": 25,
   "id": "b54e1126",
   "metadata": {},
   "outputs": [
    {
     "data": {
      "text/plain": [
       "Int64Index([2, 5], dtype='int64')"
      ]
     },
     "execution_count": 25,
     "metadata": {},
     "output_type": "execute_result"
    }
   ],
   "source": [
    "df[\"one\"].loc[lambda x: abs(x) > 9].index"
   ]
  },
  {
   "cell_type": "code",
   "execution_count": 24,
   "id": "bb1063b1",
   "metadata": {},
   "outputs": [
    {
     "data": {
      "text/plain": [
       "6"
      ]
     },
     "execution_count": 24,
     "metadata": {},
     "output_type": "execute_result"
    }
   ],
   "source": [
    "p = t.tolist()\n",
    "len(p)"
   ]
  },
  {
   "cell_type": "code",
   "execution_count": 60,
   "id": "24df6f65",
   "metadata": {},
   "outputs": [],
   "source": [
    "with open(\"test.txt\", 'r+') as fd:\n",
    "    lines = fd.readlines()    \n",
    "    for line in lines:\n",
    "        line = line.strip('\\n')\n",
    "        if not (line.startswith(\"*\") or line.startswith(\"#\")):            \n",
    "            line = line.replace(line, f'---{line}')\n",
    "        fd.write(line)\n",
    "\n",
    "        \n"
   ]
  },
  {
   "cell_type": "code",
   "execution_count": 21,
   "id": "8442f47c",
   "metadata": {},
   "outputs": [
    {
     "name": "stdout",
     "output_type": "stream",
     "text": [
      "1\n",
      "1\n",
      "1\n",
      "2\n",
      "2.5\n",
      "2\n",
      "2.5\n",
      "2\n",
      "2.5\n",
      "3\n",
      "3\n",
      "3\n",
      "Execution time: 6.320343971252441\n"
     ]
    }
   ],
   "source": [
    "import time\n",
    "import astroscrappy\n",
    "from astropy.io import fits\n",
    "from threading import Thread\n",
    "\n",
    "paths = [r\"C:\\Users\\Aman Buttan\\FITS\\sample.fits\", r\"C:\\Users\\Aman Buttan\\FITS\\sample1.fits\", r\"C:\\Users\\Aman Buttan\\FITS\\sample2.fits\"]\n",
    "thread_objs = []\n",
    "\n",
    "def a_test(i):    \n",
    "    print(1)\n",
    "    path = i   \n",
    "    s = fits.getdata(path)\n",
    "    print(2)\n",
    "    print(2.5)\n",
    "    a = astroscrappy.detect_cosmics(s)\n",
    "    print(3)    \n",
    "\n",
    "\n",
    "def main():\n",
    "    t1 = time.time()\n",
    "   \n",
    "    for item in paths:\n",
    "        thread_objs.append(Thread(target=a_test, args=(item,)))\n",
    "\n",
    "    # run each thread\n",
    "    for thread in thread_objs:\n",
    "        thread.start()\n",
    "        \n",
    "    # wait for the each thread to finish\n",
    "    for thread in thread_objs:\n",
    "        thread.join() \n",
    "    print(f\"Execution time: {time.time() - t1}\")\n",
    "\n",
    "main()"
   ]
  },
  {
   "cell_type": "code",
   "execution_count": 64,
   "id": "450e556b",
   "metadata": {},
   "outputs": [
    {
     "name": "stdout",
     "output_type": "stream",
     "text": [
      "Enter number: 26\n"
     ]
    },
    {
     "data": {
      "text/plain": [
       "0"
      ]
     },
     "execution_count": 64,
     "metadata": {},
     "output_type": "execute_result"
    }
   ],
   "source": [
    "num = input(\"Enter number: \")\n",
    "\n",
    "from re import findall\n",
    "    \n",
    "def end_zeros(num):\n",
    "    return len(findall(\"0*$\", str(num))[0])\n",
    "\n",
    "end_zeros(num)"
   ]
  },
  {
   "cell_type": "code",
   "execution_count": 33,
   "id": "1f972231",
   "metadata": {},
   "outputs": [
    {
     "name": "stdout",
     "output_type": "stream",
     "text": [
      "Execution time: 7.194608926773071\n"
     ]
    }
   ],
   "source": [
    "from joblib import Parallel, delayed\n",
    "import astroscrappy\n",
    "from astropy.io import fits\n",
    "\n",
    "paths = [r\"C:\\Users\\Aman Buttan\\FITS\\sample.fits\", r\"C:\\Users\\Aman Buttan\\FITS\\sample1.fits\", r\"C:\\Users\\Aman Buttan\\FITS\\sample2.fits\"]\n",
    "\n",
    "def a_test(i):    \n",
    "    print(1)\n",
    "    path = i   \n",
    "    s = fits.getdata(path)\n",
    "    print(2)\n",
    "    print(2.5)\n",
    "    a = astroscrappy.detect_cosmics(s)\n",
    "    print(3) \n",
    "#     return ([a,i])\n",
    "    \n",
    "def main():\n",
    "    t1 = time.time()\n",
    "    a = Parallel(n_jobs=len(paths))(delayed(a_test)(i) for i in paths)    \n",
    "    print(f\"Execution time: {time.time() - t1}\")\n",
    "\n",
    "main()    "
   ]
  },
  {
   "cell_type": "code",
   "execution_count": 12,
   "id": "475a4c5c",
   "metadata": {},
   "outputs": [
    {
     "data": {
      "text/html": [
       "<div>\n",
       "<style scoped>\n",
       "    .dataframe tbody tr th:only-of-type {\n",
       "        vertical-align: middle;\n",
       "    }\n",
       "\n",
       "    .dataframe tbody tr th {\n",
       "        vertical-align: top;\n",
       "    }\n",
       "\n",
       "    .dataframe thead th {\n",
       "        text-align: right;\n",
       "    }\n",
       "</style>\n",
       "<table border=\"1\" class=\"dataframe\">\n",
       "  <thead>\n",
       "    <tr style=\"text-align: right;\">\n",
       "      <th></th>\n",
       "      <th>zip</th>\n",
       "      <th>lat</th>\n",
       "      <th>lng</th>\n",
       "      <th>city</th>\n",
       "      <th>state_id</th>\n",
       "      <th>state_name</th>\n",
       "      <th>zcta</th>\n",
       "      <th>parent_zcta</th>\n",
       "      <th>population</th>\n",
       "      <th>density</th>\n",
       "      <th>county_fips</th>\n",
       "      <th>county_name</th>\n",
       "      <th>county_weights</th>\n",
       "      <th>county_names_all</th>\n",
       "      <th>county_fips_all</th>\n",
       "      <th>imprecise</th>\n",
       "      <th>military</th>\n",
       "      <th>timezone</th>\n",
       "    </tr>\n",
       "  </thead>\n",
       "  <tbody>\n",
       "    <tr>\n",
       "      <th>0</th>\n",
       "      <td>601</td>\n",
       "      <td>18.18027</td>\n",
       "      <td>-66.75266</td>\n",
       "      <td>Adjuntas</td>\n",
       "      <td>PR</td>\n",
       "      <td>Puerto Rico</td>\n",
       "      <td>True</td>\n",
       "      <td>NaN</td>\n",
       "      <td>16773.0</td>\n",
       "      <td>100.5</td>\n",
       "      <td>72001</td>\n",
       "      <td>Adjuntas</td>\n",
       "      <td>{\"72001\": 98.73, \"72141\": 1.27}</td>\n",
       "      <td>Adjuntas|Utuado</td>\n",
       "      <td>72001|72141</td>\n",
       "      <td>False</td>\n",
       "      <td>False</td>\n",
       "      <td>America/Puerto_Rico</td>\n",
       "    </tr>\n",
       "    <tr>\n",
       "      <th>1</th>\n",
       "      <td>602</td>\n",
       "      <td>18.36075</td>\n",
       "      <td>-67.17541</td>\n",
       "      <td>Aguada</td>\n",
       "      <td>PR</td>\n",
       "      <td>Puerto Rico</td>\n",
       "      <td>True</td>\n",
       "      <td>NaN</td>\n",
       "      <td>37083.0</td>\n",
       "      <td>472.1</td>\n",
       "      <td>72003</td>\n",
       "      <td>Aguada</td>\n",
       "      <td>{\"72003\": 100}</td>\n",
       "      <td>Aguada</td>\n",
       "      <td>72003</td>\n",
       "      <td>False</td>\n",
       "      <td>False</td>\n",
       "      <td>America/Puerto_Rico</td>\n",
       "    </tr>\n",
       "    <tr>\n",
       "      <th>2</th>\n",
       "      <td>603</td>\n",
       "      <td>18.45744</td>\n",
       "      <td>-67.12225</td>\n",
       "      <td>Aguadilla</td>\n",
       "      <td>PR</td>\n",
       "      <td>Puerto Rico</td>\n",
       "      <td>True</td>\n",
       "      <td>NaN</td>\n",
       "      <td>45652.0</td>\n",
       "      <td>513.2</td>\n",
       "      <td>72005</td>\n",
       "      <td>Aguadilla</td>\n",
       "      <td>{\"72005\": 99.76, \"72099\": 0.24}</td>\n",
       "      <td>Aguadilla|Moca</td>\n",
       "      <td>72005|72099</td>\n",
       "      <td>False</td>\n",
       "      <td>False</td>\n",
       "      <td>America/Puerto_Rico</td>\n",
       "    </tr>\n",
       "    <tr>\n",
       "      <th>3</th>\n",
       "      <td>606</td>\n",
       "      <td>18.16585</td>\n",
       "      <td>-66.93716</td>\n",
       "      <td>Maricao</td>\n",
       "      <td>PR</td>\n",
       "      <td>Puerto Rico</td>\n",
       "      <td>True</td>\n",
       "      <td>NaN</td>\n",
       "      <td>6231.0</td>\n",
       "      <td>54.3</td>\n",
       "      <td>72093</td>\n",
       "      <td>Maricao</td>\n",
       "      <td>{\"72093\": 82.26, \"72153\": 11.68, \"72121\": 6.06}</td>\n",
       "      <td>Maricao|Yauco|Sabana Grande</td>\n",
       "      <td>72093|72153|72121</td>\n",
       "      <td>False</td>\n",
       "      <td>False</td>\n",
       "      <td>America/Puerto_Rico</td>\n",
       "    </tr>\n",
       "    <tr>\n",
       "      <th>4</th>\n",
       "      <td>610</td>\n",
       "      <td>18.29110</td>\n",
       "      <td>-67.12243</td>\n",
       "      <td>Anasco</td>\n",
       "      <td>PR</td>\n",
       "      <td>Puerto Rico</td>\n",
       "      <td>True</td>\n",
       "      <td>NaN</td>\n",
       "      <td>26502.0</td>\n",
       "      <td>275.7</td>\n",
       "      <td>72011</td>\n",
       "      <td>Añasco</td>\n",
       "      <td>{\"72011\": 96.71, \"72099\": 2.81, \"72083\": 0.37,...</td>\n",
       "      <td>Añasco|Moca|Las Marías|Aguada</td>\n",
       "      <td>72011|72099|72083|72003</td>\n",
       "      <td>False</td>\n",
       "      <td>False</td>\n",
       "      <td>America/Puerto_Rico</td>\n",
       "    </tr>\n",
       "    <tr>\n",
       "      <th>...</th>\n",
       "      <td>...</td>\n",
       "      <td>...</td>\n",
       "      <td>...</td>\n",
       "      <td>...</td>\n",
       "      <td>...</td>\n",
       "      <td>...</td>\n",
       "      <td>...</td>\n",
       "      <td>...</td>\n",
       "      <td>...</td>\n",
       "      <td>...</td>\n",
       "      <td>...</td>\n",
       "      <td>...</td>\n",
       "      <td>...</td>\n",
       "      <td>...</td>\n",
       "      <td>...</td>\n",
       "      <td>...</td>\n",
       "      <td>...</td>\n",
       "      <td>...</td>\n",
       "    </tr>\n",
       "    <tr>\n",
       "      <th>33783</th>\n",
       "      <td>99926</td>\n",
       "      <td>55.12617</td>\n",
       "      <td>-131.48928</td>\n",
       "      <td>Metlakatla</td>\n",
       "      <td>AK</td>\n",
       "      <td>Alaska</td>\n",
       "      <td>True</td>\n",
       "      <td>NaN</td>\n",
       "      <td>1582.0</td>\n",
       "      <td>4.6</td>\n",
       "      <td>2198</td>\n",
       "      <td>Prince of Wales-Hyder</td>\n",
       "      <td>{\"02198\": 100}</td>\n",
       "      <td>Prince of Wales-Hyder</td>\n",
       "      <td>02198</td>\n",
       "      <td>False</td>\n",
       "      <td>False</td>\n",
       "      <td>America/Metlakatla</td>\n",
       "    </tr>\n",
       "    <tr>\n",
       "      <th>33784</th>\n",
       "      <td>99927</td>\n",
       "      <td>56.33305</td>\n",
       "      <td>-133.60044</td>\n",
       "      <td>Point Baker</td>\n",
       "      <td>AK</td>\n",
       "      <td>Alaska</td>\n",
       "      <td>True</td>\n",
       "      <td>NaN</td>\n",
       "      <td>0.0</td>\n",
       "      <td>0.0</td>\n",
       "      <td>2198</td>\n",
       "      <td>Prince of Wales-Hyder</td>\n",
       "      <td>{\"02198\": 100}</td>\n",
       "      <td>Prince of Wales-Hyder</td>\n",
       "      <td>02198</td>\n",
       "      <td>False</td>\n",
       "      <td>False</td>\n",
       "      <td>America/Sitka</td>\n",
       "    </tr>\n",
       "    <tr>\n",
       "      <th>33785</th>\n",
       "      <td>99929</td>\n",
       "      <td>56.36089</td>\n",
       "      <td>-132.00635</td>\n",
       "      <td>Wrangell</td>\n",
       "      <td>AK</td>\n",
       "      <td>Alaska</td>\n",
       "      <td>True</td>\n",
       "      <td>NaN</td>\n",
       "      <td>2509.0</td>\n",
       "      <td>0.4</td>\n",
       "      <td>2275</td>\n",
       "      <td>Wrangell</td>\n",
       "      <td>{\"02275\": 100}</td>\n",
       "      <td>Wrangell</td>\n",
       "      <td>02275</td>\n",
       "      <td>False</td>\n",
       "      <td>False</td>\n",
       "      <td>America/Sitka</td>\n",
       "    </tr>\n",
       "    <tr>\n",
       "      <th>33786</th>\n",
       "      <td>13021</td>\n",
       "      <td>42.91713</td>\n",
       "      <td>-76.55420</td>\n",
       "      <td>Auburn</td>\n",
       "      <td>NY</td>\n",
       "      <td>New York</td>\n",
       "      <td>True</td>\n",
       "      <td>NaN</td>\n",
       "      <td>37528.0</td>\n",
       "      <td>121.6</td>\n",
       "      <td>36011</td>\n",
       "      <td>Cayuga</td>\n",
       "      <td>{\"36011\": 99.67, \"36067\": 0.33}</td>\n",
       "      <td>Cayuga|Onondaga</td>\n",
       "      <td>36011|36067</td>\n",
       "      <td>False</td>\n",
       "      <td>False</td>\n",
       "      <td>America/New_York</td>\n",
       "    </tr>\n",
       "    <tr>\n",
       "      <th>33787</th>\n",
       "      <td>13024</td>\n",
       "      <td>42.93453</td>\n",
       "      <td>-76.57424</td>\n",
       "      <td>Auburn</td>\n",
       "      <td>NY</td>\n",
       "      <td>New York</td>\n",
       "      <td>True</td>\n",
       "      <td>NaN</td>\n",
       "      <td>1671.0</td>\n",
       "      <td>15533.1</td>\n",
       "      <td>36011</td>\n",
       "      <td>Cayuga</td>\n",
       "      <td>{\"36011\": 100}</td>\n",
       "      <td>Cayuga</td>\n",
       "      <td>36011</td>\n",
       "      <td>False</td>\n",
       "      <td>False</td>\n",
       "      <td>America/New_York</td>\n",
       "    </tr>\n",
       "  </tbody>\n",
       "</table>\n",
       "<p>33788 rows × 18 columns</p>\n",
       "</div>"
      ],
      "text/plain": [
       "         zip       lat        lng         city state_id   state_name  zcta  \\\n",
       "0        601  18.18027  -66.75266     Adjuntas       PR  Puerto Rico  True   \n",
       "1        602  18.36075  -67.17541       Aguada       PR  Puerto Rico  True   \n",
       "2        603  18.45744  -67.12225    Aguadilla       PR  Puerto Rico  True   \n",
       "3        606  18.16585  -66.93716      Maricao       PR  Puerto Rico  True   \n",
       "4        610  18.29110  -67.12243       Anasco       PR  Puerto Rico  True   \n",
       "...      ...       ...        ...          ...      ...          ...   ...   \n",
       "33783  99926  55.12617 -131.48928   Metlakatla       AK       Alaska  True   \n",
       "33784  99927  56.33305 -133.60044  Point Baker       AK       Alaska  True   \n",
       "33785  99929  56.36089 -132.00635     Wrangell       AK       Alaska  True   \n",
       "33786  13021  42.91713  -76.55420       Auburn       NY     New York  True   \n",
       "33787  13024  42.93453  -76.57424       Auburn       NY     New York  True   \n",
       "\n",
       "       parent_zcta  population  density  county_fips            county_name  \\\n",
       "0              NaN     16773.0    100.5        72001               Adjuntas   \n",
       "1              NaN     37083.0    472.1        72003                 Aguada   \n",
       "2              NaN     45652.0    513.2        72005              Aguadilla   \n",
       "3              NaN      6231.0     54.3        72093                Maricao   \n",
       "4              NaN     26502.0    275.7        72011                 Añasco   \n",
       "...            ...         ...      ...          ...                    ...   \n",
       "33783          NaN      1582.0      4.6         2198  Prince of Wales-Hyder   \n",
       "33784          NaN         0.0      0.0         2198  Prince of Wales-Hyder   \n",
       "33785          NaN      2509.0      0.4         2275               Wrangell   \n",
       "33786          NaN     37528.0    121.6        36011                 Cayuga   \n",
       "33787          NaN      1671.0  15533.1        36011                 Cayuga   \n",
       "\n",
       "                                          county_weights  \\\n",
       "0                        {\"72001\": 98.73, \"72141\": 1.27}   \n",
       "1                                         {\"72003\": 100}   \n",
       "2                        {\"72005\": 99.76, \"72099\": 0.24}   \n",
       "3        {\"72093\": 82.26, \"72153\": 11.68, \"72121\": 6.06}   \n",
       "4      {\"72011\": 96.71, \"72099\": 2.81, \"72083\": 0.37,...   \n",
       "...                                                  ...   \n",
       "33783                                     {\"02198\": 100}   \n",
       "33784                                     {\"02198\": 100}   \n",
       "33785                                     {\"02275\": 100}   \n",
       "33786                    {\"36011\": 99.67, \"36067\": 0.33}   \n",
       "33787                                     {\"36011\": 100}   \n",
       "\n",
       "                    county_names_all          county_fips_all  imprecise  \\\n",
       "0                    Adjuntas|Utuado              72001|72141      False   \n",
       "1                             Aguada                    72003      False   \n",
       "2                     Aguadilla|Moca              72005|72099      False   \n",
       "3        Maricao|Yauco|Sabana Grande        72093|72153|72121      False   \n",
       "4      Añasco|Moca|Las Marías|Aguada  72011|72099|72083|72003      False   \n",
       "...                              ...                      ...        ...   \n",
       "33783          Prince of Wales-Hyder                    02198      False   \n",
       "33784          Prince of Wales-Hyder                    02198      False   \n",
       "33785                       Wrangell                    02275      False   \n",
       "33786                Cayuga|Onondaga              36011|36067      False   \n",
       "33787                         Cayuga                    36011      False   \n",
       "\n",
       "       military             timezone  \n",
       "0         False  America/Puerto_Rico  \n",
       "1         False  America/Puerto_Rico  \n",
       "2         False  America/Puerto_Rico  \n",
       "3         False  America/Puerto_Rico  \n",
       "4         False  America/Puerto_Rico  \n",
       "...         ...                  ...  \n",
       "33783     False   America/Metlakatla  \n",
       "33784     False        America/Sitka  \n",
       "33785     False        America/Sitka  \n",
       "33786     False     America/New_York  \n",
       "33787     False     America/New_York  \n",
       "\n",
       "[33788 rows x 18 columns]"
      ]
     },
     "execution_count": 12,
     "metadata": {},
     "output_type": "execute_result"
    }
   ],
   "source": [
    "df = pd.read_csv(path)\n",
    "df"
   ]
  },
  {
   "cell_type": "code",
   "execution_count": 24,
   "id": "2dd5e15f",
   "metadata": {},
   "outputs": [
    {
     "data": {
      "text/plain": [
       "3211"
      ]
     },
     "execution_count": 24,
     "metadata": {},
     "output_type": "execute_result"
    }
   ],
   "source": [
    "len(set(df[\"county_fips\"]))"
   ]
  },
  {
   "cell_type": "code",
   "execution_count": 7,
   "id": "5e22a712",
   "metadata": {},
   "outputs": [
    {
     "data": {
      "text/plain": [
       "datetime.timedelta(seconds=58, microseconds=566408)"
      ]
     },
     "execution_count": 7,
     "metadata": {},
     "output_type": "execute_result"
    }
   ],
   "source": [
    "from datetime import datetime, timedelta\n",
    "\n",
    "#v1\n",
    "# start = parser.parse(\"2022-11-24T19:49:33.910440+0530\")\n",
    "# end = parser.parse(\"2022-11-24T20:38:07.622191+0530\")\n",
    "# end - start #2913 seconds, microseconds=711751 for v1, approx 49 minutes\n",
    "\n",
    "#v2\n",
    "# start = parser.parse(\"2022-11-24T22:26:26.047304+0530\")\n",
    "# end = parser.parse(\"2022-11-24T23:13:43.906399+0530\")\n",
    "# end - start #2837 seconds, microseconds=859095 for v2, approx 47.28333 minutes\n",
    "\n",
    "#v3\n",
    "# start = parser.parse(\"2022-11-28T23:49:51.702298+0530\")\n",
    "# end = parser.parse(\"2022-11-29T00:13:55.428913+0530\")\n",
    "# end - start #seconds=1443, microseconds=726615 for v3, approx 24 minutes\n",
    "\n",
    "start = parser.parse(\"2022-11-28T17:12:04.464317-0500\")\n",
    "end = parser.parse(\"2022-11-28T17:13:03.030725-0500\")\n",
    "end - start"
   ]
  },
  {
   "cell_type": "code",
   "execution_count": 31,
   "id": "ebb5751e",
   "metadata": {},
   "outputs": [
    {
     "ename": "ValueError",
     "evalue": "time data '2022-11-24T19:49:33.910440+0530' does not match format '%Y-%m-%d %H:%M:%S.%f'",
     "output_type": "error",
     "traceback": [
      "\u001b[1;31m---------------------------------------------------------------------------\u001b[0m",
      "\u001b[1;31mValueError\u001b[0m                                Traceback (most recent call last)",
      "\u001b[1;32m<ipython-input-31-95af91936492>\u001b[0m in \u001b[0;36m<module>\u001b[1;34m\u001b[0m\n\u001b[1;32m----> 1\u001b[1;33m \u001b[0mdatetime\u001b[0m\u001b[1;33m.\u001b[0m\u001b[0mstrptime\u001b[0m\u001b[1;33m(\u001b[0m\u001b[1;34m\"2022-11-24T19:49:33.910440+0530\"\u001b[0m\u001b[1;33m,\u001b[0m \u001b[1;34m'%Y-%m-%d %H:%M:%S.%f'\u001b[0m\u001b[1;33m)\u001b[0m\u001b[1;33m\u001b[0m\u001b[1;33m\u001b[0m\u001b[0m\n\u001b[0m",
      "\u001b[1;32mD:\\Anaconda3\\lib\\_strptime.py\u001b[0m in \u001b[0;36m_strptime_datetime\u001b[1;34m(cls, data_string, format)\u001b[0m\n\u001b[0;32m    566\u001b[0m     \"\"\"Return a class cls instance based on the input string and the\n\u001b[0;32m    567\u001b[0m     format string.\"\"\"\n\u001b[1;32m--> 568\u001b[1;33m     \u001b[0mtt\u001b[0m\u001b[1;33m,\u001b[0m \u001b[0mfraction\u001b[0m\u001b[1;33m,\u001b[0m \u001b[0mgmtoff_fraction\u001b[0m \u001b[1;33m=\u001b[0m \u001b[0m_strptime\u001b[0m\u001b[1;33m(\u001b[0m\u001b[0mdata_string\u001b[0m\u001b[1;33m,\u001b[0m \u001b[0mformat\u001b[0m\u001b[1;33m)\u001b[0m\u001b[1;33m\u001b[0m\u001b[1;33m\u001b[0m\u001b[0m\n\u001b[0m\u001b[0;32m    569\u001b[0m     \u001b[0mtzname\u001b[0m\u001b[1;33m,\u001b[0m \u001b[0mgmtoff\u001b[0m \u001b[1;33m=\u001b[0m \u001b[0mtt\u001b[0m\u001b[1;33m[\u001b[0m\u001b[1;33m-\u001b[0m\u001b[1;36m2\u001b[0m\u001b[1;33m:\u001b[0m\u001b[1;33m]\u001b[0m\u001b[1;33m\u001b[0m\u001b[1;33m\u001b[0m\u001b[0m\n\u001b[0;32m    570\u001b[0m     \u001b[0margs\u001b[0m \u001b[1;33m=\u001b[0m \u001b[0mtt\u001b[0m\u001b[1;33m[\u001b[0m\u001b[1;33m:\u001b[0m\u001b[1;36m6\u001b[0m\u001b[1;33m]\u001b[0m \u001b[1;33m+\u001b[0m \u001b[1;33m(\u001b[0m\u001b[0mfraction\u001b[0m\u001b[1;33m,\u001b[0m\u001b[1;33m)\u001b[0m\u001b[1;33m\u001b[0m\u001b[1;33m\u001b[0m\u001b[0m\n",
      "\u001b[1;32mD:\\Anaconda3\\lib\\_strptime.py\u001b[0m in \u001b[0;36m_strptime\u001b[1;34m(data_string, format)\u001b[0m\n\u001b[0;32m    347\u001b[0m     \u001b[0mfound\u001b[0m \u001b[1;33m=\u001b[0m \u001b[0mformat_regex\u001b[0m\u001b[1;33m.\u001b[0m\u001b[0mmatch\u001b[0m\u001b[1;33m(\u001b[0m\u001b[0mdata_string\u001b[0m\u001b[1;33m)\u001b[0m\u001b[1;33m\u001b[0m\u001b[1;33m\u001b[0m\u001b[0m\n\u001b[0;32m    348\u001b[0m     \u001b[1;32mif\u001b[0m \u001b[1;32mnot\u001b[0m \u001b[0mfound\u001b[0m\u001b[1;33m:\u001b[0m\u001b[1;33m\u001b[0m\u001b[1;33m\u001b[0m\u001b[0m\n\u001b[1;32m--> 349\u001b[1;33m         raise ValueError(\"time data %r does not match format %r\" %\n\u001b[0m\u001b[0;32m    350\u001b[0m                          (data_string, format))\n\u001b[0;32m    351\u001b[0m     \u001b[1;32mif\u001b[0m \u001b[0mlen\u001b[0m\u001b[1;33m(\u001b[0m\u001b[0mdata_string\u001b[0m\u001b[1;33m)\u001b[0m \u001b[1;33m!=\u001b[0m \u001b[0mfound\u001b[0m\u001b[1;33m.\u001b[0m\u001b[0mend\u001b[0m\u001b[1;33m(\u001b[0m\u001b[1;33m)\u001b[0m\u001b[1;33m:\u001b[0m\u001b[1;33m\u001b[0m\u001b[1;33m\u001b[0m\u001b[0m\n",
      "\u001b[1;31mValueError\u001b[0m: time data '2022-11-24T19:49:33.910440+0530' does not match format '%Y-%m-%d %H:%M:%S.%f'"
     ]
    }
   ],
   "source": [
    "datetime.strptime(\"2022-11-24T19:49:33.910440+0530\", '%Y-%m-%d %H:%M:%S.%f')"
   ]
  },
  {
   "cell_type": "code",
   "execution_count": 22,
   "id": "7790a70a",
   "metadata": {},
   "outputs": [],
   "source": []
  },
  {
   "cell_type": "code",
   "execution_count": 23,
   "id": "e29e9809",
   "metadata": {},
   "outputs": [],
   "source": [
    "import random\n",
    "from tkinter import *\n",
    "from tkinter import messagebox\n",
    "\n",
    "point = 0\n",
    "class Main():\n",
    "\n",
    "    def showerror():\n",
    "        messagebox.showerror(\"Loser\",\"Next time :)\")\n",
    "        messagebox.showinfo(\"Your point\", \"Point: \" + str(point))\n",
    "\n",
    "    def addpoint():\n",
    "        global point\n",
    "        point +=  31\n",
    "\n",
    "    def deleteButton(btn):\n",
    "        btn.destroy()\n",
    "\n",
    "    def test(btn):\n",
    "        r = random.randint(0,7)\n",
    "        if r > 4:\n",
    "            Main.showerror()\n",
    "        elif r <= 4:\n",
    "            Main.addpoint()\n",
    "\n",
    "        Main.deleteButton(btn)\n",
    "\n",
    "    def __init__(root, master):\n",
    "\n",
    "        root.master = master\n",
    "        window = master\n",
    "\n",
    "        window.title(\"Are u Lucky\")\n",
    "        window.geometry(\"400x300\")\n",
    "\n",
    "        P1 = Label(window, text=\"Choose\")\n",
    "\n",
    "        for x in range(1, 20):\n",
    "            for y in range(1, 20):\n",
    "                button = Button(window, text=\"  X   \",)\n",
    "                button.place(x=(10+x*40) ,y=(30+y*30))\n",
    "                button.configure(command=lambda btn=button: Main.test(btn))\n",
    "\n",
    "root = Tk()\n",
    "window = Main(root)\n",
    "root.mainloop()"
   ]
  },
  {
   "cell_type": "code",
   "execution_count": 1,
   "id": "60e4b235",
   "metadata": {},
   "outputs": [
    {
     "name": "stdout",
     "output_type": "stream",
     "text": [
      "Collecting astroscrappy\n",
      "  Downloading astroscrappy-1.1.0-cp38-cp38-win_amd64.whl (531 kB)\n",
      "Requirement already satisfied: numpy in d:\\anaconda3\\lib\\site-packages (from astroscrappy) (1.20.1)\n",
      "Requirement already satisfied: astropy in d:\\anaconda3\\lib\\site-packages (from astroscrappy) (4.2.1)\n",
      "Requirement already satisfied: pyerfa in d:\\anaconda3\\lib\\site-packages (from astropy->astroscrappy) (1.7.3)\n",
      "Installing collected packages: astroscrappy\n",
      "Successfully installed astroscrappy-1.1.0\n"
     ]
    }
   ],
   "source": [
    "!pip install astroscrappy"
   ]
  },
  {
   "cell_type": "code",
   "execution_count": null,
   "id": "78cbd43d",
   "metadata": {},
   "outputs": [],
   "source": [
    "def a_test(i,q):\n",
    "    import astroscrappy\n",
    "    from astropy.io import fits\n",
    "    print(1)\n",
    "    path = \"fits path\"\n",
    "    s = fits.getdata(i)\n",
    "    print(2)\n",
    "\n",
    "    print(2.5)\n",
    "    a = astroscrappy.detect_cosmics(s)\n",
    "    print(3)\n",
    "    q.put([a, i])\n",
    "    \n",
    "bundle = []\n",
    "import multiprocessing as mp\n",
    "queue = mp.Manager().Queue()\n",
    "\n",
    "paths = [r\"C:\\Users\\Aman Buttan\\FITS\\sample.fits\"]\n",
    "processes = [] \n",
    "for k, item in enumerate(paths):\n",
    "    processes.append(mp.Process(target=a_test, args=(item, queue)))\n",
    "\n",
    "# print(processes)   \n",
    "# # Run processes\n",
    "for p in processes:\n",
    "    p.start()\n",
    "for p in processes:\n",
    "    bundle.append(queue.get())\n",
    "print(bundle)"
   ]
  },
  {
   "cell_type": "code",
   "execution_count": 2,
   "id": "a42610c9",
   "metadata": {},
   "outputs": [
    {
     "name": "stdout",
     "output_type": "stream",
     "text": [
      "1\n"
     ]
    },
    {
     "data": {
      "text/plain": [
       "array([[4.8158903, 4.808729 , 4.7792015, ..., 4.6927767, 4.7188225,\n",
       "        4.706318 ],\n",
       "       [4.765932 , 4.7574024, 4.739212 , ..., 4.707589 , 4.7274485,\n",
       "        4.7039194],\n",
       "       [4.7217703, 4.7100744, 4.6966534, ..., 4.693015 , 4.703006 ,\n",
       "        4.669322 ],\n",
       "       ...,\n",
       "       [4.4415445, 4.450473 , 4.450491 , ..., 4.6285133, 4.6010838,\n",
       "        4.602131 ],\n",
       "       [4.4121437, 4.417659 , 4.4161167, ..., 4.635825 , 4.6239386,\n",
       "        4.632942 ],\n",
       "       [4.3838177, 4.3771925, 4.3713884, ..., 4.6405   , 4.638074 ,\n",
       "        4.648527 ]], dtype=float32)"
      ]
     },
     "execution_count": 2,
     "metadata": {},
     "output_type": "execute_result"
    }
   ],
   "source": [
    "from astropy.io import fits\n",
    "print(1)\n",
    "    \n",
    "s = fits.getdata(r\"C:\\Users\\Aman Buttan\\FITS\\sample.fits\")\n",
    "s"
   ]
  },
  {
   "cell_type": "code",
   "execution_count": null,
   "id": "ec50dfb7",
   "metadata": {},
   "outputs": [],
   "source": [
    "import multiprocessing as mp\n",
    "\n",
    "def foo(q):\n",
    "    q.put('hello')\n",
    "\n",
    "if __name__ == '__main__':\n",
    "    mp.set_start_method('spawn')\n",
    "    q = mp.Queue()\n",
    "    p = mp.Process(target=foo, args=(q,))\n",
    "    p.start()\n",
    "    print(q.get())\n",
    "    p.join()"
   ]
  },
  {
   "cell_type": "code",
   "execution_count": 4,
   "id": "ba0d7549",
   "metadata": {},
   "outputs": [
    {
     "data": {
      "text/html": [
       "<div>\n",
       "<style scoped>\n",
       "    .dataframe tbody tr th:only-of-type {\n",
       "        vertical-align: middle;\n",
       "    }\n",
       "\n",
       "    .dataframe tbody tr th {\n",
       "        vertical-align: top;\n",
       "    }\n",
       "\n",
       "    .dataframe thead th {\n",
       "        text-align: right;\n",
       "    }\n",
       "</style>\n",
       "<table border=\"1\" class=\"dataframe\">\n",
       "  <thead>\n",
       "    <tr style=\"text-align: right;\">\n",
       "      <th></th>\n",
       "      <th>Key</th>\n",
       "      <th>id</th>\n",
       "      <th>comment</th>\n",
       "    </tr>\n",
       "  </thead>\n",
       "  <tbody>\n",
       "    <tr>\n",
       "      <th>0</th>\n",
       "      <td>111</td>\n",
       "      <td></td>\n",
       "      <td>wrong sentence</td>\n",
       "    </tr>\n",
       "    <tr>\n",
       "      <th>1</th>\n",
       "      <td>111</td>\n",
       "      <td></td>\n",
       "      <td>wrong sentence</td>\n",
       "    </tr>\n",
       "    <tr>\n",
       "      <th>2</th>\n",
       "      <td>111</td>\n",
       "      <td></td>\n",
       "      <td>wrong sentence</td>\n",
       "    </tr>\n",
       "    <tr>\n",
       "      <th>3</th>\n",
       "      <td>222*1</td>\n",
       "      <td>1</td>\n",
       "      <td>M</td>\n",
       "    </tr>\n",
       "    <tr>\n",
       "      <th>4</th>\n",
       "      <td>222*2</td>\n",
       "      <td>2</td>\n",
       "      <td>M</td>\n",
       "    </tr>\n",
       "    <tr>\n",
       "      <th>5</th>\n",
       "      <td>333*1</td>\n",
       "      <td>1</td>\n",
       "      <td>F</td>\n",
       "    </tr>\n",
       "    <tr>\n",
       "      <th>6</th>\n",
       "      <td>333*2</td>\n",
       "      <td>2</td>\n",
       "      <td>F</td>\n",
       "    </tr>\n",
       "    <tr>\n",
       "      <th>7</th>\n",
       "      <td>333*3</td>\n",
       "      <td>3</td>\n",
       "      <td>F</td>\n",
       "    </tr>\n",
       "    <tr>\n",
       "      <th>8</th>\n",
       "      <td>444</td>\n",
       "      <td></td>\n",
       "      <td>wrong sentence used in the topic</td>\n",
       "    </tr>\n",
       "    <tr>\n",
       "      <th>9</th>\n",
       "      <td>444</td>\n",
       "      <td></td>\n",
       "      <td>wrong sentence used</td>\n",
       "    </tr>\n",
       "    <tr>\n",
       "      <th>10</th>\n",
       "      <td>444</td>\n",
       "      <td></td>\n",
       "      <td>wrong sentence use</td>\n",
       "    </tr>\n",
       "  </tbody>\n",
       "</table>\n",
       "</div>"
      ],
      "text/plain": [
       "      Key id                           comment\n",
       "0     111                       wrong sentence\n",
       "1     111                       wrong sentence\n",
       "2     111                       wrong sentence\n",
       "3   222*1  1                                 M\n",
       "4   222*2  2                                 M\n",
       "5   333*1  1                                 F\n",
       "6   333*2  2                                 F\n",
       "7   333*3  3                                 F\n",
       "8     444     wrong sentence used in the topic\n",
       "9     444                  wrong sentence used\n",
       "10    444                   wrong sentence use"
      ]
     },
     "execution_count": 4,
     "metadata": {},
     "output_type": "execute_result"
    }
   ],
   "source": [
    "import pandas as pd\n",
    "j = {'Key': ['111', '111','111', '222*1','222*2', '333*1','333*2', '333*3','444','444', '444'],\n",
    "      'id' : ['', '','', '1','2', '1','2', '3','', '','',],\n",
    "        'comment': ['wrong sentence', 'wrong sentence','wrong sentence', 'M','M', 'F','F', 'F','wrong sentence used in the topic', 'wrong sentence used','wrong sentence use']}\n",
    "df = pd.DataFrame(j)\n",
    "df"
   ]
  },
  {
   "cell_type": "code",
   "execution_count": 29,
   "id": "3a29bd1c",
   "metadata": {},
   "outputs": [
    {
     "data": {
      "text/plain": [
       "[1, 3, 4, 5]"
      ]
     },
     "execution_count": 29,
     "metadata": {},
     "output_type": "execute_result"
    }
   ],
   "source": [
    "my_lst   = [1, 3, 5]\n",
    "my_num   = 4\n",
    "\n",
    "index = 0\n",
    "for i, item in enumerate(my_lst):\n",
    "    if item > my_num:\n",
    "        index = i\n",
    "        break\n",
    "    elif item < my_num:\n",
    "        index = i + 1\n",
    "        \n",
    "my_lst.insert(index, my_num)\n",
    "my_lst"
   ]
  },
  {
   "cell_type": "code",
   "execution_count": 24,
   "id": "2c4bb9c0",
   "metadata": {},
   "outputs": [
    {
     "name": "stdout",
     "output_type": "stream",
     "text": [
      "[6, 1, 3, 5]\n"
     ]
    }
   ],
   "source": [
    "my_lst   = [1, 3, 5]\n",
    "my_num   = 6\n",
    "\n",
    "l = len(my_lst)\n",
    "index = 0\n",
    "for i in range(l):\n",
    "    if my_lst[i] > my_num:\n",
    "        index = i\n",
    "        break\n",
    "my_lst = my_lst[:index] + [my_num] + my_lst[index:]\n",
    "print(my_lst)"
   ]
  },
  {
   "cell_type": "code",
   "execution_count": 9,
   "id": "62bfad5e",
   "metadata": {},
   "outputs": [
    {
     "data": {
      "text/html": [
       "<div>\n",
       "<style scoped>\n",
       "    .dataframe tbody tr th:only-of-type {\n",
       "        vertical-align: middle;\n",
       "    }\n",
       "\n",
       "    .dataframe tbody tr th {\n",
       "        vertical-align: top;\n",
       "    }\n",
       "\n",
       "    .dataframe thead th {\n",
       "        text-align: right;\n",
       "    }\n",
       "</style>\n",
       "<table border=\"1\" class=\"dataframe\">\n",
       "  <thead>\n",
       "    <tr style=\"text-align: right;\">\n",
       "      <th></th>\n",
       "      <th>location x</th>\n",
       "      <th>location y</th>\n",
       "    </tr>\n",
       "  </thead>\n",
       "  <tbody>\n",
       "    <tr>\n",
       "      <th>0</th>\n",
       "      <td>107.0</td>\n",
       "      <td>252.0</td>\n",
       "    </tr>\n",
       "    <tr>\n",
       "      <th>1</th>\n",
       "      <td>254.0</td>\n",
       "      <td>56.0</td>\n",
       "    </tr>\n",
       "    <tr>\n",
       "      <th>2</th>\n",
       "      <td>52.0</td>\n",
       "      <td>250.0</td>\n",
       "    </tr>\n",
       "    <tr>\n",
       "      <th>3</th>\n",
       "      <td>640.0</td>\n",
       "      <td>86.0</td>\n",
       "    </tr>\n",
       "    <tr>\n",
       "      <th>4</th>\n",
       "      <td>882.0</td>\n",
       "      <td>318.0</td>\n",
       "    </tr>\n",
       "  </tbody>\n",
       "</table>\n",
       "</div>"
      ],
      "text/plain": [
       "   location x  location y\n",
       "0       107.0       252.0\n",
       "1       254.0        56.0\n",
       "2        52.0       250.0\n",
       "3       640.0        86.0\n",
       "4       882.0       318.0"
      ]
     },
     "execution_count": 9,
     "metadata": {},
     "output_type": "execute_result"
    }
   ],
   "source": [
    "import pandas as pd\n",
    "\n",
    "df = pd.DataFrame({'location x': [107.0, 254.0, 52.0, 640.0, 882.0],\n",
    "        'location y': [252.0, 56.0, 250.0, 86.0, 318.0]})\n",
    "\n",
    "def change_y(num):\n",
    "    if num > 470:\n",
    "        num = 470 - [(num) - 470]\n",
    "        return num\n",
    "    else:\n",
    "        return num\n",
    "\n",
    "def change_x(num):\n",
    "    if num < 250:\n",
    "        num = (250 - num) + 250\n",
    "        return num\n",
    "    elif num > 250:\n",
    "        num = 250 - (num - 250)\n",
    "        return num\n",
    "    else:\n",
    "        pass\n",
    "    \n",
    "# df = df[\"location y\"].apply(change_y)\n",
    "# df = df[\"location x\"].apply(change_x)\n",
    "df"
   ]
  },
  {
   "cell_type": "code",
   "execution_count": 10,
   "id": "d881eea2",
   "metadata": {},
   "outputs": [
    {
     "ename": "KeyError",
     "evalue": "'location x'",
     "output_type": "error",
     "traceback": [
      "\u001b[1;31m---------------------------------------------------------------------------\u001b[0m",
      "\u001b[1;31mKeyError\u001b[0m                                  Traceback (most recent call last)",
      "\u001b[1;32m<ipython-input-10-e2cea72be5e3>\u001b[0m in \u001b[0;36m<module>\u001b[1;34m\u001b[0m\n\u001b[0;32m      1\u001b[0m \u001b[0mdf\u001b[0m \u001b[1;33m=\u001b[0m \u001b[0mdf\u001b[0m\u001b[1;33m[\u001b[0m\u001b[1;34m\"location y\"\u001b[0m\u001b[1;33m]\u001b[0m\u001b[1;33m.\u001b[0m\u001b[0mapply\u001b[0m\u001b[1;33m(\u001b[0m\u001b[0mchange_y\u001b[0m\u001b[1;33m)\u001b[0m\u001b[1;33m\u001b[0m\u001b[1;33m\u001b[0m\u001b[0m\n\u001b[1;32m----> 2\u001b[1;33m \u001b[0mdf\u001b[0m \u001b[1;33m=\u001b[0m \u001b[0mdf\u001b[0m\u001b[1;33m[\u001b[0m\u001b[1;34m\"location x\"\u001b[0m\u001b[1;33m]\u001b[0m\u001b[1;33m.\u001b[0m\u001b[0mapply\u001b[0m\u001b[1;33m(\u001b[0m\u001b[0mchange_x\u001b[0m\u001b[1;33m)\u001b[0m\u001b[1;33m\u001b[0m\u001b[1;33m\u001b[0m\u001b[0m\n\u001b[0m",
      "\u001b[1;32mD:\\Anaconda3\\lib\\site-packages\\pandas\\core\\series.py\u001b[0m in \u001b[0;36m__getitem__\u001b[1;34m(self, key)\u001b[0m\n\u001b[0;32m    851\u001b[0m \u001b[1;33m\u001b[0m\u001b[0m\n\u001b[0;32m    852\u001b[0m         \u001b[1;32melif\u001b[0m \u001b[0mkey_is_scalar\u001b[0m\u001b[1;33m:\u001b[0m\u001b[1;33m\u001b[0m\u001b[1;33m\u001b[0m\u001b[0m\n\u001b[1;32m--> 853\u001b[1;33m             \u001b[1;32mreturn\u001b[0m \u001b[0mself\u001b[0m\u001b[1;33m.\u001b[0m\u001b[0m_get_value\u001b[0m\u001b[1;33m(\u001b[0m\u001b[0mkey\u001b[0m\u001b[1;33m)\u001b[0m\u001b[1;33m\u001b[0m\u001b[1;33m\u001b[0m\u001b[0m\n\u001b[0m\u001b[0;32m    854\u001b[0m \u001b[1;33m\u001b[0m\u001b[0m\n\u001b[0;32m    855\u001b[0m         \u001b[1;32mif\u001b[0m \u001b[0mis_hashable\u001b[0m\u001b[1;33m(\u001b[0m\u001b[0mkey\u001b[0m\u001b[1;33m)\u001b[0m\u001b[1;33m:\u001b[0m\u001b[1;33m\u001b[0m\u001b[1;33m\u001b[0m\u001b[0m\n",
      "\u001b[1;32mD:\\Anaconda3\\lib\\site-packages\\pandas\\core\\series.py\u001b[0m in \u001b[0;36m_get_value\u001b[1;34m(self, label, takeable)\u001b[0m\n\u001b[0;32m    959\u001b[0m \u001b[1;33m\u001b[0m\u001b[0m\n\u001b[0;32m    960\u001b[0m         \u001b[1;31m# Similar to Index.get_value, but we do not fall back to positional\u001b[0m\u001b[1;33m\u001b[0m\u001b[1;33m\u001b[0m\u001b[1;33m\u001b[0m\u001b[0m\n\u001b[1;32m--> 961\u001b[1;33m         \u001b[0mloc\u001b[0m \u001b[1;33m=\u001b[0m \u001b[0mself\u001b[0m\u001b[1;33m.\u001b[0m\u001b[0mindex\u001b[0m\u001b[1;33m.\u001b[0m\u001b[0mget_loc\u001b[0m\u001b[1;33m(\u001b[0m\u001b[0mlabel\u001b[0m\u001b[1;33m)\u001b[0m\u001b[1;33m\u001b[0m\u001b[1;33m\u001b[0m\u001b[0m\n\u001b[0m\u001b[0;32m    962\u001b[0m         \u001b[1;32mreturn\u001b[0m \u001b[0mself\u001b[0m\u001b[1;33m.\u001b[0m\u001b[0mindex\u001b[0m\u001b[1;33m.\u001b[0m\u001b[0m_get_values_for_loc\u001b[0m\u001b[1;33m(\u001b[0m\u001b[0mself\u001b[0m\u001b[1;33m,\u001b[0m \u001b[0mloc\u001b[0m\u001b[1;33m,\u001b[0m \u001b[0mlabel\u001b[0m\u001b[1;33m)\u001b[0m\u001b[1;33m\u001b[0m\u001b[1;33m\u001b[0m\u001b[0m\n\u001b[0;32m    963\u001b[0m \u001b[1;33m\u001b[0m\u001b[0m\n",
      "\u001b[1;32mD:\\Anaconda3\\lib\\site-packages\\pandas\\core\\indexes\\range.py\u001b[0m in \u001b[0;36mget_loc\u001b[1;34m(self, key, method, tolerance)\u001b[0m\n\u001b[0;32m    352\u001b[0m                 \u001b[1;32mexcept\u001b[0m \u001b[0mValueError\u001b[0m \u001b[1;32mas\u001b[0m \u001b[0merr\u001b[0m\u001b[1;33m:\u001b[0m\u001b[1;33m\u001b[0m\u001b[1;33m\u001b[0m\u001b[0m\n\u001b[0;32m    353\u001b[0m                     \u001b[1;32mraise\u001b[0m \u001b[0mKeyError\u001b[0m\u001b[1;33m(\u001b[0m\u001b[0mkey\u001b[0m\u001b[1;33m)\u001b[0m \u001b[1;32mfrom\u001b[0m \u001b[0merr\u001b[0m\u001b[1;33m\u001b[0m\u001b[1;33m\u001b[0m\u001b[0m\n\u001b[1;32m--> 354\u001b[1;33m             \u001b[1;32mraise\u001b[0m \u001b[0mKeyError\u001b[0m\u001b[1;33m(\u001b[0m\u001b[0mkey\u001b[0m\u001b[1;33m)\u001b[0m\u001b[1;33m\u001b[0m\u001b[1;33m\u001b[0m\u001b[0m\n\u001b[0m\u001b[0;32m    355\u001b[0m         \u001b[1;32mreturn\u001b[0m \u001b[0msuper\u001b[0m\u001b[1;33m(\u001b[0m\u001b[1;33m)\u001b[0m\u001b[1;33m.\u001b[0m\u001b[0mget_loc\u001b[0m\u001b[1;33m(\u001b[0m\u001b[0mkey\u001b[0m\u001b[1;33m,\u001b[0m \u001b[0mmethod\u001b[0m\u001b[1;33m=\u001b[0m\u001b[0mmethod\u001b[0m\u001b[1;33m,\u001b[0m \u001b[0mtolerance\u001b[0m\u001b[1;33m=\u001b[0m\u001b[0mtolerance\u001b[0m\u001b[1;33m)\u001b[0m\u001b[1;33m\u001b[0m\u001b[1;33m\u001b[0m\u001b[0m\n\u001b[0;32m    356\u001b[0m \u001b[1;33m\u001b[0m\u001b[0m\n",
      "\u001b[1;31mKeyError\u001b[0m: 'location x'"
     ]
    }
   ],
   "source": [
    "df = df[\"location y\"].apply(change_y)\n",
    "df = df[\"location x\"].apply(change_x)"
   ]
  },
  {
   "cell_type": "code",
   "execution_count": null,
   "id": "30c2d443",
   "metadata": {},
   "outputs": [],
   "source": []
  }
 ],
 "metadata": {
  "kernelspec": {
   "display_name": "Python 3",
   "language": "python",
   "name": "python3"
  },
  "language_info": {
   "codemirror_mode": {
    "name": "ipython",
    "version": 3
   },
   "file_extension": ".py",
   "mimetype": "text/x-python",
   "name": "python",
   "nbconvert_exporter": "python",
   "pygments_lexer": "ipython3",
   "version": "3.8.8"
  }
 },
 "nbformat": 4,
 "nbformat_minor": 5
}
