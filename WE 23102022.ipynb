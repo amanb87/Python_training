{
 "cells": [
  {
   "cell_type": "markdown",
   "id": "5c4f7328",
   "metadata": {},
   "source": [
    "Agenda:\n",
    "\n",
    "1. importing libraries\n",
    "2. random password generation - use random library\n",
    "3. string methods and slicing, splitting, joining\n",
    "4. Collection data types"
   ]
  },
  {
   "cell_type": "code",
   "execution_count": 155,
   "id": "14db5fe7",
   "metadata": {},
   "outputs": [
    {
     "name": "stdout",
     "output_type": "stream",
     "text": [
      "'BmkyV9I\n"
     ]
    }
   ],
   "source": [
    "#simple password generator with while loop\n",
    "import random\n",
    "import string\n",
    "\n",
    "password_length = 0\n",
    "password = \"\"\n",
    "character_list = string.ascii_letters + string.digits + string.punctuation\n",
    "\n",
    "while((password_length<8)):    \n",
    "    rand = random.choice(character_list) #randomly choose element from character list\n",
    "    password += rand\n",
    "    password_length += 1 \n",
    "print(password)    "
   ]
  },
  {
   "cell_type": "code",
   "execution_count": 163,
   "id": "be017853",
   "metadata": {},
   "outputs": [
    {
     "name": "stdout",
     "output_type": "stream",
     "text": [
      "VJTGB\n"
     ]
    }
   ],
   "source": [
    "#simple password generator with for loop\n",
    "import random\n",
    "import string\n",
    "\n",
    "password_length = 16\n",
    "password = \"\"\n",
    "for i in range(1, password_length):\n",
    "    rand = random.choice(string.ascii_letters + string.digits + string.punctuation)\n",
    "    if rand in string.ascii_uppercase:\n",
    "        password += rand\n",
    "    \n",
    "print(password) "
   ]
  },
  {
   "cell_type": "markdown",
   "id": "67fd7a46",
   "metadata": {},
   "source": [
    "Collection data types\n",
    "\n",
    "1. List\n",
    "2. Dictionary\n",
    "3. Sets\n",
    "4. Frozenset\n",
    "5. tuple\n",
    "6. String - collection of characters"
   ]
  },
  {
   "cell_type": "code",
   "execution_count": 7,
   "id": "da39497e",
   "metadata": {},
   "outputs": [],
   "source": [
    "l = [4,8,10,17,18,23,41,57]"
   ]
  },
  {
   "cell_type": "code",
   "execution_count": 112,
   "id": "b192efe4",
   "metadata": {},
   "outputs": [
    {
     "name": "stdout",
     "output_type": "stream",
     "text": [
      "4  is an even number\n",
      "8  is an even number\n",
      "10  is an even number\n",
      "17  is a odd number\n",
      "18  is an even number\n",
      "23  is a odd number\n",
      "41  is a odd number\n",
      "57  is a odd number\n"
     ]
    }
   ],
   "source": [
    "for i in l:\n",
    "    if (i % 2) == 0:\n",
    "        print(i, \" is an even number\")\n",
    "    else:\n",
    "        print(i, \" is a odd number\")"
   ]
  },
  {
   "cell_type": "code",
   "execution_count": 9,
   "id": "ea7f8df2",
   "metadata": {},
   "outputs": [
    {
     "data": {
      "text/plain": [
       "[4, 8, 10, 17, 18, 23, 41]"
      ]
     },
     "execution_count": 9,
     "metadata": {},
     "output_type": "execute_result"
    }
   ],
   "source": [
    "l"
   ]
  },
  {
   "cell_type": "markdown",
   "id": "c2a3c543",
   "metadata": {},
   "source": [
    "Immutable vs mutable types"
   ]
  },
  {
   "cell_type": "code",
   "execution_count": 10,
   "id": "2af60cfd",
   "metadata": {},
   "outputs": [],
   "source": [
    "l.append(45)"
   ]
  },
  {
   "cell_type": "code",
   "execution_count": 12,
   "id": "41d29458",
   "metadata": {},
   "outputs": [
    {
     "data": {
      "text/plain": [
       "[4, 5, 10, 17, 18, 23, 41, 45]"
      ]
     },
     "execution_count": 12,
     "metadata": {},
     "output_type": "execute_result"
    }
   ],
   "source": [
    "l[1] = 5\n",
    "l"
   ]
  },
  {
   "cell_type": "code",
   "execution_count": 63,
   "id": "add5f097",
   "metadata": {},
   "outputs": [
    {
     "data": {
      "text/plain": [
       "'olleh'"
      ]
     },
     "execution_count": 63,
     "metadata": {},
     "output_type": "execute_result"
    }
   ],
   "source": [
    "s = \"hello\"\n",
    "s[::-1]\n",
    "#Write a program to tell whether a string is palindrome\n"
   ]
  },
  {
   "cell_type": "markdown",
   "id": "f1ed150d",
   "metadata": {},
   "source": [
    "s[start:end:step]\n",
    "pip"
   ]
  },
  {
   "cell_type": "code",
   "execution_count": 71,
   "id": "039dd7d1",
   "metadata": {},
   "outputs": [
    {
     "name": "stdout",
     "output_type": "stream",
     "text": [
      "[10, 20, 30, 40, 50, 60, 70, 80, 90, 100]\n"
     ]
    }
   ],
   "source": [
    "#Write a program that prints the first 100 even numbers that are also divisible by 5, in a list\n",
    "\n",
    "l = []\n",
    "\n",
    "for number in range(1, 101):\n",
    "    if (number % 2 == 0) and (number % 5 == 0):\n",
    "        l.append(number)    "
   ]
  },
  {
   "cell_type": "code",
   "execution_count": 100,
   "id": "9d2e30c6",
   "metadata": {},
   "outputs": [
    {
     "data": {
      "text/plain": [
       "[10, 20, 30, 40, 50, 60, 70, 80, 90, 100]"
      ]
     },
     "execution_count": 100,
     "metadata": {},
     "output_type": "execute_result"
    }
   ],
   "source": [
    "list_compr_example = [number for number in range(1, 101) if ((number % 2 == 0) and (number % 5 == 0))]\n",
    "list_compr_example"
   ]
  },
  {
   "cell_type": "code",
   "execution_count": 74,
   "id": "08740a5a",
   "metadata": {},
   "outputs": [
    {
     "name": "stdout",
     "output_type": "stream",
     "text": [
      "[1, 2, 3, 4, 5, 6, 7, 8, 9, 10]\n"
     ]
    }
   ],
   "source": [
    "random_nums = []\n",
    "\n",
    "for i in l:\n",
    "    result = int((i / 10))\n",
    "    random_nums.append(result)\n",
    "print(random_nums)    "
   ]
  },
  {
   "cell_type": "code",
   "execution_count": 5,
   "id": "6d1b372a",
   "metadata": {},
   "outputs": [
    {
     "data": {
      "text/plain": [
       "'olleh'"
      ]
     },
     "execution_count": 5,
     "metadata": {},
     "output_type": "execute_result"
    }
   ],
   "source": [
    "\"\".join([i for i in reversed(s)])"
   ]
  },
  {
   "cell_type": "markdown",
   "id": "bccaa9ef",
   "metadata": {},
   "source": [
    "__Sequences__: tuples, lists, strings and ranges\n",
    "1. Concatenation\n",
    "2. Repeat\n",
    "3. Membership Operators\n",
    "4. Slicing Operator\n",
    "\n",
    "Functions on sequences:\n",
    "1. len()\n",
    "2. min() and max()\n",
    "3. index()\n",
    "4. count()\n",
    "\n",
    "__Collections__: sets, dictionaries\n",
    "\n",
    "Unordered data structures like sets and dictionaries are called collections in python. "
   ]
  },
  {
   "cell_type": "code",
   "execution_count": 16,
   "id": "fd5a5809",
   "metadata": {},
   "outputs": [
    {
     "data": {
      "text/plain": [
       "[1, 2, 3, 4, 5, 6]"
      ]
     },
     "execution_count": 16,
     "metadata": {},
     "output_type": "execute_result"
    }
   ],
   "source": [
    "#Write a program that returns all leap years between 1000AD and 2022AD"
   ]
  },
  {
   "cell_type": "code",
   "execution_count": 82,
   "id": "f90640de",
   "metadata": {},
   "outputs": [],
   "source": [
    "l = [1, 2, 3, 4, 5, 6]\n",
    "l.extend([7,8,9])"
   ]
  },
  {
   "cell_type": "code",
   "execution_count": 84,
   "id": "b6598367",
   "metadata": {},
   "outputs": [],
   "source": [
    "l.insert(2,22)"
   ]
  },
  {
   "cell_type": "code",
   "execution_count": 86,
   "id": "7c019aa8",
   "metadata": {},
   "outputs": [],
   "source": [
    "l.remove(22)"
   ]
  },
  {
   "cell_type": "code",
   "execution_count": 87,
   "id": "5269cca2",
   "metadata": {},
   "outputs": [
    {
     "data": {
      "text/plain": [
       "[1, 2, 3, 4, 5, 6, 7, 8, 9]"
      ]
     },
     "execution_count": 87,
     "metadata": {},
     "output_type": "execute_result"
    }
   ],
   "source": [
    "l"
   ]
  },
  {
   "cell_type": "code",
   "execution_count": 91,
   "id": "70318dfa",
   "metadata": {},
   "outputs": [
    {
     "data": {
      "text/plain": [
       "6"
      ]
     },
     "execution_count": 91,
     "metadata": {},
     "output_type": "execute_result"
    }
   ],
   "source": [
    "l.pop()"
   ]
  },
  {
   "cell_type": "code",
   "execution_count": 95,
   "id": "54b84f81",
   "metadata": {},
   "outputs": [],
   "source": [
    "unsorted_list = [8,2,1,13,10,5,3,9]\n",
    "unsorted_list.sort(reverse=True)"
   ]
  },
  {
   "cell_type": "code",
   "execution_count": 96,
   "id": "ac953582",
   "metadata": {},
   "outputs": [
    {
     "data": {
      "text/plain": [
       "[13, 10, 9, 8, 5, 3, 2, 1]"
      ]
     },
     "execution_count": 96,
     "metadata": {},
     "output_type": "execute_result"
    }
   ],
   "source": [
    "unsorted_list"
   ]
  },
  {
   "cell_type": "code",
   "execution_count": 103,
   "id": "54d85ab0",
   "metadata": {},
   "outputs": [
    {
     "name": "stdout",
     "output_type": "stream",
     "text": [
      "[21, 24, 27, 30, 33, 36, 39, 42, 45, 48, 51, 54, 57, 60, 63, 66, 69, 72, 75, 78, 81, 84, 87, 90, 93, 96, 99, 102, 105, 108, 111, 114, 117, 120, 123, 126, 129, 132, 135, 138, 141, 144, 147, 150, 153, 156, 159, 162, 165, 168, 171, 174, 177, 180, 183, 186, 189, 192, 195, 198, 201, 204, 207, 210, 213, 216, 219, 222, 225, 228, 231, 234, 237, 240, 243, 246, 249, 252, 255, 258, 261, 264, 267, 270, 273, 276, 279, 282, 285, 288, 291, 294, 297]\n"
     ]
    }
   ],
   "source": [
    "v = [i for i in range(20,300) if i%3==0]\n",
    "print(v)"
   ]
  },
  {
   "cell_type": "code",
   "execution_count": 122,
   "id": "1f94e9e6",
   "metadata": {},
   "outputs": [
    {
     "data": {
      "text/plain": [
       "['e',\n",
       " 'o',\n",
       " 'o',\n",
       " 'i',\n",
       " 'i',\n",
       " 'o',\n",
       " 'o',\n",
       " 'i',\n",
       " 'o',\n",
       " 'a',\n",
       " 'a',\n",
       " 'i',\n",
       " 'a',\n",
       " 'o',\n",
       " 'e',\n",
       " 'o']"
      ]
     },
     "execution_count": 122,
     "metadata": {},
     "output_type": "execute_result"
    }
   ],
   "source": [
    "vowels = \"aeiou\"\n",
    "hello = \"hello world. this is python. python is not an animal. I love python\"\n",
    "\n",
    "vow_list = [i for i in vowels]\n",
    "hello_list = [i for i in hello]\n",
    "result = [i for i in hello_list for j in vow_list if i == j]\n",
    "\n"
   ]
  },
  {
   "cell_type": "code",
   "execution_count": 121,
   "id": "409bb7a9",
   "metadata": {},
   "outputs": [
    {
     "data": {
      "text/plain": [
       "['e', 'o', 'i', 'a']"
      ]
     },
     "execution_count": 121,
     "metadata": {},
     "output_type": "execute_result"
    }
   ],
   "source": [
    "result1 = []\n",
    "\n",
    "for i in result:\n",
    "    if i in result1:\n",
    "        pass\n",
    "    else:\n",
    "        result1.append(i)\n",
    "result1        "
   ]
  },
  {
   "cell_type": "code",
   "execution_count": 126,
   "id": "aab05fd0",
   "metadata": {},
   "outputs": [
    {
     "data": {
      "text/plain": [
       "['i', 'o', 'e', 'a']"
      ]
     },
     "execution_count": 126,
     "metadata": {},
     "output_type": "execute_result"
    }
   ],
   "source": [
    "list(set(result))"
   ]
  },
  {
   "cell_type": "code",
   "execution_count": 2,
   "id": "0924483c",
   "metadata": {},
   "outputs": [
    {
     "data": {
      "text/plain": [
       "[3, 4]"
      ]
     },
     "execution_count": 2,
     "metadata": {},
     "output_type": "execute_result"
    }
   ],
   "source": [
    "l1 = [1,2,3,4] \n",
    "l2 = [5,4,13,3]\n",
    "l3 = []\n",
    "for i in l1:\n",
    "    for j in l2:\n",
    "        if i == j:\n",
    "            l3.append(i)\n",
    "l3            "
   ]
  },
  {
   "cell_type": "code",
   "execution_count": 3,
   "id": "a17bc076",
   "metadata": {},
   "outputs": [
    {
     "data": {
      "text/plain": [
       "[3, 4]"
      ]
     },
     "execution_count": 3,
     "metadata": {},
     "output_type": "execute_result"
    }
   ],
   "source": [
    "l4 = [i for i in l1 for j in l2 if i == j]\n",
    "l4"
   ]
  },
  {
   "cell_type": "code",
   "execution_count": 113,
   "id": "426a78ce",
   "metadata": {},
   "outputs": [
    {
     "name": "stdout",
     "output_type": "stream",
     "text": [
      "1\n",
      "2\n",
      "3\n",
      "4\n",
      "5\n",
      "6\n",
      "7\n",
      "8\n",
      "9\n"
     ]
    }
   ],
   "source": [
    "for number in range(1,10):\n",
    "    print(temp)"
   ]
  },
  {
   "cell_type": "code",
   "execution_count": 124,
   "id": "07b3e022",
   "metadata": {},
   "outputs": [
    {
     "data": {
      "text/plain": [
       "{1, 2, 3}"
      ]
     },
     "execution_count": 124,
     "metadata": {},
     "output_type": "execute_result"
    }
   ],
   "source": [
    "{1,2,3}"
   ]
  },
  {
   "cell_type": "code",
   "execution_count": null,
   "id": "29204d2f",
   "metadata": {},
   "outputs": [],
   "source": []
  }
 ],
 "metadata": {
  "kernelspec": {
   "display_name": "Python 3",
   "language": "python",
   "name": "python3"
  },
  "language_info": {
   "codemirror_mode": {
    "name": "ipython",
    "version": 3
   },
   "file_extension": ".py",
   "mimetype": "text/x-python",
   "name": "python",
   "nbconvert_exporter": "python",
   "pygments_lexer": "ipython3",
   "version": "3.8.8"
  }
 },
 "nbformat": 4,
 "nbformat_minor": 5
}
