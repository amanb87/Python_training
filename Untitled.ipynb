{
 "cells": [
  {
   "cell_type": "code",
   "execution_count": 19,
   "id": "9f25e6ac",
   "metadata": {},
   "outputs": [
    {
     "name": "stdout",
     "output_type": "stream",
     "text": [
      "Python is awesome\n"
     ]
    }
   ],
   "source": [
    "# Fun with strings and numbers\n",
    "\n",
    "s = \"Python is awesome\"\n",
    "print(s)"
   ]
  },
  {
   "cell_type": "markdown",
   "id": "cdacc455",
   "metadata": {},
   "source": [
    "\\n - newline character\n",
    "\\t - tab character"
   ]
  },
  {
   "cell_type": "code",
   "execution_count": 15,
   "id": "e29e0077",
   "metadata": {},
   "outputs": [],
   "source": [
    "t = \"Python is a functional language\""
   ]
  },
  {
   "cell_type": "markdown",
   "id": "61983024",
   "metadata": {},
   "source": [
    "Functions accept arguments. Each argument is seperated with a comma"
   ]
  },
  {
   "cell_type": "code",
   "execution_count": 26,
   "id": "65e1e154",
   "metadata": {},
   "outputs": [
    {
     "name": "stdout",
     "output_type": "stream",
     "text": [
      "Python is awesome;Python is a functional language."
     ]
    }
   ],
   "source": [
    "print(s,t, sep=\";\", end=\".\")"
   ]
  },
  {
   "cell_type": "code",
   "execution_count": 36,
   "id": "510f0315",
   "metadata": {},
   "outputs": [
    {
     "data": {
      "text/plain": [
       "-1.0"
      ]
     },
     "execution_count": 36,
     "metadata": {},
     "output_type": "execute_result"
    }
   ],
   "source": [
    "(14 / 32) // (3 ** 2 - 15)"
   ]
  },
  {
   "cell_type": "code",
   "execution_count": 38,
   "id": "71a88a82",
   "metadata": {},
   "outputs": [
    {
     "data": {
      "text/plain": [
       "2.77"
      ]
     },
     "execution_count": 38,
     "metadata": {},
     "output_type": "execute_result"
    }
   ],
   "source": [
    "round(2.768, 2)"
   ]
  },
  {
   "cell_type": "code",
   "execution_count": 39,
   "id": "9c59b0f2",
   "metadata": {},
   "outputs": [],
   "source": [
    "import math"
   ]
  },
  {
   "cell_type": "code",
   "execution_count": 42,
   "id": "aedeec5d",
   "metadata": {},
   "outputs": [
    {
     "data": {
      "text/plain": [
       "25"
      ]
     },
     "execution_count": 42,
     "metadata": {},
     "output_type": "execute_result"
    }
   ],
   "source": []
  },
  {
   "cell_type": "code",
   "execution_count": 87,
   "id": "8ec2d69a",
   "metadata": {},
   "outputs": [
    {
     "name": "stdout",
     "output_type": "stream",
     "text": [
      "Gary says that Python is a functional language.\n",
      "\n",
      "But Amy argues \"Its an object oriented language\"\n",
      "\n",
      "Python is functional\\OOPS\n"
     ]
    }
   ],
   "source": [
    "p = \"\"\"Gary says that Python is a functional language.\n",
    "\\nBut Amy argues \\\"Its an object oriented language\\\"\n",
    "\\nPython is functional\\OOPS\"\"\"\n",
    "print(p)"
   ]
  },
  {
   "cell_type": "code",
   "execution_count": 95,
   "id": "a4cd9fe2",
   "metadata": {},
   "outputs": [],
   "source": [
    "path = r\"C:\\Users\\Aman-Buttan\\Documents\\Python-training\"\n",
    "path1  = path + \"\\Day2\""
   ]
  },
  {
   "cell_type": "code",
   "execution_count": 96,
   "id": "c76ae720",
   "metadata": {},
   "outputs": [],
   "source": [
    "path = path + \"\\Day2\""
   ]
  },
  {
   "cell_type": "code",
   "execution_count": 97,
   "id": "87afa097",
   "metadata": {},
   "outputs": [
    {
     "data": {
      "text/plain": [
       "True"
      ]
     },
     "execution_count": 97,
     "metadata": {},
     "output_type": "execute_result"
    }
   ],
   "source": [
    "path1 == path"
   ]
  },
  {
   "cell_type": "markdown",
   "id": "2ac68a2f",
   "metadata": {},
   "source": [
    "For OS paths, it is recommended to use the `os` library. The methods in this library help devs to create valid paths that are properly escaped"
   ]
  },
  {
   "cell_type": "code",
   "execution_count": 2,
   "id": "32afa6a7",
   "metadata": {},
   "outputs": [
    {
     "data": {
      "text/plain": [
       "'C:\\\\Users\\\\Aman-Buttan\\\\Documents\\\\Python-training\\\\Day2'"
      ]
     },
     "execution_count": 2,
     "metadata": {},
     "output_type": "execute_result"
    }
   ],
   "source": [
    "import os\n",
    "path = os.path.join(r\"C:\\Users\\Aman-Buttan\\Documents\\Python-training\", \"Day2\")\n",
    "path"
   ]
  },
  {
   "cell_type": "code",
   "execution_count": null,
   "id": "e0444f42",
   "metadata": {},
   "outputs": [],
   "source": []
  }
 ],
 "metadata": {
  "kernelspec": {
   "display_name": "Python 3",
   "language": "python",
   "name": "python3"
  },
  "language_info": {
   "codemirror_mode": {
    "name": "ipython",
    "version": 3
   },
   "file_extension": ".py",
   "mimetype": "text/x-python",
   "name": "python",
   "nbconvert_exporter": "python",
   "pygments_lexer": "ipython3",
   "version": "3.8.8"
  }
 },
 "nbformat": 4,
 "nbformat_minor": 5
}
