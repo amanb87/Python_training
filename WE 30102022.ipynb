{
 "cells": [
  {
   "cell_type": "markdown",
   "id": "9954fdf9",
   "metadata": {},
   "source": [
    "__Tuples__\n",
    "\n",
    "1. Tuples are an immutable collection data type. This means they are write-protected and their contents cannot be changed. They are good to use when you want to store secure protected information in your code.\n",
    "2. It is also a sequence type, so it supports all common sequence operations.\n",
    "3. They can store heterogeneous data"
   ]
  },
  {
   "cell_type": "code",
   "execution_count": 12,
   "id": "b0c4f87e",
   "metadata": {},
   "outputs": [
    {
     "data": {
      "text/plain": [
       "tuple"
      ]
     },
     "execution_count": 12,
     "metadata": {},
     "output_type": "execute_result"
    }
   ],
   "source": [
    "tup1 = (1,2)\n",
    "type(tup1)"
   ]
  },
  {
   "cell_type": "code",
   "execution_count": 14,
   "id": "aab73a69",
   "metadata": {},
   "outputs": [
    {
     "data": {
      "text/plain": [
       "tuple"
      ]
     },
     "execution_count": 14,
     "metadata": {},
     "output_type": "execute_result"
    }
   ],
   "source": [
    "singleton = (1,)\n",
    "type(singleton)"
   ]
  },
  {
   "cell_type": "code",
   "execution_count": 18,
   "id": "341386ae",
   "metadata": {},
   "outputs": [
    {
     "data": {
      "text/plain": [
       "('hello', 3, [14, 15, 16], True)"
      ]
     },
     "execution_count": 18,
     "metadata": {},
     "output_type": "execute_result"
    }
   ],
   "source": [
    "tup2 = (\"hello\", 3, [14,15,16], True)\n",
    "tup2"
   ]
  },
  {
   "cell_type": "code",
   "execution_count": 26,
   "id": "312f1d2a",
   "metadata": {},
   "outputs": [
    {
     "data": {
      "text/plain": [
       "('hello', 3, [14, 15, 16, 17, 18, 19], True)"
      ]
     },
     "execution_count": 26,
     "metadata": {},
     "output_type": "execute_result"
    }
   ],
   "source": [
    "tup2[2].extend([17,18,19])\n",
    "tup2"
   ]
  },
  {
   "cell_type": "code",
   "execution_count": 48,
   "id": "9d9a2648",
   "metadata": {},
   "outputs": [
    {
     "data": {
      "text/plain": [
       "(('Sam', 'Orlando'), ('Ram', 'Bangalore'), ('Vicki', 'Zimbabwe'))"
      ]
     },
     "execution_count": 48,
     "metadata": {},
     "output_type": "execute_result"
    }
   ],
   "source": [
    "employee_add = ((\"Sam\", \"Orlando\"), (\"Ram\", \"Bangalore\"), (\"Vicki\", \"Zimbabwe\"))\n",
    "employee_add"
   ]
  },
  {
   "cell_type": "code",
   "execution_count": 57,
   "id": "6b301fe3",
   "metadata": {},
   "outputs": [
    {
     "name": "stdout",
     "output_type": "stream",
     "text": [
      "0 ('apples', 2)\n",
      "1 ('oranges', 3)\n",
      "2 ('peach', 20)\n"
     ]
    }
   ],
   "source": [
    "fruits = ((\"apples\", 2), (\"oranges\", 3), (\"peach\", 20))\n",
    "for index,fruit in enumerate(fruits):\n",
    "    print(index,fruit)"
   ]
  },
  {
   "cell_type": "code",
   "execution_count": 58,
   "id": "bcddd131",
   "metadata": {},
   "outputs": [
    {
     "name": "stdout",
     "output_type": "stream",
     "text": [
      "0 hello\n",
      "1 world\n",
      "2 2022\n",
      "3 520\n"
     ]
    }
   ],
   "source": [
    "l1 = [\"hello\", \"world\", 2022, 520]\n",
    "for index, item in enumerate(l1):\n",
    "    print(index, item)"
   ]
  },
  {
   "cell_type": "code",
   "execution_count": 63,
   "id": "125ae319",
   "metadata": {},
   "outputs": [
    {
     "data": {
      "text/plain": [
       "[1, 2, 3, 4, 'a', 'b', 'c', 13.45, 12.22, ('test', 23), 2]"
      ]
     },
     "execution_count": 63,
     "metadata": {},
     "output_type": "execute_result"
    }
   ],
   "source": [
    "l1 = [1,2,3,4, \"a\", \"b\", \"c\", 13.45, 12.22, (\"test\", 23), 2]\n",
    "l1"
   ]
  },
  {
   "cell_type": "markdown",
   "id": "5ff569d9",
   "metadata": {},
   "source": [
    "__Sets__\n",
    "\n",
    "1. A set is an unordered collection with no duplicate elements\n",
    "2. Mutable : A set itself may be modified, but the elements contained in the set must be of an immutable type.\n"
   ]
  },
  {
   "cell_type": "code",
   "execution_count": 66,
   "id": "ae116144",
   "metadata": {},
   "outputs": [
    {
     "data": {
      "text/plain": [
       "{('test', 23), 1, 12.22, 13.45, 2, 3, 4, 'a', 'b', 'c'}"
      ]
     },
     "execution_count": 66,
     "metadata": {},
     "output_type": "execute_result"
    }
   ],
   "source": [
    "set1 = {1,2,3,4, \"a\", \"b\", \"c\", 13.45, 12.22, (\"test\", 23),2}\n",
    "set1"
   ]
  },
  {
   "cell_type": "code",
   "execution_count": 76,
   "id": "e7bbcfa1",
   "metadata": {},
   "outputs": [
    {
     "data": {
      "text/plain": [
       "{'bar', 'baz', 'foo', 'quux', 'qux'}"
      ]
     },
     "execution_count": 76,
     "metadata": {},
     "output_type": "execute_result"
    }
   ],
   "source": [
    "x1 = {'foo', 'bar', 'baz'}\n",
    "x2 = {'baz', 'qux', 'quux'}\n",
    "\n",
    "x1.union(x2)"
   ]
  },
  {
   "cell_type": "code",
   "execution_count": 3,
   "id": "24df318a",
   "metadata": {},
   "outputs": [
    {
     "data": {
      "text/plain": [
       "{'bar', 'baz', 'foo', 'quux', 'qux'}"
      ]
     },
     "execution_count": 3,
     "metadata": {},
     "output_type": "execute_result"
    }
   ],
   "source": [
    "x1 | x2"
   ]
  },
  {
   "cell_type": "code",
   "execution_count": 77,
   "id": "47c09a4a",
   "metadata": {},
   "outputs": [
    {
     "data": {
      "text/plain": [
       "{'baz'}"
      ]
     },
     "execution_count": 77,
     "metadata": {},
     "output_type": "execute_result"
    }
   ],
   "source": [
    "x1 = {'foo', 'bar', 'baz'}\n",
    "x2 = {'baz', 'qux', 'quux'}\n",
    "\n",
    "x1.intersection(x2)\n",
    "\n",
    "\n",
    "x1 & x2"
   ]
  },
  {
   "cell_type": "code",
   "execution_count": 5,
   "id": "690c2ff0",
   "metadata": {},
   "outputs": [
    {
     "data": {
      "text/plain": [
       "{'bar', 'foo'}"
      ]
     },
     "execution_count": 5,
     "metadata": {},
     "output_type": "execute_result"
    }
   ],
   "source": [
    "x1 = {'foo', 'bar', 'baz'}\n",
    "x2 = {'baz', 'qux', 'quux'}\n",
    "\n",
    "x1.difference(x2)\n",
    "\n",
    "\n",
    "x1 - x2"
   ]
  },
  {
   "cell_type": "code",
   "execution_count": 6,
   "id": "0d57a514",
   "metadata": {},
   "outputs": [
    {
     "data": {
      "text/plain": [
       "{1, 2, 3}"
      ]
     },
     "execution_count": 6,
     "metadata": {},
     "output_type": "execute_result"
    }
   ],
   "source": [
    "a = {1, 2, 3, 30, 300}\n",
    "b = {10, 20, 30, 40}\n",
    "c = {100, 200, 300, 400}\n",
    "\n",
    "a.difference(b, c)\n",
    "\n",
    "\n",
    "a - b - c"
   ]
  },
  {
   "cell_type": "code",
   "execution_count": 78,
   "id": "d2224d1c",
   "metadata": {},
   "outputs": [
    {
     "data": {
      "text/plain": [
       "True"
      ]
     },
     "execution_count": 78,
     "metadata": {},
     "output_type": "execute_result"
    }
   ],
   "source": [
    "x1 = {'foo', 'bar', 'baz'}\n",
    "x1.issubset({'foo', 'bar', 'baz', 'qux', 'quux'})\n",
    "\n",
    "\n",
    "# x2 = {'baz', 'qux', 'quux'}\n",
    "# x1 <= x2"
   ]
  },
  {
   "cell_type": "code",
   "execution_count": 97,
   "id": "aea764e0",
   "metadata": {},
   "outputs": [
    {
     "data": {
      "text/plain": [
       "{1, 2, 3, 'bar', 'baz', 'foo', 'quux', 'qux'}"
      ]
     },
     "execution_count": 97,
     "metadata": {},
     "output_type": "execute_result"
    }
   ],
   "source": [
    "s = {'foo', 'bar', 'baz', 'qux', 'quux'}\n",
    "s.update({1,2,3})\n",
    "s"
   ]
  },
  {
   "cell_type": "code",
   "execution_count": 83,
   "id": "fb3872e9",
   "metadata": {},
   "outputs": [
    {
     "data": {
      "text/plain": [
       "{1, 2, 3, 4, 5, 6, 'bar', 'baz', 'foo', 'quux', 'qux'}"
      ]
     },
     "execution_count": 83,
     "metadata": {},
     "output_type": "execute_result"
    }
   ],
   "source": [
    "s |= {4,5,6}\n",
    "s"
   ]
  },
  {
   "cell_type": "code",
   "execution_count": 91,
   "id": "5ce7a8d9",
   "metadata": {},
   "outputs": [],
   "source": [
    "s.discard((15,\"hello\"))"
   ]
  },
  {
   "cell_type": "code",
   "execution_count": 95,
   "id": "a8520dc7",
   "metadata": {},
   "outputs": [
    {
     "data": {
      "text/plain": [
       "set()"
      ]
     },
     "execution_count": 95,
     "metadata": {},
     "output_type": "execute_result"
    }
   ],
   "source": [
    "s.clear()\n",
    "s"
   ]
  },
  {
   "cell_type": "code",
   "execution_count": 98,
   "id": "f3fe20ec",
   "metadata": {},
   "outputs": [
    {
     "data": {
      "text/plain": [
       "8"
      ]
     },
     "execution_count": 98,
     "metadata": {},
     "output_type": "execute_result"
    }
   ],
   "source": [
    "len(s)"
   ]
  },
  {
   "cell_type": "markdown",
   "id": "27f87332",
   "metadata": {},
   "source": [
    "__Dictionaries__\n",
    "\n",
    "1. Mapping type which stores key/value pairs\n",
    "2. keys should be of immutable type while values can be mutable"
   ]
  },
  {
   "cell_type": "code",
   "execution_count": 100,
   "id": "ae851818",
   "metadata": {},
   "outputs": [
    {
     "data": {
      "text/plain": [
       "dict"
      ]
     },
     "execution_count": 100,
     "metadata": {},
     "output_type": "execute_result"
    }
   ],
   "source": [
    "d1 = {\"apples\":2, \"oranges\":20, \"peaches\":12}\n",
    "type(d1)"
   ]
  },
  {
   "cell_type": "code",
   "execution_count": 103,
   "id": "f3214210",
   "metadata": {},
   "outputs": [
    {
     "data": {
      "text/plain": [
       "dict_keys(['apples', 'oranges', 'peaches'])"
      ]
     },
     "execution_count": 103,
     "metadata": {},
     "output_type": "execute_result"
    }
   ],
   "source": [
    "d1.keys()"
   ]
  },
  {
   "cell_type": "code",
   "execution_count": 104,
   "id": "048239f7",
   "metadata": {},
   "outputs": [
    {
     "data": {
      "text/plain": [
       "dict_values([2, 20, 12])"
      ]
     },
     "execution_count": 104,
     "metadata": {},
     "output_type": "execute_result"
    }
   ],
   "source": [
    "d1.values()"
   ]
  },
  {
   "cell_type": "code",
   "execution_count": 110,
   "id": "c3abe213",
   "metadata": {},
   "outputs": [
    {
     "name": "stdout",
     "output_type": "stream",
     "text": [
      "apples 2\n",
      "oranges 20\n",
      "peaches 12\n"
     ]
    }
   ],
   "source": [
    "for key, value in d1.items():\n",
    "    print(key, value)"
   ]
  },
  {
   "cell_type": "code",
   "execution_count": 88,
   "id": "85d1f0d7",
   "metadata": {},
   "outputs": [
    {
     "data": {
      "text/plain": [
       "{'bangalore': (12.456, -90.81), 'london': (-13.67, -20.224)}"
      ]
     },
     "execution_count": 88,
     "metadata": {},
     "output_type": "execute_result"
    }
   ],
   "source": [
    "d2 = {\"bangalore\":(12.456, -90.81), \"london\":(-13.67, -20.224)}\n",
    "d2"
   ]
  },
  {
   "cell_type": "code",
   "execution_count": 2,
   "id": "7410982b",
   "metadata": {},
   "outputs": [
    {
     "data": {
      "text/plain": [
       "(-13.67, -20.224)"
      ]
     },
     "execution_count": 2,
     "metadata": {},
     "output_type": "execute_result"
    }
   ],
   "source": [
    "d2[\"london\"]"
   ]
  },
  {
   "cell_type": "code",
   "execution_count": 89,
   "id": "f2bd859c",
   "metadata": {},
   "outputs": [
    {
     "data": {
      "text/plain": [
       "{'bangalore': (12.456, -90.81),\n",
       " 'london': (-13.67, -20.224),\n",
       " 'chennai': (-90.42, 89.765)}"
      ]
     },
     "execution_count": 89,
     "metadata": {},
     "output_type": "execute_result"
    }
   ],
   "source": [
    "d2[\"chennai\"] = (-90.42, 89.765)\n",
    "d2"
   ]
  },
  {
   "cell_type": "code",
   "execution_count": 4,
   "id": "ecdd5ad9",
   "metadata": {},
   "outputs": [
    {
     "ename": "KeyError",
     "evalue": "'chenna'",
     "output_type": "error",
     "traceback": [
      "\u001b[1;31m---------------------------------------------------------------------------\u001b[0m",
      "\u001b[1;31mKeyError\u001b[0m                                  Traceback (most recent call last)",
      "\u001b[1;32m<ipython-input-4-41cd2d91b2a3>\u001b[0m in \u001b[0;36m<module>\u001b[1;34m\u001b[0m\n\u001b[1;32m----> 1\u001b[1;33m \u001b[0md2\u001b[0m\u001b[1;33m[\u001b[0m\u001b[1;34m\"chenna\"\u001b[0m\u001b[1;33m]\u001b[0m\u001b[1;33m\u001b[0m\u001b[1;33m\u001b[0m\u001b[0m\n\u001b[0m",
      "\u001b[1;31mKeyError\u001b[0m: 'chenna'"
     ]
    }
   ],
   "source": [
    "d2[\"chenna\"]"
   ]
  },
  {
   "cell_type": "code",
   "execution_count": 5,
   "id": "0de279e1",
   "metadata": {},
   "outputs": [],
   "source": [
    "d2.get('chenna')"
   ]
  },
  {
   "cell_type": "code",
   "execution_count": 6,
   "id": "f754a06b",
   "metadata": {},
   "outputs": [
    {
     "data": {
      "text/plain": [
       "{'bangalore': (12.456, -90.81), 'london': (-13.67, -20.224)}"
      ]
     },
     "execution_count": 6,
     "metadata": {},
     "output_type": "execute_result"
    }
   ],
   "source": [
    "del d2[\"chennai\"]\n",
    "d2"
   ]
  },
  {
   "cell_type": "code",
   "execution_count": 7,
   "id": "91d58180",
   "metadata": {},
   "outputs": [
    {
     "ename": "KeyError",
     "evalue": "'chennai'",
     "output_type": "error",
     "traceback": [
      "\u001b[1;31m---------------------------------------------------------------------------\u001b[0m",
      "\u001b[1;31mKeyError\u001b[0m                                  Traceback (most recent call last)",
      "\u001b[1;32m<ipython-input-7-5d362b61900c>\u001b[0m in \u001b[0;36m<module>\u001b[1;34m\u001b[0m\n\u001b[1;32m----> 1\u001b[1;33m \u001b[0md2\u001b[0m\u001b[1;33m.\u001b[0m\u001b[0mpop\u001b[0m\u001b[1;33m(\u001b[0m\u001b[1;34m'chennai'\u001b[0m\u001b[1;33m)\u001b[0m\u001b[1;33m\u001b[0m\u001b[1;33m\u001b[0m\u001b[0m\n\u001b[0m",
      "\u001b[1;31mKeyError\u001b[0m: 'chennai'"
     ]
    }
   ],
   "source": [
    "d2.pop('chennai')"
   ]
  },
  {
   "cell_type": "code",
   "execution_count": 8,
   "id": "e14254ce",
   "metadata": {},
   "outputs": [
    {
     "data": {
      "text/plain": [
       "{'bangalore': (12.456, -90.81), 'london': (-13.67, -20.224)}"
      ]
     },
     "execution_count": 8,
     "metadata": {},
     "output_type": "execute_result"
    }
   ],
   "source": [
    "d2"
   ]
  },
  {
   "cell_type": "code",
   "execution_count": 9,
   "id": "c1299ac9",
   "metadata": {},
   "outputs": [
    {
     "data": {
      "text/plain": [
       "('london', (-13.67, -20.224))"
      ]
     },
     "execution_count": 9,
     "metadata": {},
     "output_type": "execute_result"
    }
   ],
   "source": [
    "d2.popitem()"
   ]
  },
  {
   "cell_type": "code",
   "execution_count": 10,
   "id": "45e97b48",
   "metadata": {},
   "outputs": [
    {
     "data": {
      "text/plain": [
       "{'bangalore': (12.456, -90.81)}"
      ]
     },
     "execution_count": 10,
     "metadata": {},
     "output_type": "execute_result"
    }
   ],
   "source": [
    "d2"
   ]
  },
  {
   "cell_type": "code",
   "execution_count": 11,
   "id": "de67c6b3",
   "metadata": {},
   "outputs": [
    {
     "data": {
      "text/plain": [
       "{'bangalore': (12.456, -90.81)}"
      ]
     },
     "execution_count": 11,
     "metadata": {},
     "output_type": "execute_result"
    }
   ],
   "source": [
    "d2"
   ]
  },
  {
   "cell_type": "code",
   "execution_count": 12,
   "id": "38986f5a",
   "metadata": {},
   "outputs": [
    {
     "data": {
      "text/plain": [
       "{'bangalore': (12.456, -90.81)}"
      ]
     },
     "execution_count": 12,
     "metadata": {},
     "output_type": "execute_result"
    }
   ],
   "source": [
    "d2"
   ]
  },
  {
   "cell_type": "code",
   "execution_count": 13,
   "id": "bf67ab13",
   "metadata": {},
   "outputs": [
    {
     "data": {
      "text/plain": [
       "{'bangalore': (12.456, -90.81), 'venice': (82.33, -10.19)}"
      ]
     },
     "execution_count": 13,
     "metadata": {},
     "output_type": "execute_result"
    }
   ],
   "source": [
    "d2.setdefault(\"venice\", (82.33, -10.19))\n",
    "d2"
   ]
  },
  {
   "cell_type": "code",
   "execution_count": 14,
   "id": "44f478d8",
   "metadata": {},
   "outputs": [],
   "source": [
    "d2.setdefault(\"manhattan\")"
   ]
  },
  {
   "cell_type": "code",
   "execution_count": 15,
   "id": "2a8b1a81",
   "metadata": {},
   "outputs": [
    {
     "data": {
      "text/plain": [
       "{'bangalore': (12.456, -90.81), 'venice': (82.33, -10.19), 'manhattan': None}"
      ]
     },
     "execution_count": 15,
     "metadata": {},
     "output_type": "execute_result"
    }
   ],
   "source": [
    "d2"
   ]
  },
  {
   "cell_type": "code",
   "execution_count": 16,
   "id": "8c14a714",
   "metadata": {},
   "outputs": [],
   "source": [
    "d2.setdefault(\"london\")"
   ]
  },
  {
   "cell_type": "code",
   "execution_count": 17,
   "id": "22d70b84",
   "metadata": {},
   "outputs": [
    {
     "data": {
      "text/plain": [
       "{'bangalore': (-20.23, 42.03),\n",
       " 'venice': (82.33, -10.19),\n",
       " 'manhattan': None,\n",
       " 'london': None}"
      ]
     },
     "execution_count": 17,
     "metadata": {},
     "output_type": "execute_result"
    }
   ],
   "source": [
    "d2.update(bangalore=(-20.23, 42.03))\n",
    "d2"
   ]
  },
  {
   "cell_type": "code",
   "execution_count": 38,
   "id": "7dfc8052",
   "metadata": {},
   "outputs": [
    {
     "data": {
      "text/plain": [
       "{'manhattan': None, 'london': (-90.22, 0.0), 'bangalore': (82.33, -10.19)}"
      ]
     },
     "execution_count": 38,
     "metadata": {},
     "output_type": "execute_result"
    }
   ],
   "source": [
    "london_coords = (\"london\",(-90.22, 0.00))\n",
    "d2.update((london_coords,))\n",
    "d2"
   ]
  },
  {
   "cell_type": "code",
   "execution_count": 37,
   "id": "102b2ae4",
   "metadata": {},
   "outputs": [
    {
     "data": {
      "text/plain": [
       "tuple"
      ]
     },
     "execution_count": 37,
     "metadata": {},
     "output_type": "execute_result"
    }
   ],
   "source": [
    "type((2,))"
   ]
  },
  {
   "cell_type": "code",
   "execution_count": 28,
   "id": "34f6bc76",
   "metadata": {},
   "outputs": [
    {
     "data": {
      "text/plain": [
       "(-20.23, 42.03)"
      ]
     },
     "execution_count": 28,
     "metadata": {},
     "output_type": "execute_result"
    }
   ],
   "source": [
    "d2.pop('bangalore')"
   ]
  },
  {
   "cell_type": "markdown",
   "id": "1749d4cd",
   "metadata": {},
   "source": [
    "1. Comprehensions with dicts and sets\n",
    "2. Frozenset\n",
    "3. Functions\n",
    "4. *args and **kwargs in Python, Tuple Unpacking\n",
    "5. Lambda Expressions, Map, and Filter Functions\n",
    "6. Nested Statements and Scope\n",
    "7. Python Decorators, Generators, and iterators\n",
    "8. Introduction and Pillars of OOP’s, Attributes and Class Keyword, Class Object Attributes and Methods\n",
    "9. Objects and Constructors\n",
    "10. Inheritance, Polymorphism, Encapsulation and Abstraction\n",
    "11. Special Methods\n",
    "12. Working with Files\n",
    "13. Reading and writing files, buffered read and write and other file methods\n",
    "14. Logging and Debugger"
   ]
  },
  {
   "cell_type": "markdown",
   "id": "b196a54b",
   "metadata": {},
   "source": [
    "__Frozenset__\n",
    "\n",
    "Frozensets are immutable set objects. So, once a frozenset is created, it cannot be modified. All common set operations can also be performed on frozensets.\n"
   ]
  },
  {
   "cell_type": "code",
   "execution_count": 42,
   "id": "e97d4fb8",
   "metadata": {},
   "outputs": [
    {
     "name": "stdout",
     "output_type": "stream",
     "text": [
      "frozenset({1, 2, 3, 4})\n",
      "frozenset({1, 2, 3, 4, 5, 6})\n",
      "frozenset({3, 4})\n",
      "frozenset({1, 2})\n"
     ]
    }
   ],
   "source": [
    "A = frozenset([1, 2, 3, 4])\n",
    "B = frozenset([3, 4, 5, 6])\n",
    "\n",
    "# copying a frozenset\n",
    "C = A.copy()  # Output: frozenset({1, 2, 3, 4})\n",
    "print(C)\n",
    "\n",
    "# union\n",
    "print(A.union(B))  # Output: frozenset({1, 2, 3, 4, 5, 6})\n",
    "\n",
    "# intersection\n",
    "print(A.intersection(B))  # Output: frozenset({3, 4})\n",
    "\n",
    "# difference\n",
    "print(A.difference(B))  # Output: frozenset({1, 2})"
   ]
  },
  {
   "cell_type": "code",
   "execution_count": 48,
   "id": "905dddd8",
   "metadata": {},
   "outputs": [
    {
     "name": "stdout",
     "output_type": "stream",
     "text": [
      "True\n",
      "True\n",
      "True\n"
     ]
    }
   ],
   "source": [
    "A = frozenset([1,2,3, 4])\n",
    "C = frozenset([8, 5, 6, 7])\n",
    "B = frozenset([8, 5, 6, 7, 9, 10])\n",
    "\n",
    "# isdisjoint() method\n",
    "print(A.isdisjoint(C))  # Output: True\n",
    "\n",
    "# issubset() method\n",
    "print(C.issubset(B))  # Output: True\n",
    "\n",
    "# issuperset() method\n",
    "print(B.issuperset(C))  # Output: True"
   ]
  },
  {
   "cell_type": "code",
   "execution_count": 49,
   "id": "4e862b94",
   "metadata": {},
   "outputs": [
    {
     "data": {
      "text/plain": [
       "[2, 4, 6, 8]"
      ]
     },
     "execution_count": 49,
     "metadata": {},
     "output_type": "execute_result"
    }
   ],
   "source": [
    "l1 = [i for i in range(1,10) if i%2==0]\n",
    "l1"
   ]
  },
  {
   "cell_type": "code",
   "execution_count": 61,
   "id": "9c7505f6",
   "metadata": {},
   "outputs": [
    {
     "data": {
      "text/plain": [
       "{'Ten': None, 'Twenty': None, 'Thirty': None}"
      ]
     },
     "execution_count": 61,
     "metadata": {},
     "output_type": "execute_result"
    }
   ],
   "source": [
    "#Problem1: Convert two lists into a dictionary\n",
    "\n",
    "keys = ['Ten', 'Twenty', 'Thirty']\n",
    "values = [10, 20, 30]\n",
    "# d1 = {'Ten': 10, 'Twenty': 20, 'Thirty': 30}\n",
    "d1 = {}\n",
    "# d1 = {k:v for k,v in zip(keys, values)}\n",
    "# d1\n",
    "# dict(zip(keys, values))\n",
    "d2 = d1.fromkeys(keys)\n",
    "d2"
   ]
  },
  {
   "cell_type": "code",
   "execution_count": 82,
   "id": "b175279e",
   "metadata": {},
   "outputs": [
    {
     "data": {
      "text/plain": [
       "{'Ten': 10, 'Twenty': 20, 'Thirty': 30, 'Fourty': 40, 'Fifty': 50}"
      ]
     },
     "execution_count": 82,
     "metadata": {},
     "output_type": "execute_result"
    }
   ],
   "source": [
    "#Problem 2: Merge two Python dictionaries into one\n",
    "\n",
    "dict1 = {'Ten': 10, 'Twenty': 20, 'Thirty': 30}\n",
    "dict2 = {'Thirty': 30, 'Fourty': 40, 'Fifty': 50}\n",
    "# dict3 = {'Ten': 10, 'Twenty': 20, 'Thirty': 30, 'Fourty': 40, 'Fifty': 50}\n",
    "\n",
    "#Method1:\n",
    "# temp1 = [(k,v) for k,v in dict1.items()]\n",
    "# temp2 = [(k,v) for k,v in dict2.items()]\n",
    "# temp3 = temp1 + temp2\n",
    "# {k:v for k,v in temp3}\n",
    "# dict(temp3)\n",
    "\n",
    "#Method2:\n",
    "dict3 = {**dict1, **dict2}\n",
    "dict3"
   ]
  },
  {
   "cell_type": "code",
   "execution_count": 84,
   "id": "044a0497",
   "metadata": {},
   "outputs": [
    {
     "data": {
      "text/plain": [
       "[1, 2, 3, 4, 5]"
      ]
     },
     "execution_count": 84,
     "metadata": {},
     "output_type": "execute_result"
    }
   ],
   "source": [
    "l1 = [1,2,3,4,5]\n",
    "l2 = [*l1]\n",
    "l2"
   ]
  },
  {
   "cell_type": "code",
   "execution_count": 65,
   "id": "10c6d0c6",
   "metadata": {},
   "outputs": [
    {
     "data": {
      "text/plain": [
       "[('Ten', 'Thirty'), ('Twenty', 'Fourty'), ('Thirty', 'Fifty')]"
      ]
     },
     "execution_count": 65,
     "metadata": {},
     "output_type": "execute_result"
    }
   ],
   "source": [
    "list(zip(dict1, dict2))"
   ]
  },
  {
   "cell_type": "code",
   "execution_count": 91,
   "id": "ad0ef30d",
   "metadata": {},
   "outputs": [
    {
     "data": {
      "text/plain": [
       "{'shape': 'round', 'price': 500}"
      ]
     },
     "execution_count": 91,
     "metadata": {},
     "output_type": "execute_result"
    }
   ],
   "source": [
    "#Problem 3: Initialize dictionary with default values\n",
    "fruits = ['apple', 'orange']\n",
    "defaults = {\"shape\": 'round', \"price\": 500}\n",
    "\n",
    "d3 = {}\n",
    "d4 = d3.fromkeys(fruits, defaults)\n",
    "d4.pop('apple')"
   ]
  },
  {
   "cell_type": "code",
   "execution_count": 92,
   "id": "f50170b0",
   "metadata": {},
   "outputs": [
    {
     "data": {
      "text/plain": [
       "{'orange': {'shape': 'round', 'price': 500}}"
      ]
     },
     "execution_count": 92,
     "metadata": {},
     "output_type": "execute_result"
    }
   ],
   "source": [
    "d4"
   ]
  },
  {
   "cell_type": "code",
   "execution_count": 90,
   "id": "580cf4a6",
   "metadata": {},
   "outputs": [
    {
     "data": {
      "text/plain": [
       "{'bangalore': (12.456, -90.81),\n",
       " 'london': (-13.67, -20.224),\n",
       " 'chennai': (-90.42, 89.765)}"
      ]
     },
     "execution_count": 90,
     "metadata": {},
     "output_type": "execute_result"
    }
   ],
   "source": [
    "d2"
   ]
  },
  {
   "cell_type": "code",
   "execution_count": 93,
   "id": "5c3c58c0",
   "metadata": {},
   "outputs": [
    {
     "data": {
      "text/plain": [
       "{'london': (-13.67, -20.224),\n",
       " 'chennai': (-90.42, 89.765),\n",
       " 'venice': (12.456, -90.81)}"
      ]
     },
     "execution_count": 93,
     "metadata": {},
     "output_type": "execute_result"
    }
   ],
   "source": [
    "#Problem 4: Rename key of a dictionary\n",
    "#rename bangalore to venice\n",
    "d2['venice'] = d2.pop('bangalore')\n",
    "d2"
   ]
  },
  {
   "cell_type": "code",
   "execution_count": 95,
   "id": "d76a505f",
   "metadata": {},
   "outputs": [
    {
     "data": {
      "text/plain": [
       "{'emp1': {'name': 'Jhon', 'salary': 7500},\n",
       " 'emp2': {'name': 'Emma', 'salary': 8000},\n",
       " 'emp3': {'name': 'Brad', 'salary': 9000}}"
      ]
     },
     "execution_count": 95,
     "metadata": {},
     "output_type": "execute_result"
    }
   ],
   "source": [
    "#Problem 5: Change value of a key in a nested dictionary\n",
    "#change salary for Brad to 9000\n",
    "sample_dict = {\n",
    "    'emp1': {'name': 'Jhon', 'salary': 7500},\n",
    "    'emp2': {'name': 'Emma', 'salary': 8000},\n",
    "    'emp3': {'name': 'Brad', 'salary': 500}\n",
    "}\n",
    "\n",
    "sample_dict['emp3']['salary'] = 9000\n",
    "sample_dict"
   ]
  },
  {
   "cell_type": "code",
   "execution_count": 101,
   "id": "c0123c36",
   "metadata": {},
   "outputs": [
    {
     "data": {
      "text/plain": [
       "'My name is Jolly'"
      ]
     },
     "execution_count": 101,
     "metadata": {},
     "output_type": "execute_result"
    }
   ],
   "source": [
    "#Problem 6: Concatenate two lists index-wise\n",
    "list1 = [\"M\", \"na\", \"i\", \"Jo\"] \n",
    "list2 = [\"y\", \"me\", \"s\", \"lly\"]\n",
    "list3 = [i + j for i, j in zip(list1, list2)]\n",
    "\" \".join(list3)\n",
    "\n",
    "# for i,j in zip(list1, list2):\n",
    "#     print(i+j)"
   ]
  },
  {
   "cell_type": "code",
   "execution_count": 102,
   "id": "86355fa8",
   "metadata": {},
   "outputs": [
    {
     "data": {
      "text/plain": [
       "['hello', 'world', 'is', 'great']"
      ]
     },
     "execution_count": 102,
     "metadata": {},
     "output_type": "execute_result"
    }
   ],
   "source": [
    "#Problem 7: Remove empty strings from the list of strings\n",
    "\n",
    "l = [\"hello\", \"\", \"world\", \"is\", \"great\"]\n",
    "[i for i in l if i!=\"\"]"
   ]
  },
  {
   "cell_type": "code",
   "execution_count": 126,
   "id": "8fbd2e34",
   "metadata": {},
   "outputs": [],
   "source": [
    "#Problem 8: Remove all occurrences of a specific item from a list\n",
    "#Remove 20 from below list\n",
    "\n",
    "list1 = [5, 20, 15, 20, 25, 50, 20]\n",
    "\n",
    "#with list comprehension\n",
    "# list2 = [i for i in list1 if i != 20]\n",
    "\n",
    "#with while loop\n",
    "# while 20 in list1:\n",
    "#     list1.remove(20)\n",
    "    \n",
    "list1.remove(5)"
   ]
  },
  {
   "cell_type": "code",
   "execution_count": 127,
   "id": "61034611",
   "metadata": {},
   "outputs": [
    {
     "data": {
      "text/plain": [
       "[20, 15, 20, 25, 50, 20]"
      ]
     },
     "execution_count": 127,
     "metadata": {},
     "output_type": "execute_result"
    }
   ],
   "source": [
    "list1"
   ]
  },
  {
   "cell_type": "code",
   "execution_count": 105,
   "id": "68215376",
   "metadata": {},
   "outputs": [
    {
     "name": "stdout",
     "output_type": "stream",
     "text": [
      "Two sets have items in common\n",
      "{10}\n"
     ]
    }
   ],
   "source": [
    "#Problem 9: Check if two sets have any elements in common. If yes, display the common elements\n",
    "\n",
    "set1 = {10, 20, 30, 40, 50}\n",
    "set2 = {60, 70, 80, 90, 10}\n",
    "\n",
    "if set1.isdisjoint(set2):\n",
    "    print(\"Two sets have no items in common\")\n",
    "else:\n",
    "    print(\"Two sets have items in common\")\n",
    "    print(set1.intersection(set2))"
   ]
  },
  {
   "cell_type": "code",
   "execution_count": 33,
   "id": "2aedb38d",
   "metadata": {},
   "outputs": [
    {
     "name": "stdout",
     "output_type": "stream",
     "text": [
      "{40, 50, 30}\n"
     ]
    }
   ],
   "source": [
    "#Problem 10: Remove items from set1 that are not common to both set1 and set2\n",
    "set1 = {10, 20, 30, 40, 50}\n",
    "set2 = {30, 40, 50, 60, 70}\n",
    "\n",
    "set1.intersection_update(set2)\n",
    "print(set1)"
   ]
  },
  {
   "cell_type": "code",
   "execution_count": 34,
   "id": "b590564d",
   "metadata": {},
   "outputs": [
    {
     "name": "stdout",
     "output_type": "stream",
     "text": [
      "{70, 40, 10, 50, 20, 60, 30}\n"
     ]
    }
   ],
   "source": [
    "#Problem 11: Get Only unique items from two sets\n",
    "\n",
    "set1 = {10, 20, 30, 40, 50}\n",
    "set2 = {30, 40, 50, 60, 70}\n",
    "\n",
    "print(set1.union(set2))"
   ]
  },
  {
   "cell_type": "code",
   "execution_count": 108,
   "id": "8572b5ee",
   "metadata": {},
   "outputs": [
    {
     "data": {
      "text/plain": [
       "20"
      ]
     },
     "execution_count": 108,
     "metadata": {},
     "output_type": "execute_result"
    }
   ],
   "source": [
    "#Problem 12: Access value 20 from the tuple\n",
    "\n",
    "tuple1 = (\"Orange\", [10, 20, 30], (5, 15, 25))\n",
    "tuple1[1][1]"
   ]
  },
  {
   "cell_type": "code",
   "execution_count": 110,
   "id": "d54696ab",
   "metadata": {},
   "outputs": [
    {
     "name": "stdout",
     "output_type": "stream",
     "text": [
      "10 20 30 40\n"
     ]
    }
   ],
   "source": [
    "#Problem 13: Unpack the tuple into 4 variables\n",
    "tuple1 = (10, 20, 30, 40)\n",
    "a,b,c,d = tuple1\n",
    "print(a,b,c,d)"
   ]
  },
  {
   "cell_type": "code",
   "execution_count": 111,
   "id": "9f579608",
   "metadata": {},
   "outputs": [
    {
     "name": "stdout",
     "output_type": "stream",
     "text": [
      "(99, 88)\n",
      "(11, 22)\n"
     ]
    }
   ],
   "source": [
    "#Problem 14: Swap two tuples in Python\n",
    "tuple1 = (11, 22)\n",
    "tuple2 = (99, 88)\n",
    "\n",
    "a,b = tuple1\n",
    "c,d = tuple2\n",
    "\n",
    "tuple2 = a,b\n",
    "tuple1 = c,d\n",
    "\n",
    "print(tuple1)\n",
    "print(tuple2)\n"
   ]
  },
  {
   "cell_type": "code",
   "execution_count": 115,
   "id": "315bf92a",
   "metadata": {},
   "outputs": [
    {
     "data": {
      "text/plain": [
       "True"
      ]
     },
     "execution_count": 115,
     "metadata": {},
     "output_type": "execute_result"
    }
   ],
   "source": [
    "#Problem 15: Check if all items in the tuple are the same\n",
    "tuple1 = (45, 45, 45, 45)\n",
    "all(i == tuple1[0] for i in tuple1)"
   ]
  },
  {
   "cell_type": "code",
   "execution_count": 116,
   "id": "7ead8382",
   "metadata": {},
   "outputs": [
    {
     "data": {
      "text/plain": [
       "True"
      ]
     },
     "execution_count": 116,
     "metadata": {},
     "output_type": "execute_result"
    }
   ],
   "source": [
    "l = [2,4,6,8,9]\n",
    "\n",
    "any(i%2==0 for i in l)"
   ]
  },
  {
   "cell_type": "code",
   "execution_count": 120,
   "id": "9f42fcad",
   "metadata": {},
   "outputs": [
    {
     "data": {
      "text/plain": [
       "[7, 12, 17, 22, 27, 32, 37, 42, 47, 52, 57, 62, 67, 72, 77, 82, 87, 92, 97]"
      ]
     },
     "execution_count": 120,
     "metadata": {},
     "output_type": "execute_result"
    }
   ],
   "source": [
    "[i+2 for i in range(1,100) if i % 5 == 0]"
   ]
  },
  {
   "cell_type": "code",
   "execution_count": 124,
   "id": "bd32b7bd",
   "metadata": {},
   "outputs": [
    {
     "data": {
      "text/plain": [
       "21"
      ]
     },
     "execution_count": 124,
     "metadata": {},
     "output_type": "execute_result"
    }
   ],
   "source": [
    "l = [1,2,3,4,5,6]\n",
    "result = 0\n",
    "\n",
    "for i in range(len(l)):\n",
    "    result += l[i]\n",
    "result    "
   ]
  },
  {
   "cell_type": "code",
   "execution_count": 130,
   "id": "b05cab9b",
   "metadata": {},
   "outputs": [
    {
     "data": {
      "text/plain": [
       "21"
      ]
     },
     "execution_count": 130,
     "metadata": {},
     "output_type": "execute_result"
    }
   ],
   "source": [
    "t = sum(l)\n",
    "t"
   ]
  },
  {
   "cell_type": "code",
   "execution_count": 134,
   "id": "38f8bfd8",
   "metadata": {},
   "outputs": [
    {
     "data": {
      "text/plain": [
       "3"
      ]
     },
     "execution_count": 134,
     "metadata": {},
     "output_type": "execute_result"
    }
   ],
   "source": [
    "def add(num1, num2):\n",
    "    num3 = num1 + num2\n",
    "    return num3\n",
    "    \n",
    "num4 = add(num1=1,num2=2) \n",
    "num4"
   ]
  },
  {
   "cell_type": "code",
   "execution_count": 22,
   "id": "03bdcf64",
   "metadata": {},
   "outputs": [
    {
     "ename": "NameError",
     "evalue": "name 'f' is not defined",
     "output_type": "error",
     "traceback": [
      "\u001b[1;31m---------------------------------------------------------------------------\u001b[0m",
      "\u001b[1;31mNameError\u001b[0m                                 Traceback (most recent call last)",
      "\u001b[1;32m<ipython-input-22-8526f8d4813a>\u001b[0m in \u001b[0;36m<module>\u001b[1;34m\u001b[0m\n\u001b[0;32m     11\u001b[0m \u001b[1;33m\u001b[0m\u001b[0m\n\u001b[0;32m     12\u001b[0m \u001b[1;33m\u001b[0m\u001b[0m\n\u001b[1;32m---> 13\u001b[1;33m \u001b[0mprint\u001b[0m\u001b[1;33m(\u001b[0m\u001b[0mf\u001b[0m\u001b[1;33m)\u001b[0m\u001b[1;33m\u001b[0m\u001b[1;33m\u001b[0m\u001b[0m\n\u001b[0m",
      "\u001b[1;31mNameError\u001b[0m: name 'f' is not defined"
     ]
    }
   ],
   "source": [
    "#f = c * (9/5) + 32\n",
    "temp = 30 #global\n",
    "\n",
    "def to_fahrenheit(c_temp=37): #argument typings    \n",
    "    f = c_temp * (9/5) + 32 #c_temp is local variable\n",
    "    return f\"Temperature in Fahrenheit: {f} which is a local variable. Global variable is temp: {temp}\" \n",
    "\n",
    "def to_celsius(f_temp):\n",
    "    c = (f_temp-32) * (5/9)\n",
    "    return c, temp\n",
    "\n"
   ]
  },
  {
   "cell_type": "code",
   "execution_count": 26,
   "id": "01e17cce",
   "metadata": {},
   "outputs": [
    {
     "data": {
      "text/plain": [
       "{'user': 'John', 'city': 'London'}"
      ]
     },
     "execution_count": 26,
     "metadata": {},
     "output_type": "execute_result"
    }
   ],
   "source": [
    "user = \"John\" #global\n",
    "\n",
    "def get_city(user_, city=\"London\"):\n",
    "    d = {\"user\": user, \"city\":city}\n",
    "    return d\n",
    "\n",
    "get_city(user_=\"Sam\")\n",
    "\n"
   ]
  },
  {
   "cell_type": "code",
   "execution_count": 141,
   "id": "0950979f",
   "metadata": {},
   "outputs": [],
   "source": [
    "#Calculator\n",
    "import math\n",
    "\n",
    "def add(*args):\n",
    "    return sum([*args])\n",
    "    \n",
    "\n",
    "def subtract(*args):\n",
    "    difference = args[0] - args[1]\n",
    "    return difference\n",
    "\n",
    "def divide(*args):    \n",
    "    return args[0]/args[1]/args[2]\n",
    "\n",
    "def multiply(*args):  \n",
    "    return math.prod(args)\n",
    "\n",
    "def get_percentage(num1):\n",
    "    \n",
    "    return f'{round((num1/100) * 100)}%'\n",
    "\n",
    "def get_remainder(num1, num2):\n",
    "    return num1%num2\n",
    "\n",
    "def power(base, exponent):\n",
    "    return pow(base, exponent)\n",
    "\n"
   ]
  },
  {
   "cell_type": "code",
   "execution_count": 142,
   "id": "5898c3ac",
   "metadata": {},
   "outputs": [
    {
     "data": {
      "text/plain": [
       "[9, 2, 10]"
      ]
     },
     "execution_count": 142,
     "metadata": {},
     "output_type": "execute_result"
    }
   ],
   "source": [
    "# (10,20,30)\n",
    "multiply(9,2,10)\n"
   ]
  },
  {
   "cell_type": "code",
   "execution_count": 57,
   "id": "59f98ae3",
   "metadata": {},
   "outputs": [
    {
     "name": "stdout",
     "output_type": "stream",
     "text": [
      "Found args\n",
      "60\n"
     ]
    }
   ],
   "source": [
    "def get_sum(*args, **kwargs):\n",
    "    if kwargs.get('numbers'):\n",
    "        return sum(kwargs.get('numbers'))\n",
    "    elif args:\n",
    "        print(\"Found args\")\n",
    "        return sum(*args)\n",
    "\n",
    "r = get_sum([10,20,30])\n",
    "print(r)"
   ]
  },
  {
   "cell_type": "code",
   "execution_count": 143,
   "id": "225b9cca",
   "metadata": {},
   "outputs": [
    {
     "data": {
      "text/plain": [
       "(20, 30, 40, 50, 90, 80, 100)"
      ]
     },
     "execution_count": 143,
     "metadata": {},
     "output_type": "execute_result"
    }
   ],
   "source": [
    "def get_args(*args):\n",
    "    return args\n",
    "\n",
    "get_args(20,30,40,50,90,80,100)"
   ]
  },
  {
   "cell_type": "code",
   "execution_count": 145,
   "id": "829fda69",
   "metadata": {},
   "outputs": [
    {
     "data": {
      "text/plain": [
       "{'a': 1, 'b': 2, 'c': 3}"
      ]
     },
     "execution_count": 145,
     "metadata": {},
     "output_type": "execute_result"
    }
   ],
   "source": [
    "def get_kwargs(**kwargs):\n",
    "    return kwargs\n",
    "\n",
    "get_kwargs(a=1,b=2,c=3)"
   ]
  },
  {
   "cell_type": "code",
   "execution_count": 48,
   "id": "29e3e6c3",
   "metadata": {},
   "outputs": [
    {
     "data": {
      "text/plain": [
       "{'a': 10, 'b': 20, 'c': 30, 'e': 40}"
      ]
     },
     "execution_count": 48,
     "metadata": {},
     "output_type": "execute_result"
    }
   ],
   "source": [
    "d = {\"a\":10, \"b\":20, \"c\":30}\n",
    "d.update(e=40)\n",
    "d"
   ]
  },
  {
   "cell_type": "code",
   "execution_count": 54,
   "id": "1fb3f97c",
   "metadata": {},
   "outputs": [
    {
     "data": {
      "text/plain": [
       "40"
      ]
     },
     "execution_count": 54,
     "metadata": {},
     "output_type": "execute_result"
    }
   ],
   "source": [
    "d.get(\"e\")"
   ]
  },
  {
   "cell_type": "code",
   "execution_count": 50,
   "id": "20e32ca2",
   "metadata": {},
   "outputs": [
    {
     "data": {
      "text/plain": [
       "{'a': 10, 'b': 20, 'c': 90, 'e': 40}"
      ]
     },
     "execution_count": 50,
     "metadata": {},
     "output_type": "execute_result"
    }
   ],
   "source": [
    "d.update({\"c\":90})\n",
    "d"
   ]
  },
  {
   "cell_type": "code",
   "execution_count": 55,
   "id": "e9618790",
   "metadata": {},
   "outputs": [
    {
     "data": {
      "text/plain": [
       "60"
      ]
     },
     "execution_count": 55,
     "metadata": {},
     "output_type": "execute_result"
    }
   ],
   "source": [
    "sum([10,20,30])"
   ]
  },
  {
   "cell_type": "code",
   "execution_count": 85,
   "id": "b2e99edb",
   "metadata": {},
   "outputs": [
    {
     "data": {
      "text/plain": [
       "[1, 2, 3]"
      ]
     },
     "execution_count": 85,
     "metadata": {},
     "output_type": "execute_result"
    }
   ],
   "source": [
    "l1 = [1,2,3]\n",
    "l2 = [*l1]\n",
    "l2"
   ]
  },
  {
   "cell_type": "code",
   "execution_count": 147,
   "id": "24410f13",
   "metadata": {},
   "outputs": [
    {
     "ename": "TypeError",
     "evalue": "sum() takes at most 2 arguments (3 given)",
     "output_type": "error",
     "traceback": [
      "\u001b[1;31m---------------------------------------------------------------------------\u001b[0m",
      "\u001b[1;31mTypeError\u001b[0m                                 Traceback (most recent call last)",
      "\u001b[1;32m<ipython-input-147-acb9761c800f>\u001b[0m in \u001b[0;36m<module>\u001b[1;34m\u001b[0m\n\u001b[0;32m      1\u001b[0m \u001b[1;31m# sum(10,20,30)\u001b[0m\u001b[1;33m\u001b[0m\u001b[1;33m\u001b[0m\u001b[1;33m\u001b[0m\u001b[0m\n\u001b[1;32m----> 2\u001b[1;33m \u001b[0msum\u001b[0m\u001b[1;33m(\u001b[0m\u001b[1;33m*\u001b[0m\u001b[1;33m(\u001b[0m\u001b[1;36m10\u001b[0m\u001b[1;33m,\u001b[0m\u001b[1;36m20\u001b[0m\u001b[1;33m,\u001b[0m\u001b[1;36m30\u001b[0m\u001b[1;33m)\u001b[0m\u001b[1;33m)\u001b[0m\u001b[1;33m\u001b[0m\u001b[1;33m\u001b[0m\u001b[0m\n\u001b[0m",
      "\u001b[1;31mTypeError\u001b[0m: sum() takes at most 2 arguments (3 given)"
     ]
    }
   ],
   "source": [
    "# sum(10,20,30)\n",
    "sum(*(10,20,30))"
   ]
  },
  {
   "cell_type": "code",
   "execution_count": 146,
   "id": "b84db6c1",
   "metadata": {},
   "outputs": [],
   "source": [
    "e,f = (10,20)"
   ]
  },
  {
   "cell_type": "code",
   "execution_count": 83,
   "id": "a53cf459",
   "metadata": {},
   "outputs": [
    {
     "data": {
      "text/plain": [
       "10"
      ]
     },
     "execution_count": 83,
     "metadata": {},
     "output_type": "execute_result"
    }
   ],
   "source": [
    "e"
   ]
  },
  {
   "cell_type": "code",
   "execution_count": 84,
   "id": "ad7d145f",
   "metadata": {},
   "outputs": [
    {
     "data": {
      "text/plain": [
       "20"
      ]
     },
     "execution_count": 84,
     "metadata": {},
     "output_type": "execute_result"
    }
   ],
   "source": [
    "f"
   ]
  },
  {
   "cell_type": "code",
   "execution_count": null,
   "id": "012fa851",
   "metadata": {},
   "outputs": [],
   "source": []
  }
 ],
 "metadata": {
  "kernelspec": {
   "display_name": "Python 3",
   "language": "python",
   "name": "python3"
  },
  "language_info": {
   "codemirror_mode": {
    "name": "ipython",
    "version": 3
   },
   "file_extension": ".py",
   "mimetype": "text/x-python",
   "name": "python",
   "nbconvert_exporter": "python",
   "pygments_lexer": "ipython3",
   "version": "3.8.8"
  }
 },
 "nbformat": 4,
 "nbformat_minor": 5
}
