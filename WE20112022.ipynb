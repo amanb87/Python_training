{
 "cells": [
  {
   "cell_type": "markdown",
   "id": "98942212",
   "metadata": {},
   "source": [
    "1. Pylint Overview\n",
    "2. Running tests with the Unittest Library\n",
    "3. Hands On Project – Car Rental System (Database creation andquerying with MySQL)\n",
    "4. GUI development with Tkinter \n",
    "   - Introduction, Components and Events, An Example GUI\n",
    "   - The root Component\n",
    "   - Adding a Button, Entry Widgets, Text Widgets, Check buttons\n",
    "   - Hands on Project – Car Rental System (UI creation and database connectivity created earlier)\n",
    "5. Network programming\n",
    "   - Introduction\n",
    "   - A Daytime Server\n",
    "   - Clients and Servers\n",
    "   - The Client Program\n",
    "   - The Server Program\n",
    "   - Hands On Project – Chat Application (Without UI, only terminal based)   \n",
    "6. Date & Time\n",
    "   - Sleep\n",
    "   - Program execution time\n",
    "   - more methods on date/time\n",
    "   - Hands On Project – Digital and Analog Clock (Tkinter and datetime)\n",
    "7. Regular Expressions\n",
    "   - Split, Working with special characters, date, emails\n",
    "   - Quantifiers\n",
    "   - Match and find all, character sequence and substitute\n",
    "   - Search method\n",
    "   - Hands On Project – Application to check the strong password checker (Tkinter)\n",
    "\n",
    "   \n",
    "   \n"
   ]
  },
  {
   "cell_type": "markdown",
   "id": "db16c75c",
   "metadata": {},
   "source": [
    "__Regular Expressions__(RegEx):\n",
    "\n",
    "Regular expressions are a sequence of characters with highly specialized syntax that are used to match or find other characters or group of characters. They are commonly used in tasks where one needs to find substrings like emails, IP addresses etc. in large strings. In Python, we use the `re` module to work with Regexes. \n",
    "\n",
    "List of metacharacters:\n",
    "\n",
    ". ^ $ * + ? { } [ ] \\ | ( )\n",
    "\n",
    "- `[` and `]`: They’re used for specifying a character class, which is a set of characters that you wish to match. Eg. `[a-c]` matches all lowercase letters from a to c. If you wanted to match only lowercase letters, your RE would be [a-z].\n",
    "- `^` is the complement character which negates the match in the character class. You can match the characters not listed within the class by complementing the set. This is indicated by including a '^' as the first character of the class. For example, [^5] will match any character except '5'. If the caret appears elsewhere in a character class, it does not have special meaning. For example: [5^] will match either a '5' or a '^'. When not used in a character class then it denotes startswith.\n",
    "- the backslash `\\` can be followed by various characters to signal various special sequences. It’s also used to escape all the metacharacters so you can still match them in patterns; for example, if you need to match a `[` or `\\`, you can precede them with a backslash to remove their special meaning: `\\[` or `\\\\`.\n",
    "\n",
    "\\d\n",
    "Matches any decimal digit; this is equivalent to the class [0-9].\n",
    "\n",
    "\\D\n",
    "Matches any non-digit character; this is equivalent to the class [^0-9].\n",
    "\n",
    "\\s\n",
    "Matches any whitespace character; this is equivalent to the class [ \\t\\n\\r\\f\\v].\n",
    "\n",
    "\\S\n",
    "Matches any non-whitespace character; this is equivalent to the class [^ \\t\\n\\r\\f\\v].\n",
    "\n",
    "\\w\n",
    "Matches any alphanumeric character; this is equivalent to the class [a-zA-Z0-9_].\n",
    "\n",
    "\\W\n",
    "Matches any non-alphanumeric character; this is equivalent to the class [^a-zA-Z0-9_].\n",
    "\n",
    "These sequences can be included inside a character class. For example, [\\s,.] is a character class that will match any whitespace character, or ',' or '.'."
   ]
  },
  {
   "cell_type": "code",
   "execution_count": 4,
   "id": "1481d9c8",
   "metadata": {},
   "outputs": [
    {
     "data": {
      "text/plain": [
       "re.compile(r'[a-z]+', re.UNICODE)"
      ]
     },
     "execution_count": 4,
     "metadata": {},
     "output_type": "execute_result"
    }
   ],
   "source": [
    "import re\n",
    "p = re.compile('[a-z]+')\n",
    "p"
   ]
  },
  {
   "cell_type": "code",
   "execution_count": 72,
   "id": "53fdf941",
   "metadata": {},
   "outputs": [
    {
     "name": "stdout",
     "output_type": "stream",
     "text": [
      "None\n"
     ]
    }
   ],
   "source": [
    "d = '^(?=.*[a-z])-(?=.*[A-Z])$'\n",
    "test = \"\"\n",
    "patt = re.compile(d)\n",
    "print(patt.match(test))\n",
    "# print(patt.findall(test))\n"
   ]
  },
  {
   "cell_type": "code",
   "execution_count": 5,
   "id": "6d34f926",
   "metadata": {},
   "outputs": [
    {
     "name": "stdout",
     "output_type": "stream",
     "text": [
      "None\n"
     ]
    }
   ],
   "source": [
    "p.match(\"\")\n",
    "print(p.match(\"\"))"
   ]
  },
  {
   "cell_type": "code",
   "execution_count": 180,
   "id": "688148df",
   "metadata": {},
   "outputs": [
    {
     "data": {
      "text/plain": [
       "<re.Match object; span=(0, 5), match='tempo'>"
      ]
     },
     "execution_count": 180,
     "metadata": {},
     "output_type": "execute_result"
    }
   ],
   "source": [
    "p = re.compile('[a-z]+')\n",
    "m = p.match('tempo')\n",
    "m"
   ]
  },
  {
   "cell_type": "code",
   "execution_count": 8,
   "id": "bce33ece",
   "metadata": {},
   "outputs": [
    {
     "name": "stdout",
     "output_type": "stream",
     "text": [
      "tempo\n",
      "0 5\n",
      "(0, 5)\n"
     ]
    }
   ],
   "source": [
    "print(m.group()) #Return the string matched by the RE\n",
    "\n",
    "print(m.start(), m.end()) #Return the starting and ending position of the match\n",
    "\n",
    "print(m.span()) #Return a tuple containing the (start, end) positions of the match"
   ]
  },
  {
   "cell_type": "markdown",
   "id": "a0ee2366",
   "metadata": {},
   "source": [
    "The `search()` function searches the string for a match, and returns a Match object if there is a match."
   ]
  },
  {
   "cell_type": "code",
   "execution_count": 9,
   "id": "a61cfcd4",
   "metadata": {},
   "outputs": [
    {
     "data": {
      "text/plain": [
       "<re.Match object; span=(0, 17), match='The rain in Spain'>"
      ]
     },
     "execution_count": 9,
     "metadata": {},
     "output_type": "execute_result"
    }
   ],
   "source": [
    "txt = \"The rain in Spain\"\n",
    "x = re.search(\"^The.*Spain$\", txt)\n",
    "x"
   ]
  },
  {
   "cell_type": "markdown",
   "id": "0e9c070f",
   "metadata": {},
   "source": [
    "Repetition operators or quantifiers (*, +, ?, {m,n}, etc) cannot be directly nested. This avoids ambiguity with the non-greedy modifier suffix ?, and with other modifiers in other implementations. To apply a second repetition to an inner repetition, parentheses may be used. For example, the expression (?:a{6})* matches any multiple of six 'a' characters."
   ]
  },
  {
   "cell_type": "code",
   "execution_count": null,
   "id": "40b99891",
   "metadata": {},
   "outputs": [],
   "source": [
    "s = \"This is Python course 101. The student email address is abc@xyz.com\"\n"
   ]
  },
  {
   "cell_type": "code",
   "execution_count": null,
   "id": "7b3cd7b6",
   "metadata": {},
   "outputs": [],
   "source": []
  },
  {
   "cell_type": "code",
   "execution_count": null,
   "id": "6fc0fc20",
   "metadata": {},
   "outputs": [],
   "source": []
  },
  {
   "cell_type": "code",
   "execution_count": 181,
   "id": "223377e5",
   "metadata": {},
   "outputs": [
    {
     "data": {
      "text/plain": [
       "re.compile(r'^(?=.*[a-z])(?=.*[A-Z])(?=.*\\d)(?=.*[@$!%*#?&])[A-Za-z\\d@$!#%*?&]{8,10}$',\n",
       "re.UNICODE)"
      ]
     },
     "execution_count": 181,
     "metadata": {},
     "output_type": "execute_result"
    }
   ],
   "source": [
    "reg = '^(?=.*[a-z])(?=.*[A-Z])(?=.*\\d)(?=.*[@$!%*#?&])[A-Za-z\\d@$!#%*?&]{8,10}$'\n",
    "g = re.compile(reg)\n",
    "g"
   ]
  },
  {
   "cell_type": "code",
   "execution_count": 182,
   "id": "8248080d",
   "metadata": {},
   "outputs": [
    {
     "name": "stdout",
     "output_type": "stream",
     "text": [
      "10\n",
      "<re.Match object; span=(0, 10), match='UG%D9FGHRx'>\n"
     ]
    }
   ],
   "source": [
    "# pw = \"adsE83&!\"\n",
    "pw = \"UG%D9FGHRx\"\n",
    "print(len(pw))\n",
    "# print(re.search(g,pw))\n",
    "print(g.match(pw))"
   ]
  },
  {
   "cell_type": "markdown",
   "id": "a28ac34e",
   "metadata": {},
   "source": [
    "- Should have at least one number.\n",
    "- Should have at least one uppercase and one lowercase character.\n",
    "- Should have at least one special symbol.\n",
    "- Should be between 6 to 20 characters long."
   ]
  },
  {
   "cell_type": "code",
   "execution_count": 179,
   "id": "8bceb1cd",
   "metadata": {},
   "outputs": [
    {
     "name": "stdout",
     "output_type": "stream",
     "text": [
      "10\n",
      "Invalid password: wfTwebQFHQ\n"
     ]
    }
   ],
   "source": [
    "import random\n",
    "import string\n",
    "import re\n",
    "\n",
    "password_length = 1\n",
    "password = \"\"\n",
    "character_list = string.ascii_letters + string.digits\n",
    "reg = \"^(?=.*[a-z])(?=.*[A-Z])(?=.*\\d)[A-Za-z\\d]{8,10}$\"\n",
    "\n",
    "\n",
    "while(password_length == 8 or password_length <= 10):    \n",
    "    rand = random.choice(character_list) #randomly choose element from character list\n",
    "    password += rand\n",
    "    password_length += 1 \n",
    "    \n",
    "print(len(password))\n",
    "p = re.compile(reg)\n",
    "if(p.match(password)):\n",
    "    print(f\"Valid password: {password}\")\n",
    "else:\n",
    "    print(f\"Invalid password: {password}\")"
   ]
  },
  {
   "cell_type": "code",
   "execution_count": 110,
   "id": "b1cb9a50",
   "metadata": {},
   "outputs": [
    {
     "name": "stdout",
     "output_type": "stream",
     "text": [
      "hello\n"
     ]
    }
   ],
   "source": [
    "print(\"hello\")"
   ]
  },
  {
   "cell_type": "code",
   "execution_count": 15,
   "id": "e565649d",
   "metadata": {},
   "outputs": [
    {
     "data": {
      "text/plain": [
       "{'error': {'message': TypeError('can only concatenate str (not \"int\") to str'),\n",
       "  'type': 'TypeError',\n",
       "  'file': '<ipython-input-15-c04c393d1176>',\n",
       "  'linenum': 4}}"
      ]
     },
     "execution_count": 15,
     "metadata": {},
     "output_type": "execute_result"
    }
   ],
   "source": [
    "def error_handler(func):\n",
    "    def wrapper(*args, **kwargs):\n",
    "        try:\n",
    "            func(*args, **kwargs)\n",
    "        except Exception as e:\n",
    "#             print(e)\n",
    "            return {\"error\":{\"message\":e, \"type\":type(e).__name__, \"file\":e.__traceback__.tb_frame.f_code.co_filename, \"linenum\":e.__traceback__.tb_lineno}}\n",
    "    return wrapper  \n",
    "\n",
    "@error_handler\n",
    "def hello(**kwargs):    \n",
    "    if kwargs.get('error'):\n",
    "        print(kwargs.get('error'))\n",
    "    if 3 > 4:\n",
    "        return \"awesome\"\n",
    "    elif 4>3:\n",
    "        return 'a' + 5\n",
    "    \n",
    "    \n",
    "hello()    "
   ]
  },
  {
   "cell_type": "code",
   "execution_count": null,
   "id": "1cc9ef53",
   "metadata": {},
   "outputs": [],
   "source": []
  },
  {
   "cell_type": "code",
   "execution_count": null,
   "id": "b607ab2f",
   "metadata": {},
   "outputs": [],
   "source": []
  },
  {
   "cell_type": "code",
   "execution_count": null,
   "id": "a5ec2de8",
   "metadata": {},
   "outputs": [],
   "source": []
  },
  {
   "cell_type": "code",
   "execution_count": null,
   "id": "111b9f20",
   "metadata": {},
   "outputs": [],
   "source": []
  },
  {
   "cell_type": "code",
   "execution_count": 2,
   "id": "5b9baee5",
   "metadata": {},
   "outputs": [
    {
     "name": "stderr",
     "output_type": "stream",
     "text": [
      "ERROR: Could not find a version that satisfies the requirement tkinter\n",
      "ERROR: No matching distribution found for tkinter\n"
     ]
    }
   ],
   "source": [
    "!pip install tkinter"
   ]
  },
  {
   "cell_type": "markdown",
   "id": "ea5f520d",
   "metadata": {},
   "source": [
    "Tkinter resources:\n",
    "- tk and ttk commands, official documentation from tcl: https://www.tcl.tk/man/tcl8.7/TkCmd/index.html\n",
    "- Python tkinter official documentation: https://docs.python.org/3/library/tk.html"
   ]
  },
  {
   "cell_type": "code",
   "execution_count": 14,
   "id": "ce8a4dcf",
   "metadata": {},
   "outputs": [],
   "source": [
    "import tkinter as tk\n",
    "\n",
    "class Application(tk.Frame): \n",
    "    \n",
    "    def __init__(self, master=None):\n",
    "        tk.Frame.__init__(self, master)   \n",
    "        self.grid()   \n",
    "        self.master.title('Sample application')\n",
    "        self.createWidgets()\n",
    "\n",
    "    def createWidgets(self):\n",
    "        self.quitButton = tk.Button(self, text='Quit', underline=0,width=10,\n",
    "            command=self.quit)            \n",
    "        self.quitButton.grid()            \n",
    "\n",
    "app = Application()                       \n",
    "# app.master.title('Sample application')    \n",
    "app.mainloop()"
   ]
  },
  {
   "cell_type": "code",
   "execution_count": 13,
   "id": "c84c3d7f",
   "metadata": {},
   "outputs": [],
   "source": [
    "from tkinter import *\n",
    "from tkinter import ttk\n",
    "root = Tk()\n",
    "# root.title(\"Hello World\")\n",
    "frm = ttk.Frame(root, padding=10)\n",
    "frm.grid()\n",
    "# root.master.title(\"Student Admission Portal\")\n",
    "ttk.Label(frm, text=\"Student Admission Portal\", ).grid(column=1, row=0)\n",
    "ttk.Button(frm, text=\"Quit\", command=root.destroy).grid(column=1, row=0)\n",
    "\n",
    "root.mainloop()"
   ]
  },
  {
   "cell_type": "code",
   "execution_count": 42,
   "id": "ce87b061",
   "metadata": {},
   "outputs": [
    {
     "name": "stdout",
     "output_type": "stream",
     "text": [
      "First Name is: John. Last Name is: Smith\n"
     ]
    }
   ],
   "source": [
    "import tkinter as tk\n",
    "from tkinter import ttk\n",
    "import psycopg2\n",
    "\n",
    "con = psycopg2.connect(host=\"localhost\", database=\"Student_DB\", user=\"postgres\", password=\"root\")\n",
    "\n",
    "cur = con.cursor()\n",
    "\n",
    "class Application(ttk.Frame):\n",
    "    def __init__(self, master=None):\n",
    "        super().__init__(master)\n",
    "        self.master = master\n",
    "        self.master.title(\"Student Admission Portal\")\n",
    "        self.grid()\n",
    "        self.firstNameVar = tk.StringVar()\n",
    "        self.lastNameVar = tk.StringVar()\n",
    "        self.create_widgets()\n",
    "\n",
    "    def create_widgets(self):\n",
    "        self.lblheader = ttk.Label(self, text=\"ABC School Admission Application\", font=(\"Arial\", 25))\n",
    "        self.lblheader.grid(column=1, row=0)\n",
    "        \n",
    "        self.lblFirstName = ttk.Label(self, text=\"First Name\", font=(\"Arial\", 10))\n",
    "        self.lblFirstName.grid(column=0, row=1)\n",
    "        self.inputFirstName = ttk.Entry(self, font=(\"Arial\", 10), textvariable=self.firstNameVar)\n",
    "        self.inputFirstName.grid(column=1, row=1)\n",
    "        \n",
    "        self.lblLastName = ttk.Label(self, text=\"Last Name\", font=(\"Arial\", 10))\n",
    "        self.lblLastName.grid(column=0, row=2)\n",
    "        \n",
    "        self.inputLastName = ttk.Entry(self, font=(\"Arial\", 10), textvariable=self.lastNameVar)\n",
    "        self.inputLastName.grid(column=1, row=2)\n",
    "        \n",
    "        self.submitbtn = ttk.Button(self, text=\"Submit\", command=self.showvarvals)\n",
    "        self.submitbtn.grid(column=1, row=3)\n",
    "        \n",
    "        self.quit = ttk.Button(self, text=\"QUIT\", command=self.master.destroy)\n",
    "        self.quit.grid(column=2, row=3)\n",
    "        \n",
    "    def showvarvals(self):\n",
    "        print(f\"First Name is: {self.firstNameVar.get()}. Last Name is: {self.lastNameVar.get()}\")\n",
    "\n",
    "#     def insert_new_student(self,first_name, last_name,age,username,pswd,gender,school_name):\n",
    "#         sql = \"INSERT INTO student(first_name, last_name, age, username, pswd, gender, school_name) VALUES(%s, %s, %s, %s, %s, %s, %s);\"\n",
    "#         cur.execute(sql, (first_name, last_name,age,username,pswd,gender,school_name))\n",
    "#         rows = get_all_students()\n",
    "#         con.commit()\n",
    "\n",
    "root = tk.Tk()\n",
    "root.geometry(\"800x480\")\n",
    "app = Application(master=root)\n",
    "app.mainloop()"
   ]
  },
  {
   "cell_type": "code",
   "execution_count": 43,
   "id": "4791f2dd",
   "metadata": {},
   "outputs": [
    {
     "name": "stdout",
     "output_type": "stream",
     "text": [
      "Collecting tkcalendar\n",
      "  Downloading tkcalendar-1.6.1-py3-none-any.whl (40 kB)\n",
      "Requirement already satisfied: babel in d:\\anaconda3\\lib\\site-packages (from tkcalendar) (2.9.0)\n",
      "Requirement already satisfied: pytz>=2015.7 in d:\\anaconda3\\lib\\site-packages (from babel->tkcalendar) (2021.1)\n",
      "Installing collected packages: tkcalendar\n",
      "Successfully installed tkcalendar-1.6.1\n"
     ]
    }
   ],
   "source": [
    "!pip install tkcalendar"
   ]
  },
  {
   "cell_type": "code",
   "execution_count": 2,
   "id": "1f149573",
   "metadata": {},
   "outputs": [
    {
     "data": {
      "text/plain": [
       "('winnative', 'clam', 'alt', 'default', 'classic', 'vista', 'xpnative')"
      ]
     },
     "execution_count": 2,
     "metadata": {},
     "output_type": "execute_result"
    }
   ],
   "source": [
    "from tkinter import ttk\n",
    "s = ttk.Style()\n",
    "s.theme_names()"
   ]
  },
  {
   "cell_type": "code",
   "execution_count": 18,
   "id": "dc27cac7",
   "metadata": {},
   "outputs": [
    {
     "name": "stdout",
     "output_type": "stream",
     "text": [
      "TButton\n"
     ]
    }
   ],
   "source": [
    "import tkinter as tk\n",
    "from tkinter import ttk\n",
    "root = tk.Tk()\n",
    "button = ttk.Button(root)\n",
    "print(button.winfo_class())"
   ]
  },
  {
   "cell_type": "code",
   "execution_count": 19,
   "id": "c8caa727",
   "metadata": {},
   "outputs": [
    {
     "data": {
      "text/plain": [
       "(1, 2)"
      ]
     },
     "execution_count": 19,
     "metadata": {},
     "output_type": "execute_result"
    }
   ],
   "source": [
    "1,2"
   ]
  },
  {
   "cell_type": "code",
   "execution_count": 29,
   "id": "3dfbfd57",
   "metadata": {},
   "outputs": [
    {
     "name": "stdout",
     "output_type": "stream",
     "text": [
      "Helllo World\n"
     ]
    }
   ],
   "source": [
    "from tkinter import *\n",
    "# from tkinter import ttk\n",
    "root = Tk()\n",
    "frm = tk.Frame(root)\n",
    "var = StringVar()\n",
    "frm.grid()\n",
    "\n",
    "def get_value():\n",
    "    print(var.get())\n",
    "    \n",
    "tk.Entry(frm, textvariable=var).grid(column=0, row=0)\n",
    "tk.Button(frm, text=\"Get Value\", command=get_value).grid(column=1, row=0)\n",
    "\n",
    "\n",
    "\n",
    "root.mainloop()"
   ]
  },
  {
   "cell_type": "code",
   "execution_count": 30,
   "id": "4a4fac90",
   "metadata": {},
   "outputs": [],
   "source": [
    "import datetime"
   ]
  },
  {
   "cell_type": "code",
   "execution_count": 31,
   "id": "1a8766da",
   "metadata": {},
   "outputs": [
    {
     "data": {
      "text/plain": [
       "datetime.timedelta(days=64, seconds=29156, microseconds=10)"
      ]
     },
     "execution_count": 31,
     "metadata": {},
     "output_type": "execute_result"
    }
   ],
   "source": [
    "from datetime import timedelta\n",
    "delta = timedelta(\n",
    "    days=50,\n",
    "    seconds=27,\n",
    "    microseconds=10,\n",
    "    milliseconds=29000,\n",
    "    minutes=5,\n",
    "    hours=8,\n",
    "    weeks=2\n",
    ")\n",
    "\n",
    "delta"
   ]
  },
  {
   "cell_type": "code",
   "execution_count": 35,
   "id": "f1aca75a",
   "metadata": {},
   "outputs": [
    {
     "data": {
      "text/plain": [
       "datetime.datetime(2022, 11, 20, 19, 43, 58, 379486)"
      ]
     },
     "execution_count": 35,
     "metadata": {},
     "output_type": "execute_result"
    }
   ],
   "source": [
    "start = datetime.datetime.now()\n",
    "start"
   ]
  },
  {
   "cell_type": "code",
   "execution_count": 36,
   "id": "f8198aec",
   "metadata": {},
   "outputs": [
    {
     "data": {
      "text/plain": [
       "datetime.datetime(2022, 11, 20, 19, 44, 10, 611798)"
      ]
     },
     "execution_count": 36,
     "metadata": {},
     "output_type": "execute_result"
    }
   ],
   "source": [
    "end = datetime.datetime.now()\n",
    "end"
   ]
  },
  {
   "cell_type": "code",
   "execution_count": 38,
   "id": "76e2e1de",
   "metadata": {},
   "outputs": [
    {
     "data": {
      "text/plain": [
       "12"
      ]
     },
     "execution_count": 38,
     "metadata": {},
     "output_type": "execute_result"
    }
   ],
   "source": [
    "(end - start).seconds"
   ]
  },
  {
   "cell_type": "code",
   "execution_count": 53,
   "id": "b1fd120e",
   "metadata": {},
   "outputs": [
    {
     "data": {
      "text/plain": [
       "'Sun, 20 Nov 2022 14:24:33 +0000'"
      ]
     },
     "execution_count": 53,
     "metadata": {},
     "output_type": "execute_result"
    }
   ],
   "source": [
    "from time import localtime, strftime\n",
    "strftime(\"%a, %d %b %Y %H:%M:%S +0000\", gmtime())"
   ]
  },
  {
   "cell_type": "code",
   "execution_count": 54,
   "id": "6b9383cd",
   "metadata": {},
   "outputs": [
    {
     "data": {
      "text/plain": [
       "'Sun, 20 Nov 2022 19:54:46 +0000'"
      ]
     },
     "execution_count": 54,
     "metadata": {},
     "output_type": "execute_result"
    }
   ],
   "source": [
    "strftime(\"%a, %d %b %Y %H:%M:%S +0000\", localtime())"
   ]
  },
  {
   "cell_type": "code",
   "execution_count": 57,
   "id": "d53961d6",
   "metadata": {},
   "outputs": [
    {
     "data": {
      "text/plain": [
       "'Mon, 21 Sep 1987 00:00:00 +0000'"
      ]
     },
     "execution_count": 57,
     "metadata": {},
     "output_type": "execute_result"
    }
   ],
   "source": [
    "import time\n",
    "s = time.strptime(\"21 Sep 87\", \"%d %b %y\") \n",
    "strftime(\"%a, %d %b %Y %H:%M:%S +0000\", s)"
   ]
  },
  {
   "cell_type": "code",
   "execution_count": null,
   "id": "2a862722",
   "metadata": {},
   "outputs": [],
   "source": []
  }
 ],
 "metadata": {
  "kernelspec": {
   "display_name": "Python 3",
   "language": "python",
   "name": "python3"
  },
  "language_info": {
   "codemirror_mode": {
    "name": "ipython",
    "version": 3
   },
   "file_extension": ".py",
   "mimetype": "text/x-python",
   "name": "python",
   "nbconvert_exporter": "python",
   "pygments_lexer": "ipython3",
   "version": "3.8.8"
  }
 },
 "nbformat": 4,
 "nbformat_minor": 5
}
